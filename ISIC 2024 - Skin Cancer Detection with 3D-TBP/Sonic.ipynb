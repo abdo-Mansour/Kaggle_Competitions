{
 "cells": [
  {
   "cell_type": "code",
   "execution_count": 1,
   "id": "15a3b3be-79b3-4479-8ff2-161f2e3de6c4",
   "metadata": {},
   "outputs": [],
   "source": [
    "import os\n",
    "import cv2\n",
    "import torch\n",
    "from torch.utils.data import Dataset, DataLoader\n",
    "from joblib import Parallel, delayed\n",
    "from PIL import Image\n",
    "import numpy as np"
   ]
  },
  {
   "cell_type": "code",
   "execution_count": 2,
   "id": "dce7923e-5cb7-44b2-bc66-dc779f813ea4",
   "metadata": {},
   "outputs": [],
   "source": [
    "import torch.nn as nn\n",
    "import torch\n",
    "from torch.utils.data import random_split, Dataset, DataLoader\n",
    "from torchvision import datasets, transforms\n",
    "from fastbook import *"
   ]
  },
  {
   "cell_type": "code",
   "execution_count": 3,
   "id": "85cfe097-3424-4a44-8a4f-4f7c56df094a",
   "metadata": {},
   "outputs": [
    {
     "name": "stdout",
     "output_type": "stream",
     "text": [
      "Using cuda device\n"
     ]
    }
   ],
   "source": [
    "device = (\n",
    "    \"cuda\"\n",
    "    if torch.cuda.is_available()\n",
    "    else \"mps\"\n",
    "    if torch.backends.mps.is_available()\n",
    "    else \"cpu\"\n",
    ")\n",
    "print(f\"Using {device} device\")"
   ]
  },
  {
   "cell_type": "markdown",
   "id": "847f3881-4d16-4a9e-a04d-9d3da8472e25",
   "metadata": {},
   "source": [
    "# Download the datatset"
   ]
  },
  {
   "cell_type": "code",
   "execution_count": null,
   "id": "d44af7b5-8b87-4013-bc00-d7b7f7803cf6",
   "metadata": {},
   "outputs": [],
   "source": [
    "cats = 'bird', 'forest'\n",
    "path = Path('dataset')"
   ]
  },
  {
   "cell_type": "code",
   "execution_count": null,
   "id": "189d11e8-17f5-4e50-89a6-602f79d0b35e",
   "metadata": {},
   "outputs": [],
   "source": [
    "if not path.exists():\n",
    "    path.mkdir(exist_ok=True)\n",
    "    for c in cats:\n",
    "        dest = (path/c)\n",
    "        dest.mkdir(exist_ok=True)\n",
    "        results = search_images_ddg(f'{c} photo')\n",
    "        download_images(dest, urls=results[:200])\n",
    "        resize_image(dest, max_size=400, dest=dest)"
   ]
  },
  {
   "cell_type": "code",
   "execution_count": null,
   "id": "ee3f31df-7053-4c35-bf6f-cf1860530fb4",
   "metadata": {},
   "outputs": [],
   "source": [
    "failed = verify_images(get_image_files(path))\n",
    "failed"
   ]
  },
  {
   "cell_type": "code",
   "execution_count": null,
   "id": "8bcbe3db-0a95-4dc7-8ad4-644b0d042f77",
   "metadata": {},
   "outputs": [],
   "source": [
    "failed.map(Path.unlink)"
   ]
  },
  {
   "cell_type": "markdown",
   "id": "20fa2195-af56-4f55-ba77-526bf0647a5b",
   "metadata": {},
   "source": [
    "# ----------------------------------------------------------------"
   ]
  },
  {
   "cell_type": "code",
   "execution_count": 4,
   "id": "b781f1ec-9a1b-46b7-a019-515de6f20741",
   "metadata": {},
   "outputs": [],
   "source": [
    "path = Path('dataset')"
   ]
  },
  {
   "cell_type": "code",
   "execution_count": 5,
   "id": "adaeb982-1f5a-483d-a94f-e19e4ed154a5",
   "metadata": {},
   "outputs": [],
   "source": [
    "ds = datasets.ImageFolder(path)"
   ]
  },
  {
   "cell_type": "code",
   "execution_count": 6,
   "id": "5e0f9b8e-093f-4709-b404-eb2456f854fb",
   "metadata": {},
   "outputs": [],
   "source": [
    "train_ds, valid_ds = random_split(ds, [0.8, 0.2])"
   ]
  },
  {
   "cell_type": "code",
   "execution_count": 7,
   "id": "5b52e4e4-db2e-4b76-80bf-09e9e7fb2743",
   "metadata": {},
   "outputs": [],
   "source": [
    "class CustomDataset(Dataset):\n",
    "    def __init__(self, dataset):\n",
    "        self.dataset = dataset\n",
    "        \n",
    "    def __len__(self, ):\n",
    "        return len(self.dataset)\n",
    "        \n",
    "    def __getitem__(self, idx):\n",
    "        image, label = self.dataset[idx]\n",
    "        image = np.array(image)\n",
    "        image = cv2.cvtColor(image, cv2.COLOR_BGR2RGB)\n",
    "        image = cv2.resize(image, (224, 224), interpolation=cv2.INTER_LINEAR)\n",
    "        image = image / 255.0\n",
    "        return torch.tensor(image, dtype=torch.float).permute(2, 0, 1), label"
   ]
  },
  {
   "cell_type": "code",
   "execution_count": 8,
   "id": "f877e6e1-a970-4af1-8da6-9c6287c300b2",
   "metadata": {},
   "outputs": [],
   "source": [
    "training_dataset = CustomDataset(train_ds)\n",
    "validation_dataset = CustomDataset(valid_ds)"
   ]
  },
  {
   "cell_type": "code",
   "execution_count": 9,
   "id": "dc424b20-ceec-4f41-bb56-6c49c05261a3",
   "metadata": {},
   "outputs": [
    {
     "data": {
      "text/plain": [
       "(tensor([[[0.0392, 0.0510, 0.0000,  ..., 0.0510, 0.0706, 0.0902],\n",
       "          [0.0000, 0.0039, 0.1451,  ..., 0.0000, 0.0392, 0.0118],\n",
       "          [0.0706, 0.0353, 0.0824,  ..., 0.0000, 0.1569, 0.0000],\n",
       "          ...,\n",
       "          [0.0039, 0.0000, 0.0118,  ..., 0.0588, 0.0000, 0.0510],\n",
       "          [0.0078, 0.0000, 0.0000,  ..., 0.0000, 0.0000, 0.0314],\n",
       "          [0.0235, 0.1098, 0.0000,  ..., 0.0118, 0.0000, 0.0549]],\n",
       " \n",
       "         [[0.6078, 0.5843, 0.3333,  ..., 0.4784, 0.4627, 0.5608],\n",
       "          [0.4431, 0.7020, 0.6039,  ..., 0.1961, 0.5020, 0.3608],\n",
       "          [0.5922, 0.6235, 0.6118,  ..., 0.1569, 0.5686, 0.4275],\n",
       "          ...,\n",
       "          [0.2902, 0.2941, 0.1373,  ..., 0.0549, 0.0000, 0.1176],\n",
       "          [0.3176, 0.3020, 0.1608,  ..., 0.0196, 0.0039, 0.0549],\n",
       "          [0.2078, 0.2980, 0.0588,  ..., 0.0039, 0.0000, 0.1255]],\n",
       " \n",
       "         [[0.9922, 0.9451, 0.7333,  ..., 0.9412, 0.9412, 0.9686],\n",
       "          [0.7961, 1.0000, 0.9804,  ..., 0.5255, 0.9059, 0.8549],\n",
       "          [0.9804, 0.9765, 0.9765,  ..., 0.4824, 0.9922, 0.9137],\n",
       "          ...,\n",
       "          [0.4706, 0.4824, 0.2745,  ..., 0.3216, 0.0863, 0.4039],\n",
       "          [0.5020, 0.4627, 0.3608,  ..., 0.2078, 0.2196, 0.3333],\n",
       "          [0.4824, 0.5137, 0.3176,  ..., 0.2314, 0.3216, 0.4588]]]),\n",
       " 1)"
      ]
     },
     "execution_count": 9,
     "metadata": {},
     "output_type": "execute_result"
    }
   ],
   "source": [
    "training_dataset[1]"
   ]
  },
  {
   "cell_type": "code",
   "execution_count": 10,
   "id": "afacd46e-fb26-4fb1-954a-2aab35a97102",
   "metadata": {},
   "outputs": [],
   "source": [
    "# Updated parallel function\n",
    "def parallel_load_and_preprocess(dataset, indices):\n",
    "    return Parallel(n_jobs=-1)(\n",
    "        delayed(dataset.__getitem__)(idx) for idx in indices\n",
    "    )"
   ]
  },
  {
   "cell_type": "code",
   "execution_count": 11,
   "id": "c58d43d7-0fd4-4e8f-a470-275a595d8b7d",
   "metadata": {},
   "outputs": [],
   "source": [
    "# Use parallel processing on a subset of indices\n",
    "indices = range(len(training_dataset))  # or any specific subset\n",
    "processed_data = parallel_load_and_preprocess(training_dataset, indices)"
   ]
  },
  {
   "cell_type": "code",
   "execution_count": 12,
   "id": "b7ee96f4-9d74-4096-990b-4833c4677eb2",
   "metadata": {},
   "outputs": [],
   "source": [
    "indices = range(len(validation_dataset))  # or any specific subset\n",
    "processed_val_data = parallel_load_and_preprocess(validation_dataset, indices)"
   ]
  },
  {
   "cell_type": "code",
   "execution_count": 13,
   "id": "788e51ee-58db-4ed8-991a-6ee535ce0d05",
   "metadata": {},
   "outputs": [],
   "source": [
    "training_dataloader = DataLoader(processed_data, batch_size=32, shuffle=True, num_workers=4)"
   ]
  },
  {
   "cell_type": "code",
   "execution_count": 14,
   "id": "825b6df7-6070-4613-ab1b-16d46d948464",
   "metadata": {},
   "outputs": [],
   "source": [
    "validation_dataloader = DataLoader(processed_val_data, batch_size=16, shuffle=False, num_workers=4)"
   ]
  },
  {
   "cell_type": "code",
   "execution_count": 16,
   "id": "fc4ac4b2-e88e-4b76-b784-adeb784f5ca2",
   "metadata": {},
   "outputs": [],
   "source": [
    "import torch.nn as nn\n",
    "import torch.optim as optim"
   ]
  },
  {
   "cell_type": "code",
   "execution_count": 15,
   "id": "a94a8224-aebf-4675-834e-6e70a066f938",
   "metadata": {},
   "outputs": [],
   "source": [
    "# Define your model (example: a simple CNN)\n",
    "class SimpleCNN(nn.Module):\n",
    "    def __init__(self):\n",
    "        super(SimpleCNN, self).__init__()\n",
    "        self.conv1 = nn.Conv2d(3, 16, kernel_size=3, stride=1, padding=1)\n",
    "        self.pool = nn.MaxPool2d(kernel_size=2, stride=2, padding=0)\n",
    "        self.fc1 = nn.Linear(16 * 112 * 112, 10)  # Adjust the output size\n",
    "\n",
    "    def forward(self, x):\n",
    "        x = self.pool(F.relu(self.conv1(x)))\n",
    "        x = x.view(-1, 16 * 112 * 112)\n",
    "        x = self.fc1(x)\n",
    "        return x\n",
    "\n",
    "model = SimpleCNN().to(device)\n",
    "criterion = nn.CrossEntropyLoss()\n",
    "optimizer = optim.SGD(model.parameters(), lr=0.001, momentum=0.9)"
   ]
  },
  {
   "cell_type": "code",
   "execution_count": 17,
   "id": "6308a406-a524-403f-b66f-0ebe7247691a",
   "metadata": {},
   "outputs": [],
   "source": [
    "class ResNetModel(nn.Module):\n",
    "    def __init__(self, num_classes=2):\n",
    "        super(ResNetModel, self).__init__()\n",
    "        self.resnet = models.resnet18(pretrained=True)\n",
    "        self.resnet.fc = nn.Linear(self.resnet.fc.in_features, num_classes)\n",
    "\n",
    "    def forward(self, x):\n",
    "        return self.resnet(x)\n",
    "\n",
    "# Instantiate the model\n",
    "device = torch.device(\"cuda\" if torch.cuda.is_available() else \"cpu\")\n",
    "model = ResNetModel(num_classes=2).to(device)\n",
    "criterion = nn.CrossEntropyLoss()\n",
    "optimizer = optim.SGD(model.parameters(), lr=0.001, momentum=0.9)"
   ]
  },
  {
   "cell_type": "code",
   "execution_count": 18,
   "id": "99e863b6-1966-4ac7-9067-bf9ed5b5ea63",
   "metadata": {},
   "outputs": [],
   "source": [
    "def training():\n",
    "    #for epoch in range(3):\n",
    "    model.train()\n",
    "    running_loss = 0.0\n",
    "    correct = 0\n",
    "    total = 0\n",
    "\n",
    "    for i, (inputs, labels) in enumerate(training_dataloader, 0):\n",
    "        inputs, labels = inputs.to(device), labels.to(device)  # Move to GPU\n",
    "\n",
    "        optimizer.zero_grad()\n",
    "        outputs = model(inputs)\n",
    "        loss = criterion(outputs, labels)\n",
    "        loss.backward()\n",
    "        optimizer.step()\n",
    "\n",
    "        running_loss += loss.item()\n",
    "\n",
    "        # Calculate accuracy\n",
    "        _, predicted = torch.max(outputs, 1)\n",
    "        total += labels.size(0)\n",
    "        correct += (predicted == labels).sum().item()\n",
    "\n",
    "        # Print every 5 mini-batches\n",
    "        if (i + 1) % 5 == 0:\n",
    "            print(f\"Loss: {running_loss / 5:.3f}\")\n",
    "            running_loss = 0.0\n",
    "\n",
    "    epoch_accuracy = correct / total\n",
    "    return epoch_accuracy\n"
   ]
  },
  {
   "cell_type": "code",
   "execution_count": 19,
   "id": "563518a3-2ff3-4f7c-a1d0-367bf4b2546e",
   "metadata": {},
   "outputs": [],
   "source": [
    "from torch.cuda.amp import GradScaler, autocast\n",
    "\n",
    "scaler = GradScaler()\n",
    "\n",
    "def smth():\n",
    "    model.train()\n",
    "    running_loss = 0.0\n",
    "    correct = 0\n",
    "    total = 0\n",
    "\n",
    "    for i, (inputs, labels) in enumerate(training_dataloader, 0):\n",
    "        inputs, labels = inputs.to(device), labels.to(device)  # Move to GPU\n",
    "\n",
    "        optimizer.zero_grad()\n",
    "        with autocast():  # Mixed precision context\n",
    "            outputs = model(inputs)\n",
    "            loss = criterion(outputs, labels)\n",
    "\n",
    "        scaler.scale(loss).backward()\n",
    "        scaler.step(optimizer)\n",
    "        scaler.update()\n",
    "\n",
    "        running_loss += loss.item()\n",
    "\n",
    "        # Calculate accuracy\n",
    "        _, predicted = torch.max(outputs, 1)\n",
    "        total += labels.size(0)\n",
    "        correct += (predicted == labels).sum().item()\n",
    "\n",
    "        # Print every 5 mini-batches\n",
    "        if (i + 1) % 5 == 0:\n",
    "            print(f\"Loss: {running_loss / 5:.3f}\")\n",
    "            running_loss = 0.0\n",
    "\n",
    "    epoch_accuracy = correct / total\n",
    "    return epoch_accuracy"
   ]
  },
  {
   "cell_type": "code",
   "execution_count": 20,
   "id": "db9d54eb-b066-4184-affb-df889d14e0cc",
   "metadata": {},
   "outputs": [],
   "source": [
    "def validate():\n",
    "    model.eval()\n",
    "    val_loss = 0.0\n",
    "    correct = 0\n",
    "    total = 0\n",
    "\n",
    "    with torch.no_grad():\n",
    "        for val_data in validation_dataloader:\n",
    "            val_inputs, val_labels = val_data\n",
    "            val_inputs, val_labels = val_inputs.to(device), val_labels.to(device)\n",
    "\n",
    "            val_outputs = model(val_inputs)\n",
    "            val_loss += criterion(val_outputs, val_labels).item()\n",
    "            _, predicted = torch.max(val_outputs, 1)\n",
    "            total += val_labels.size(0)\n",
    "            correct += (predicted == val_labels).sum().item()\n",
    "\n",
    "    val_loss /= len(validation_dataloader)\n",
    "    val_accuracy = correct / total\n",
    "    print(f\"Validation loss: {val_loss:.3f}, Accuracy: {val_accuracy:.3f}\")"
   ]
  },
  {
   "cell_type": "code",
   "execution_count": 21,
   "id": "3fd4877f-04f9-4bce-89a8-0fff068c182f",
   "metadata": {},
   "outputs": [],
   "source": [
    "def run():\n",
    "    for epoch in range(5):\n",
    "        epoch_accuracy = smth()\n",
    "        print(f\"Epoch {epoch + 1} completed. Training Accuracy: {epoch_accuracy:.3f}\")\n",
    "        validate()"
   ]
  },
  {
   "cell_type": "code",
   "execution_count": 22,
   "id": "2e79e4ef-550f-4971-97c5-7990d4a8d7e2",
   "metadata": {},
   "outputs": [
    {
     "name": "stdout",
     "output_type": "stream",
     "text": [
      "Loss: 0.646\n",
      "Loss: 0.333\n",
      "Epoch 1 completed. Training Accuracy: 0.750\n",
      "Validation loss: 0.153, Accuracy: 1.000\n",
      "Loss: 0.114\n",
      "Loss: 0.052\n",
      "Epoch 2 completed. Training Accuracy: 0.997\n",
      "Validation loss: 0.026, Accuracy: 1.000\n",
      "Loss: 0.025\n",
      "Loss: 0.040\n",
      "Epoch 3 completed. Training Accuracy: 1.000\n",
      "Validation loss: 0.016, Accuracy: 1.000\n",
      "Loss: 0.017\n",
      "Loss: 0.026\n",
      "Epoch 4 completed. Training Accuracy: 0.997\n",
      "Validation loss: 0.009, Accuracy: 1.000\n",
      "Loss: 0.017\n",
      "Loss: 0.019\n",
      "Epoch 5 completed. Training Accuracy: 0.997\n",
      "Validation loss: 0.008, Accuracy: 1.000\n",
      " "
     ]
    },
    {
     "data": {
      "text/plain": [
       "         164733 function calls (149746 primitive calls) in 8.646 seconds\n",
       "\n",
       "   Ordered by: cumulative time\n",
       "   List reduced from 362 to 10 due to restriction <10>\n",
       "\n",
       "   ncalls  tottime  percall  cumtime  percall filename:lineno(function)\n",
       "        1    0.000    0.000    8.646    8.646 {built-in method builtins.exec}\n",
       "        1    0.000    0.000    8.646    8.646 <string>:1(<module>)\n",
       "        1    0.003    0.003    8.646    8.646 2616560762.py:1(run)\n",
       "        5    0.075    0.015    7.604    1.521 1364531468.py:5(smth)\n",
       "      210    5.093    0.024    5.093    0.024 {method 'item' of 'torch._C.TensorBase' objects}\n",
       "       50    0.002    0.000    4.488    0.090 grad_scaler.py:354(step)\n",
       "       50    0.001    0.000    4.440    0.089 grad_scaler.py:342(_maybe_opt_step)\n",
       "       50    0.001    0.000    4.363    0.087 {built-in method builtins.sum}\n",
       "      100    0.000    0.000    4.363    0.044 grad_scaler.py:350(<genexpr>)\n",
       " 5850/150    0.012    0.000    1.609    0.011 module.py:1528(_wrapped_call_impl)"
      ]
     },
     "metadata": {},
     "output_type": "display_data"
    }
   ],
   "source": [
    "%prun -l 10 -s cumtime run()"
   ]
  },
  {
   "cell_type": "code",
   "execution_count": null,
   "id": "84817bec-d383-4870-94a3-c3921da631c5",
   "metadata": {},
   "outputs": [],
   "source": []
  }
 ],
 "metadata": {
  "kernelspec": {
   "display_name": "Python 3 (ipykernel)",
   "language": "python",
   "name": "python3"
  },
  "language_info": {
   "codemirror_mode": {
    "name": "ipython",
    "version": 3
   },
   "file_extension": ".py",
   "mimetype": "text/x-python",
   "name": "python",
   "nbconvert_exporter": "python",
   "pygments_lexer": "ipython3",
   "version": "3.11.7"
  }
 },
 "nbformat": 4,
 "nbformat_minor": 5
}
