{
 "cells": [
  {
   "cell_type": "code",
   "execution_count": 1,
   "id": "8ff393a9",
   "metadata": {
    "execution": {
     "iopub.execute_input": "2024-07-27T15:34:58.056853Z",
     "iopub.status.busy": "2024-07-27T15:34:58.056449Z",
     "iopub.status.idle": "2024-07-27T15:34:58.061054Z",
     "shell.execute_reply": "2024-07-27T15:34:58.060318Z"
    },
    "papermill": {
     "duration": 0.01586,
     "end_time": "2024-07-27T15:34:58.062932",
     "exception": false,
     "start_time": "2024-07-27T15:34:58.047072",
     "status": "completed"
    },
    "tags": []
   },
   "outputs": [],
   "source": [
    "# !pip install torchsummary"
   ]
  },
  {
   "cell_type": "code",
   "execution_count": 2,
   "id": "a4f6ca4e",
   "metadata": {
    "execution": {
     "iopub.execute_input": "2024-07-27T15:34:58.079274Z",
     "iopub.status.busy": "2024-07-27T15:34:58.078588Z",
     "iopub.status.idle": "2024-07-27T15:35:08.990512Z",
     "shell.execute_reply": "2024-07-27T15:35:08.989725Z"
    },
    "papermill": {
     "duration": 10.922386,
     "end_time": "2024-07-27T15:35:08.992805",
     "exception": false,
     "start_time": "2024-07-27T15:34:58.070419",
     "status": "completed"
    },
    "tags": []
   },
   "outputs": [],
   "source": [
    "import torch\n",
    "import os\n",
    "import cv2\n",
    "import pandas as pd\n",
    "import numpy as np\n",
    "import torch.nn as nn\n",
    "import torch.optim as optim\n",
    "import torch.torch_version\n",
    "import torchvision.transforms as transforms\n",
    "import torchvision.models as models\n",
    "import matplotlib.pyplot as plt\n",
    "from PIL import Image\n",
    "import albumentations as A\n",
    "from albumentations.pytorch import ToTensorV2\n",
    "from torch.utils.data import DataLoader, Dataset\n",
    "# from torchsummary import summary\n",
    "from torchvision import transforms\n",
    "from torchmetrics import Accuracy, Precision, Recall\n",
    "import timm\n",
    "import cv2\n",
    "\n",
    "from torch.cuda.amp import GradScaler, autocast\n"
   ]
  },
  {
   "cell_type": "code",
   "execution_count": 3,
   "id": "972b97d6",
   "metadata": {
    "execution": {
     "iopub.execute_input": "2024-07-27T15:35:09.009247Z",
     "iopub.status.busy": "2024-07-27T15:35:09.008936Z",
     "iopub.status.idle": "2024-07-27T15:35:09.013845Z",
     "shell.execute_reply": "2024-07-27T15:35:09.013001Z"
    },
    "papermill": {
     "duration": 0.015695,
     "end_time": "2024-07-27T15:35:09.016084",
     "exception": false,
     "start_time": "2024-07-27T15:35:09.000389",
     "status": "completed"
    },
    "tags": []
   },
   "outputs": [
    {
     "name": "stdout",
     "output_type": "stream",
     "text": [
      "2.1.2\n"
     ]
    }
   ],
   "source": [
    "import torch\n",
    "print(torch.__version__)"
   ]
  },
  {
   "cell_type": "code",
   "execution_count": 4,
   "id": "292bf68d",
   "metadata": {
    "execution": {
     "iopub.execute_input": "2024-07-27T15:35:09.033382Z",
     "iopub.status.busy": "2024-07-27T15:35:09.032693Z",
     "iopub.status.idle": "2024-07-27T15:35:09.092234Z",
     "shell.execute_reply": "2024-07-27T15:35:09.091350Z"
    },
    "papermill": {
     "duration": 0.070575,
     "end_time": "2024-07-27T15:35:09.094329",
     "exception": false,
     "start_time": "2024-07-27T15:35:09.023754",
     "status": "completed"
    },
    "tags": []
   },
   "outputs": [
    {
     "name": "stdout",
     "output_type": "stream",
     "text": [
      "Using cuda device\n"
     ]
    }
   ],
   "source": [
    "device = (\n",
    "    \"cuda\"\n",
    "    if torch.cuda.is_available()\n",
    "    else \"mps\"\n",
    "    if torch.backends.mps.is_available()\n",
    "    else \"cpu\"\n",
    ")\n",
    "print(f\"Using {device} device\")"
   ]
  },
  {
   "cell_type": "code",
   "execution_count": 5,
   "id": "5106ef49",
   "metadata": {
    "execution": {
     "iopub.execute_input": "2024-07-27T15:35:09.110864Z",
     "iopub.status.busy": "2024-07-27T15:35:09.110428Z",
     "iopub.status.idle": "2024-07-27T15:35:09.114832Z",
     "shell.execute_reply": "2024-07-27T15:35:09.113915Z"
    },
    "papermill": {
     "duration": 0.014745,
     "end_time": "2024-07-27T15:35:09.116778",
     "exception": false,
     "start_time": "2024-07-27T15:35:09.102033",
     "status": "completed"
    },
    "tags": []
   },
   "outputs": [],
   "source": [
    "iskaggle = os.environ.get('KAGGLE_KERNEL_RUN_TYPE', '')\n",
    "main_path = '/kaggle/input/isic-2024-challenge' if iskaggle else 'data/isic-2024-challenge'"
   ]
  },
  {
   "cell_type": "code",
   "execution_count": 6,
   "id": "60ab576c",
   "metadata": {
    "execution": {
     "iopub.execute_input": "2024-07-27T15:35:09.133339Z",
     "iopub.status.busy": "2024-07-27T15:35:09.133077Z",
     "iopub.status.idle": "2024-07-27T15:35:16.827800Z",
     "shell.execute_reply": "2024-07-27T15:35:16.826620Z"
    },
    "papermill": {
     "duration": 7.70572,
     "end_time": "2024-07-27T15:35:16.830133",
     "exception": false,
     "start_time": "2024-07-27T15:35:09.124413",
     "status": "completed"
    },
    "tags": []
   },
   "outputs": [
    {
     "name": "stderr",
     "output_type": "stream",
     "text": [
      "/tmp/ipykernel_24/3275392473.py:4: DtypeWarning: Columns (51,52) have mixed types. Specify dtype option on import or set low_memory=False.\n",
      "  train_metadata_df = pd.read_csv(train_metadata_path)\n"
     ]
    },
    {
     "name": "stdout",
     "output_type": "stream",
     "text": [
      "401059\n"
     ]
    }
   ],
   "source": [
    "train_metadata_path = '/kaggle/input/isic-2024-challenge/train-metadata.csv' if iskaggle else 'data/isic-2024-challenge/train-metadata.csv'\n",
    "test_metadata_path = '/kaggle/input/isic-2024-challenge/test-metadata.csv' if iskaggle else 'data/isic-2024-challenge/test-metadata.csv'\n",
    "\n",
    "train_metadata_df = pd.read_csv(train_metadata_path)\n",
    "test_metadata_df = pd.read_csv(test_metadata_path)\n",
    "\n",
    "print(len(train_metadata_df))"
   ]
  },
  {
   "cell_type": "code",
   "execution_count": 7,
   "id": "607e07bf",
   "metadata": {
    "execution": {
     "iopub.execute_input": "2024-07-27T15:35:16.847931Z",
     "iopub.status.busy": "2024-07-27T15:35:16.847300Z",
     "iopub.status.idle": "2024-07-27T15:35:17.007119Z",
     "shell.execute_reply": "2024-07-27T15:35:17.005914Z"
    },
    "papermill": {
     "duration": 0.170633,
     "end_time": "2024-07-27T15:35:17.009283",
     "exception": false,
     "start_time": "2024-07-27T15:35:16.838650",
     "status": "completed"
    },
    "tags": []
   },
   "outputs": [
    {
     "name": "stdout",
     "output_type": "stream",
     "text": [
      "Positive samples: (393, 55)\n",
      "Negative samples: (3930, 55)\n"
     ]
    }
   ],
   "source": [
    "import sklearn.model_selection as train_test_split\n",
    "\n",
    "train_size = 0.8\n",
    "# Splitting the train dataset into positive and negative samples and saving them in separate dataframes\n",
    "postive_samples = train_metadata_df[train_metadata_df['target'] == 1]\n",
    "negative_samples = train_metadata_df[train_metadata_df['target'] == 0]\n",
    "\n",
    "# TODO: Taking Sample of 1% of the data\n",
    "# postive_samples = postive_samples.sample(frac=0.1)\n",
    "negative_samples = negative_samples.sample(frac=10*(postive_samples.shape[0]/negative_samples.shape[0]))\n",
    "\n",
    "print(f\"Positive samples: {postive_samples.shape}\")\n",
    "print(f\"Negative samples: {negative_samples.shape}\")"
   ]
  },
  {
   "cell_type": "code",
   "execution_count": 8,
   "id": "c1fa47a3",
   "metadata": {
    "execution": {
     "iopub.execute_input": "2024-07-27T15:35:17.027260Z",
     "iopub.status.busy": "2024-07-27T15:35:17.026956Z",
     "iopub.status.idle": "2024-07-27T15:35:17.038149Z",
     "shell.execute_reply": "2024-07-27T15:35:17.037229Z"
    },
    "papermill": {
     "duration": 0.02287,
     "end_time": "2024-07-27T15:35:17.040199",
     "exception": false,
     "start_time": "2024-07-27T15:35:17.017329",
     "status": "completed"
    },
    "tags": []
   },
   "outputs": [
    {
     "name": "stdout",
     "output_type": "stream",
     "text": [
      "Train positive samples: (314, 55)\n",
      "Train negative samples: (3144, 55)\n",
      "Val positive samples: (79, 55)\n",
      "Val negative samples: (786, 55)\n"
     ]
    }
   ],
   "source": [
    "\n",
    "# Splitting each type of samples into train and validation sets\n",
    "train_positive_samples, val_positive_samples = train_test_split.train_test_split(postive_samples,test_size=1-train_size)\n",
    "train_negative_samples, val_negative_samples = train_test_split.train_test_split(negative_samples,test_size=1-train_size)\n",
    "print(f\"Train positive samples: {train_positive_samples.shape}\")\n",
    "print(f\"Train negative samples: {train_negative_samples.shape}\")\n",
    "print(f\"Val positive samples: {val_positive_samples.shape}\")\n",
    "print(f\"Val negative samples: {val_negative_samples.shape}\")\n"
   ]
  },
  {
   "cell_type": "code",
   "execution_count": 9,
   "id": "d3496d54",
   "metadata": {
    "execution": {
     "iopub.execute_input": "2024-07-27T15:35:17.057566Z",
     "iopub.status.busy": "2024-07-27T15:35:17.057243Z",
     "iopub.status.idle": "2024-07-27T15:35:17.115235Z",
     "shell.execute_reply": "2024-07-27T15:35:17.113885Z"
    },
    "papermill": {
     "duration": 0.0696,
     "end_time": "2024-07-27T15:35:17.118200",
     "exception": false,
     "start_time": "2024-07-27T15:35:17.048600",
     "status": "completed"
    },
    "tags": []
   },
   "outputs": [
    {
     "name": "stdout",
     "output_type": "stream",
     "text": [
      "Train samples: (3458, 55)\n",
      "Val samples: (865, 55)\n",
      "Test samples: (3, 44)\n"
     ]
    }
   ],
   "source": [
    "\n",
    "# Concatenating the positive and negative samples to get the train and validation sets\n",
    "train_metadata_df = pd.concat([train_positive_samples, train_negative_samples])\n",
    "val_metadata_df = pd.concat([val_positive_samples, val_negative_samples])\n",
    "print(f\"Train samples: {train_metadata_df.shape}\")\n",
    "print(f\"Val samples: {val_metadata_df.shape}\")\n",
    "print(f\"Test samples: {test_metadata_df.shape}\")\n"
   ]
  },
  {
   "cell_type": "code",
   "execution_count": 10,
   "id": "a4e024fc",
   "metadata": {
    "execution": {
     "iopub.execute_input": "2024-07-27T15:35:17.135837Z",
     "iopub.status.busy": "2024-07-27T15:35:17.135526Z",
     "iopub.status.idle": "2024-07-27T15:35:17.288950Z",
     "shell.execute_reply": "2024-07-27T15:35:17.288056Z"
    },
    "papermill": {
     "duration": 0.165025,
     "end_time": "2024-07-27T15:35:17.291619",
     "exception": false,
     "start_time": "2024-07-27T15:35:17.126594",
     "status": "completed"
    },
    "tags": []
   },
   "outputs": [],
   "source": [
    "import h5py\n",
    "from io import BytesIO\n",
    "\n",
    "train_hdf5_path = '/kaggle/input/isic-2024-challenge/train-image.hdf5' if iskaggle else 'data/isic-2024-challenge/train-image.hdf5'\n",
    "test_hdf5_path = '/kaggle/input/isic-2024-challenge/test-image.hdf5' if iskaggle else 'data/isic-2024-challenge/test-image.hdf5'\n",
    "train_image_path = '/kaggle/input/isic-2024-challenge/train-image/image' if iskaggle else 'data/isic-2024-challenge/train-image/image'"
   ]
  },
  {
   "cell_type": "code",
   "execution_count": 11,
   "id": "0370909f",
   "metadata": {
    "execution": {
     "iopub.execute_input": "2024-07-27T15:35:17.311234Z",
     "iopub.status.busy": "2024-07-27T15:35:17.310897Z",
     "iopub.status.idle": "2024-07-27T15:35:17.320110Z",
     "shell.execute_reply": "2024-07-27T15:35:17.319338Z"
    },
    "papermill": {
     "duration": 0.021311,
     "end_time": "2024-07-27T15:35:17.322291",
     "exception": false,
     "start_time": "2024-07-27T15:35:17.300980",
     "status": "completed"
    },
    "tags": []
   },
   "outputs": [],
   "source": [
    "class CustomDataset(Dataset):\n",
    "    def __init__(self, hdf5_file_path, metadata_df,target=None, transform=None):\n",
    "        self.hdf5_file_path = hdf5_file_path\n",
    "        self.hdf5_file = h5py.File(self.hdf5_file_path, 'r')\n",
    "        self.metadata_df = metadata_df\n",
    "        self.image_ids = metadata_df['isic_id']\n",
    "        self.labels = target\n",
    "        self.transform = transform\n",
    "\n",
    "        self.mean_of_color_channels = None  # Initialize as None\n",
    "        self.std_of_color_channels = None   # Initialize as None\n",
    "        # self._calculate_stats()\n",
    "\n",
    "    def __len__(self):\n",
    "        return len(self.image_ids)\n",
    "\n",
    "    def __getitem__(self, idx):\n",
    "        image_id = self.image_ids.iloc[idx]\n",
    "        image = np.array(Image.open(BytesIO(np.array(self.hdf5_file[image_id]))),dtype=np.float32)/255\n",
    "        \n",
    "        if self.transform:\n",
    "            image = self.transform(image=image)\n",
    "            image = image['image']\n",
    "\n",
    "        if self.labels is not None:\n",
    "            label = self.labels.iloc[idx]\n",
    "            return image, label\n",
    "        else:\n",
    "            return image\n",
    "\n",
    "   "
   ]
  },
  {
   "cell_type": "code",
   "execution_count": 12,
   "id": "f5d7e248",
   "metadata": {
    "execution": {
     "iopub.execute_input": "2024-07-27T15:35:17.341003Z",
     "iopub.status.busy": "2024-07-27T15:35:17.340713Z",
     "iopub.status.idle": "2024-07-27T15:35:17.344645Z",
     "shell.execute_reply": "2024-07-27T15:35:17.343816Z"
    },
    "papermill": {
     "duration": 0.015606,
     "end_time": "2024-07-27T15:35:17.346575",
     "exception": false,
     "start_time": "2024-07-27T15:35:17.330969",
     "status": "completed"
    },
    "tags": []
   },
   "outputs": [],
   "source": [
    "# HyperParameters\n",
    "dim = 384 \n",
    "batch_size = 64"
   ]
  },
  {
   "cell_type": "code",
   "execution_count": 13,
   "id": "7561dc51",
   "metadata": {
    "execution": {
     "iopub.execute_input": "2024-07-27T15:35:17.365603Z",
     "iopub.status.busy": "2024-07-27T15:35:17.365040Z",
     "iopub.status.idle": "2024-07-27T15:35:17.373727Z",
     "shell.execute_reply": "2024-07-27T15:35:17.372859Z"
    },
    "papermill": {
     "duration": 0.0204,
     "end_time": "2024-07-27T15:35:17.375541",
     "exception": false,
     "start_time": "2024-07-27T15:35:17.355141",
     "status": "completed"
    },
    "tags": []
   },
   "outputs": [],
   "source": [
    "train_transform = A.Compose([\n",
    "    A.Resize(height=dim, width=dim), #resize \n",
    "    \n",
    "    A.OneOf([\n",
    "        A.Transpose(p=1.0),\n",
    "        A.VerticalFlip(p=1.0),\n",
    "        A.HorizontalFlip(p=1.0)\n",
    "    ], p=0.5),  # Transpose, vertical flip, or horizontal flip with equal probability   \n",
    "\n",
    "    A.GaussNoise(var_limit=(5.0, 30.0), p=1.0),  # Gaussian noise  \n",
    "    A.HueSaturationValue(hue_shift_limit=10, sat_shift_limit=20, val_shift_limit=10, p=1.0),  # Hue, saturation, and value adjustment\n",
    "    A.CoarseDropout(p=1.0),  # Cutout augmentation\n",
    "    # !!One needs to change the mean and std values to appropriate ones for this dataset.!!\n",
    "    A.transforms.Normalize(mean=[0.485, 0.456, 0.406], std=[0.229, 0.224, 0.225], max_pixel_value=1.0),\n",
    "    ToTensorV2(),\n",
    "])\n",
    "\n",
    "\n",
    "test_transform = A.Compose([\n",
    "    A.Resize(height=dim, width=dim), #resize \n",
    "    # !!One needs to change the mean and std values to appropriate ones for this dataset.!!\n",
    "    A.transforms.Normalize(mean=[0.485, 0.456, 0.406], std=[0.229, 0.224, 0.225], max_pixel_value=1.0),\n",
    "    ToTensorV2(),\n",
    "])"
   ]
  },
  {
   "cell_type": "code",
   "execution_count": 14,
   "id": "33aca822",
   "metadata": {
    "execution": {
     "iopub.execute_input": "2024-07-27T15:35:17.392748Z",
     "iopub.status.busy": "2024-07-27T15:35:17.392452Z",
     "iopub.status.idle": "2024-07-27T15:35:17.410460Z",
     "shell.execute_reply": "2024-07-27T15:35:17.409552Z"
    },
    "papermill": {
     "duration": 0.028815,
     "end_time": "2024-07-27T15:35:17.412412",
     "exception": false,
     "start_time": "2024-07-27T15:35:17.383597",
     "status": "completed"
    },
    "tags": []
   },
   "outputs": [],
   "source": [
    "train_dataset = CustomDataset(train_hdf5_path,train_metadata_df,target=train_metadata_df['target'],transform=train_transform)\n",
    "# train_image_dataset = CustomDatasetImage(train_image_path,train_metadata_df,target=train_metadata_df['target'],transform=train_transform)\n",
    "val_dataset = CustomDataset(train_hdf5_path,val_metadata_df,target=val_metadata_df['target'],transform=train_transform)\n",
    "test_dataset = CustomDataset(test_hdf5_path,test_metadata_df,transform=test_transform)"
   ]
  },
  {
   "cell_type": "code",
   "execution_count": 15,
   "id": "f108a805",
   "metadata": {
    "execution": {
     "iopub.execute_input": "2024-07-27T15:35:17.429962Z",
     "iopub.status.busy": "2024-07-27T15:35:17.429681Z",
     "iopub.status.idle": "2024-07-27T15:35:17.435013Z",
     "shell.execute_reply": "2024-07-27T15:35:17.434285Z"
    },
    "papermill": {
     "duration": 0.016135,
     "end_time": "2024-07-27T15:35:17.436847",
     "exception": false,
     "start_time": "2024-07-27T15:35:17.420712",
     "status": "completed"
    },
    "tags": []
   },
   "outputs": [],
   "source": [
    "n_w = 0\n",
    "if iskaggle:\n",
    "    n_w = 4\n",
    "train_loader = DataLoader(train_dataset,batch_size=batch_size,shuffle=True,num_workers=n_w)\n",
    "val_loader = DataLoader(val_dataset,batch_size=batch_size,shuffle=True,num_workers=n_w)\n",
    "test_loader = DataLoader(test_dataset,batch_size=batch_size,shuffle=False,num_workers=n_w)"
   ]
  },
  {
   "cell_type": "code",
   "execution_count": 16,
   "id": "f0f0cb6c",
   "metadata": {
    "execution": {
     "iopub.execute_input": "2024-07-27T15:35:17.453883Z",
     "iopub.status.busy": "2024-07-27T15:35:17.453611Z",
     "iopub.status.idle": "2024-07-27T15:35:17.459359Z",
     "shell.execute_reply": "2024-07-27T15:35:17.458532Z"
    },
    "papermill": {
     "duration": 0.016331,
     "end_time": "2024-07-27T15:35:17.461207",
     "exception": false,
     "start_time": "2024-07-27T15:35:17.444876",
     "status": "completed"
    },
    "tags": []
   },
   "outputs": [],
   "source": [
    "from sklearn.metrics import roc_curve, auc, roc_auc_score\n",
    "\n",
    "def calculate_partial_auc_by_tpr(y_true, y_scores, min_tpr=0.8):\n",
    "    v_gt = abs(y_true-1)\n",
    "    v_pred = 1 - y_scores\n",
    "    max_fpr = abs(1-min_tpr)\n",
    "    partial_auc_scaled = roc_auc_score(v_gt, v_pred, max_fpr=max_fpr)\n",
    "    # change scale from [0.5, 1.0] to [0.5 * max_fpr**2, max_fpr]\n",
    "    # https://math.stackexchange.com/questions/914823/shift-numbers-into-a-different-range\n",
    "    partial_auc = 0.5 * max_fpr**2 + (max_fpr - 0.5 * max_fpr**2) / (1.0 - 0.5) * (partial_auc_scaled - 0.5)\n",
    "    \n",
    "    return partial_auc"
   ]
  },
  {
   "cell_type": "code",
   "execution_count": 17,
   "id": "f0d666ed",
   "metadata": {
    "execution": {
     "iopub.execute_input": "2024-07-27T15:35:17.478428Z",
     "iopub.status.busy": "2024-07-27T15:35:17.478159Z",
     "iopub.status.idle": "2024-07-27T15:35:17.513521Z",
     "shell.execute_reply": "2024-07-27T15:35:17.512745Z"
    },
    "papermill": {
     "duration": 0.046668,
     "end_time": "2024-07-27T15:35:17.515847",
     "exception": false,
     "start_time": "2024-07-27T15:35:17.469179",
     "status": "completed"
    },
    "tags": []
   },
   "outputs": [],
   "source": [
    "class Model(nn.Module):\n",
    "    def __init__(self,num_classes,device,dim = 32,num_epochs = 20,learning_rate = 0.001,early_stopping = False):\n",
    "        super().__init__()\n",
    "        self.num_of_classes = num_classes\n",
    "        self.device = device\n",
    "        self.dim = dim\n",
    "        # Debugging\n",
    "        self.DEBUG = True\n",
    "        # Hyperparameters\n",
    "        self.num_epochs = num_epochs\n",
    "        self.learning_rate = learning_rate\n",
    "        self.early_stopping = early_stopping\n",
    "        # History while Training\n",
    "        self.model_loss_history = []\n",
    "\n",
    "        self.model_train_acc_history = []\n",
    "        self.model_train_pauc_history = []\n",
    "        \n",
    "        self.model_val_acc_history = []\n",
    "        self.model_val_precision_history = []\n",
    "        self.model_val_recall_history = []\n",
    "        self.model_val_pauc_history = []\n",
    "        \n",
    "        self.model_lr_history = []\n",
    "\n",
    "        # Model Attributes\n",
    "        self.criterion = nn.BCEWithLogitsLoss()\n",
    "        self.optimizer = None\n",
    "        self.accuracy = Accuracy(task= 'binary', average='macro').to(self.device)\n",
    "        self.precision = Precision(task= 'binary', average='macro').to(self.device)\n",
    "        self.recall = Recall(task= 'binary', average='macro').to(self.device)\n",
    "        \n",
    "        # Load ResNet-18 from timm\n",
    "        self.feature_extractor = timm.create_model('resnet18', pretrained=True, num_classes=0)\n",
    "        self.feature_extractor.to(self.device)\n",
    "\n",
    "        # Freeze ResNet-18\n",
    "        self.freeze_backbone()\n",
    "\n",
    "        # Add custom classifier head\n",
    "        self.classifier = nn.Sequential(\n",
    "            nn.Linear(self.feature_extractor.num_features, 256),\n",
    "            nn.ReLU(),\n",
    "            nn.Dropout(0.5),\n",
    "            nn.Linear(256,1)\n",
    "        ).to(self.device)\n",
    "        \n",
    "\n",
    "    def freeze_backbone(self, freeze=True):\n",
    "        # Freeze/unfreeze feature extractor layers\n",
    "        for param in self.feature_extractor.parameters():\n",
    "            param.requires_grad = not freeze\n",
    "\n",
    "    def forward(self, x):\n",
    "        # Feature extraction using ResNet-18\n",
    "        x = self.feature_extractor(x)\n",
    "        x = self.classifier(x)\n",
    "        return x\n",
    "    \n",
    "    def predict(self, img):\n",
    "        '''\n",
    "        returns the predicted classes for the given images\n",
    "        '''\n",
    "        self.eval()\n",
    "        with torch.no_grad():\n",
    "            img = img.to(self.device)\n",
    "            output = self(img)\n",
    "            prob_outputs = torch.sigmoid(output)\n",
    "            return prob_outputs\n",
    "            \n",
    "        \n",
    "\n",
    "    \n",
    "    def eval_val(self, data_loader):\n",
    "        '''\n",
    "        returns the accuracy, precision, recall , partial AUC, predicted probabilities and actual labels for the given data loader\n",
    "        '''\n",
    "        self.eval()\n",
    "        y_prob_pred = np.array([])\n",
    "        y_actual = np.array([])\n",
    "        with torch.no_grad():\n",
    "            for images, actuals in data_loader:\n",
    "                \n",
    "                images, actuals = images.to(self.device), actuals.to(self.device)\n",
    "                # Get the model predictions\n",
    "                output = self(images)\n",
    "                # Get the probability outputs\n",
    "                prob_outputs = torch.sigmoid(output)\n",
    "                # Get the binary predictions\n",
    "                batch_pred = (prob_outputs > 0.5).float()\n",
    "                # Reshape the actuals\n",
    "                actuals = actuals.unsqueeze(1).float()\n",
    "                \n",
    "                y_prob_pred = np.concatenate((y_prob_pred, prob_outputs.cpu().numpy().squeeze()))\n",
    "                y_actual = np.concatenate((y_actual, actuals.cpu().numpy().squeeze()))\n",
    "\n",
    "                # Update the metrics\n",
    "                self.accuracy(batch_pred, actuals)\n",
    "                self.precision(batch_pred, actuals)\n",
    "                self.recall(batch_pred, actuals)\n",
    "        \n",
    "        # Calculate the partial AUC\n",
    "        partial_auc = calculate_partial_auc_by_tpr(y_true=y_actual, y_scores=y_prob_pred, min_tpr=0.8)\n",
    "\n",
    "        return self.accuracy.compute(), self.precision.compute(), self.recall.compute(), partial_auc, y_prob_pred, y_actual\n",
    "    \n",
    "    def train_model(self, train_loader, val_loader):\n",
    "        \n",
    "        last_accuracy = -100\n",
    "        self.optimizer = optim.Adam(self.parameters(), lr=self.learning_rate)\n",
    "        scaler = GradScaler()\n",
    "\n",
    "        for epoch in range(self.num_epochs):\n",
    "            self.train()\n",
    "            running_loss = 0.0\n",
    "\n",
    "            for i, (images, labels) in enumerate(train_loader):\n",
    "                \n",
    "                images, labels = images.to(self.device), labels.to(self.device)\n",
    "                self.optimizer.zero_grad()\n",
    "                with autocast():\n",
    "                    outputs = self(images)\n",
    "                    labels = labels.unsqueeze(1).float()\n",
    "                    loss = self.criterion(outputs, labels)\n",
    "                scaler.scale(loss).backward()\n",
    "                # Gradient clipping\n",
    "                max_norm = 1.0  # Set the maximum allowable norm for the gradients\n",
    "                torch.nn.utils.clip_grad_norm_(self.parameters(), max_norm)\n",
    "                scaler.step(self.optimizer)\n",
    "                scaler.update()\n",
    "\n",
    "                running_loss += loss.item()\n",
    "                if i%1000 == 0 and self.DEBUG:\n",
    "                    print(\" Step [{}/{}] Loss: {}\".format(i, len(train_loader), loss.item()))\n",
    "                    \n",
    "            val_acc, val_precision, val_recall, val_pauc, _ , _ = self.eval_val(val_loader)\n",
    "            train_acc, _, _, train_pauc, _, _ = self.eval_val(train_loader)\n",
    "\n",
    "            self.model_loss_history.append(running_loss/len(train_loader))\n",
    "            self.model_train_acc_history.append(train_acc.item())\n",
    "            self.model_train_pauc_history.append(train_pauc)\n",
    "            self.model_val_acc_history.append(val_acc.item())\n",
    "            self.model_val_precision_history.append(val_precision.item())\n",
    "            self.model_val_recall_history.append(val_recall.item())\n",
    "            self.model_val_pauc_history.append(val_pauc)\n",
    "            self.model_lr_history.append(self.optimizer.param_groups[0]['lr'])\n",
    "            \n",
    "            print(f'Epoch: {epoch+1}/{self.num_epochs}, Loss: {loss.item()},Train Acc: {train_acc}, Val Acc: {val_acc}, Val Precision: {val_precision}, Val Recall: {val_recall},Train PAUC: {train_pauc}, Val PAUC: {val_pauc}')\n",
    "            \n",
    "            if val_acc > last_accuracy:\n",
    "                last_accuracy = val_acc\n",
    "            elif self.early_stopping:\n",
    "                break\n",
    "        \n",
    "        print('Finished Training')\n",
    "\n",
    "    def plot_history(self):\n",
    "        # making two plots one for loss and other for accuracy\n",
    "        fig, axs = plt.subplots(2, 3, figsize=(15, 10))\n",
    "        fig.suptitle('Model Training History')\n",
    "        axs[0, 0].plot(self.model_loss_history)\n",
    "        axs[0, 0].set_title('Model Loss')\n",
    "        axs[0, 0].set_xlabel('Epochs')\n",
    "        axs[0, 0].set_ylabel('Loss')\n",
    "\n",
    "        axs[0, 1].plot(self.model_train_acc_history, label='Train')\n",
    "        axs[0, 1].plot(self.model_val_acc_history, label='Val')\n",
    "        axs[0, 1].set_title('Model Accuracy')\n",
    "        axs[0, 1].set_xlabel('Epochs')\n",
    "        axs[0, 1].set_ylabel('Accuracy')\n",
    "        axs[0, 1].legend()\n",
    "\n",
    "        axs[1, 0].plot(self.model_val_precision_history)\n",
    "        axs[1, 0].set_title('Model Precision')\n",
    "        axs[1, 0].set_xlabel('Epochs')\n",
    "        axs[1, 0].set_ylabel('Precision')\n",
    "        \n",
    "        axs[1, 1].plot(self.model_val_recall_history)\n",
    "        axs[1, 1].set_title('Model Recall')\n",
    "        axs[1, 1].set_xlabel('Epochs')\n",
    "        axs[1, 1].set_ylabel('Recall')\n",
    "\n",
    "        axs[0, 2].plot(self.model_lr_history)\n",
    "        axs[0, 2].set_title('Learning Rate')\n",
    "        axs[0, 2].set_xlabel('Epochs')\n",
    "        axs[0, 2].set_ylabel('Learning Rate')\n",
    "        \n",
    "        axs[1, 2].plot(self.model_val_pauc_history)\n",
    "        axs[1, 2].set_title('Model Partial AUC')\n",
    "        axs[1, 2].set_xlabel('Epochs')\n",
    "        axs[1, 2].set_ylabel('Partial AUC')\n",
    "        \n",
    "\n",
    "        plt.show()\n",
    "    \n",
    "    def save_model(self):\n",
    "        torch.save(self.state_dict(),type(self).__name__+'.pth')\n",
    "\n",
    "    def print_summary(self):\n",
    "        pass\n",
    "#         summary(self, (3, self.dim, self.dim))"
   ]
  },
  {
   "cell_type": "code",
   "execution_count": 18,
   "id": "e3ace3dc",
   "metadata": {
    "execution": {
     "iopub.execute_input": "2024-07-27T15:35:17.534286Z",
     "iopub.status.busy": "2024-07-27T15:35:17.533978Z",
     "iopub.status.idle": "2024-07-27T15:35:18.494711Z",
     "shell.execute_reply": "2024-07-27T15:35:18.493543Z"
    },
    "papermill": {
     "duration": 0.97255,
     "end_time": "2024-07-27T15:35:18.497065",
     "exception": false,
     "start_time": "2024-07-27T15:35:17.524515",
     "status": "completed"
    },
    "tags": []
   },
   "outputs": [
    {
     "data": {
      "application/vnd.jupyter.widget-view+json": {
       "model_id": "eb231a6a0af546988d99334b88960949",
       "version_major": 2,
       "version_minor": 0
      },
      "text/plain": [
       "model.safetensors:   0%|          | 0.00/46.8M [00:00<?, ?B/s]"
      ]
     },
     "metadata": {},
     "output_type": "display_data"
    },
    {
     "name": "stdout",
     "output_type": "stream",
     "text": [
      "Time to Train Booi\n"
     ]
    }
   ],
   "source": [
    "num_of_classes = 2\n",
    "cnn = Model(num_classes=num_of_classes, \n",
    "            device=device, \n",
    "            dim=dim, \n",
    "            num_epochs=20, \n",
    "            learning_rate=0.0001,\n",
    "            early_stopping=False)\n",
    "cnn.to(device)\n",
    "print(\"Time to Train Booi\")"
   ]
  },
  {
   "cell_type": "code",
   "execution_count": 19,
   "id": "640917c7",
   "metadata": {
    "execution": {
     "iopub.execute_input": "2024-07-27T15:35:18.517855Z",
     "iopub.status.busy": "2024-07-27T15:35:18.517535Z",
     "iopub.status.idle": "2024-07-27T16:06:23.638867Z",
     "shell.execute_reply": "2024-07-27T16:06:23.637658Z"
    },
    "papermill": {
     "duration": 1865.144672,
     "end_time": "2024-07-27T16:06:23.651621",
     "exception": false,
     "start_time": "2024-07-27T15:35:18.506949",
     "status": "completed"
    },
    "tags": []
   },
   "outputs": [
    {
     "name": "stdout",
     "output_type": "stream",
     "text": [
      " Step [0/55] Loss: 0.6624866724014282\n",
      "Epoch: 1/20, Loss: 0.13735470175743103,Train Acc: 0.9090909361839294, Val Acc: 0.9086705446243286, Val Precision: 0.0, Val Recall: 0.0,Train PAUC: 0.020125686779792845, Val PAUC: 0.013550423551389823\n",
      " Step [0/55] Loss: 0.24898014962673187\n",
      "Epoch: 2/20, Loss: 0.06452158093452454,Train Acc: 0.9090909361839294, Val Acc: 0.9090208411216736, Val Precision: 0.0, Val Recall: 0.0,Train PAUC: 0.015766357109285093, Val PAUC: 0.008409830257351746\n",
      " Step [0/55] Loss: 0.39464277029037476\n",
      "Epoch: 3/20, Loss: 1.2633801698684692,Train Acc: 0.9090909361839294, Val Acc: 0.9090526700019836, Val Precision: 0.0, Val Recall: 0.0,Train PAUC: 0.01994639470997228, Val PAUC: 0.03654459368054882\n",
      " Step [0/55] Loss: 0.2936738431453705\n",
      "Epoch: 4/20, Loss: 0.09524679183959961,Train Acc: 0.9090909361839294, Val Acc: 0.9090646505355835, Val Precision: 0.0, Val Recall: 0.0,Train PAUC: 0.02001730117826291, Val PAUC: 0.013920829709794818\n",
      " Step [0/55] Loss: 0.20174583792686462\n",
      "Epoch: 5/20, Loss: 0.0866953656077385,Train Acc: 0.9090909361839294, Val Acc: 0.9090709090232849, Val Precision: 0.0, Val Recall: 0.0,Train PAUC: 0.020013046790165457, Val PAUC: 0.01545721003639642\n",
      " Step [0/55] Loss: 0.3320688009262085\n",
      "Epoch: 6/20, Loss: 0.09741420298814774,Train Acc: 0.9090909361839294, Val Acc: 0.9090747237205505, Val Precision: 0.0, Val Recall: 0.0,Train PAUC: 0.020141893972544987, Val PAUC: 0.024804328920668667\n",
      " Step [0/55] Loss: 0.32031136751174927\n",
      "Epoch: 7/20, Loss: 0.11931370943784714,Train Acc: 0.9090909361839294, Val Acc: 0.9090773463249207, Val Precision: 0.0, Val Recall: 0.0,Train PAUC: 0.02435232005964247, Val PAUC: 0.02104229072052048\n",
      " Step [0/55] Loss: 0.40288496017456055\n",
      "Epoch: 8/20, Loss: 1.562638759613037,Train Acc: 0.9090909361839294, Val Acc: 0.9090792536735535, Val Precision: 0.0, Val Recall: 0.0,Train PAUC: 0.022031247467626136, Val PAUC: 0.03343608078075177\n",
      " Step [0/55] Loss: 0.2320404052734375\n",
      "Epoch: 9/20, Loss: 0.105767160654068,Train Acc: 0.9090909361839294, Val Acc: 0.9090806245803833, Val Precision: 0.0, Val Recall: 0.0,Train PAUC: 0.01869175540104698, Val PAUC: 0.020578477791735116\n",
      " Step [0/55] Loss: 0.2711300849914551\n",
      "Epoch: 10/20, Loss: 1.1143651008605957,Train Acc: 0.9090909361839294, Val Acc: 0.909081757068634, Val Precision: 0.0, Val Recall: 0.0,Train PAUC: 0.021091838057729996, Val PAUC: 0.017686088833059548\n",
      " Step [0/55] Loss: 0.278160959482193\n",
      "Epoch: 11/20, Loss: 2.3257851600646973,Train Acc: 0.9090909361839294, Val Acc: 0.9090826511383057, Val Precision: 0.0, Val Recall: 0.0,Train PAUC: 0.01910443104649843, Val PAUC: 0.017454182368666846\n",
      " Step [0/55] Loss: 0.25962546467781067\n",
      "Epoch: 12/20, Loss: 0.13696759939193726,Train Acc: 0.9090909361839294, Val Acc: 0.9090834259986877, Val Precision: 0.0, Val Recall: 0.0,Train PAUC: 0.018041239201957826, Val PAUC: 0.020266048249428268\n",
      " Step [0/55] Loss: 0.33347493410110474\n",
      "Epoch: 13/20, Loss: 0.0997597873210907,Train Acc: 0.9090909361839294, Val Acc: 0.9090840220451355, Val Precision: 0.0, Val Recall: 0.0,Train PAUC: 0.022320748448161287, Val PAUC: 0.023454762134827844\n",
      " Step [0/55] Loss: 0.29695749282836914\n",
      "Epoch: 14/20, Loss: 0.10166957229375839,Train Acc: 0.9090909361839294, Val Acc: 0.9090845584869385, Val Precision: 0.0, Val Recall: 0.0,Train PAUC: 0.018224279185102343, Val PAUC: 0.03703095307115016\n",
      " Step [0/55] Loss: 0.22116699814796448\n",
      "Epoch: 15/20, Loss: 0.10254630446434021,Train Acc: 0.9090909361839294, Val Acc: 0.9090849757194519, Val Precision: 0.0, Val Recall: 0.0,Train PAUC: 0.022206758619409066, Val PAUC: 0.015470093728862681\n",
      " Step [0/55] Loss: 0.20384128391742706\n",
      "Epoch: 16/20, Loss: 2.4311046600341797,Train Acc: 0.9090909361839294, Val Acc: 0.9090853929519653, Val Precision: 0.0, Val Recall: 0.0,Train PAUC: 0.01973023127664056, Val PAUC: 0.022817019357747905\n",
      " Step [0/55] Loss: 0.29415690898895264\n",
      "Epoch: 17/20, Loss: 1.3071128129959106,Train Acc: 0.9090909361839294, Val Acc: 0.9090856909751892, Val Precision: 0.0, Val Recall: 0.0,Train PAUC: 0.02049946516263919, Val PAUC: 0.014945083260862552\n",
      " Step [0/55] Loss: 0.13120019435882568\n",
      "Epoch: 18/20, Loss: 0.07441733032464981,Train Acc: 0.9090909361839294, Val Acc: 0.9090859889984131, Val Precision: 0.0, Val Recall: 0.0,Train PAUC: 0.020427950924620356, Val PAUC: 0.01328630785583148\n",
      " Step [0/55] Loss: 0.2075640857219696\n",
      "Epoch: 19/20, Loss: 0.11661496013402939,Train Acc: 0.9090909361839294, Val Acc: 0.909086287021637, Val Precision: 0.0, Val Recall: 0.0,Train PAUC: 0.015491442602226856, Val PAUC: 0.02651022182957634\n",
      " Step [0/55] Loss: 0.3104384243488312\n",
      "Epoch: 20/20, Loss: 0.10255874693393707,Train Acc: 0.9090909361839294, Val Acc: 0.9090865254402161, Val Precision: 0.0, Val Recall: 0.0,Train PAUC: 0.01866420317336834, Val PAUC: 0.027004219409282694\n",
      "Finished Training\n"
     ]
    }
   ],
   "source": [
    "cnn.train_model(train_loader=train_loader,val_loader=val_loader)"
   ]
  },
  {
   "cell_type": "code",
   "execution_count": 20,
   "id": "4cad55ee",
   "metadata": {
    "execution": {
     "iopub.execute_input": "2024-07-27T16:06:23.675465Z",
     "iopub.status.busy": "2024-07-27T16:06:23.675112Z",
     "iopub.status.idle": "2024-07-27T16:06:34.737831Z",
     "shell.execute_reply": "2024-07-27T16:06:34.736570Z"
    },
    "papermill": {
     "duration": 11.077323,
     "end_time": "2024-07-27T16:06:34.740165",
     "exception": false,
     "start_time": "2024-07-27T16:06:23.662842",
     "status": "completed"
    },
    "tags": []
   },
   "outputs": [
    {
     "name": "stdout",
     "output_type": "stream",
     "text": [
      "pAUC: 0.02331948336393211, Precision: 0.0, Recall: 0.0\n"
     ]
    }
   ],
   "source": [
    "cnn_acc , cnn_precision, cnn_recall , cnn_pauc, y_pred, y_actual = cnn.eval_val(val_loader)\n",
    "print(f\"pAUC: {cnn_pauc}, Precision: {cnn_precision}, Recall: {cnn_recall}\")"
   ]
  },
  {
   "cell_type": "code",
   "execution_count": 21,
   "id": "24582347",
   "metadata": {
    "execution": {
     "iopub.execute_input": "2024-07-27T16:06:34.766343Z",
     "iopub.status.busy": "2024-07-27T16:06:34.765762Z",
     "iopub.status.idle": "2024-07-27T16:06:34.774851Z",
     "shell.execute_reply": "2024-07-27T16:06:34.773999Z"
    },
    "papermill": {
     "duration": 0.023307,
     "end_time": "2024-07-27T16:06:34.776848",
     "exception": false,
     "start_time": "2024-07-27T16:06:34.753541",
     "status": "completed"
    },
    "tags": []
   },
   "outputs": [
    {
     "data": {
      "text/plain": [
       "(865, 0)"
      ]
     },
     "execution_count": 21,
     "metadata": {},
     "output_type": "execute_result"
    }
   ],
   "source": [
    "# 0.5 threshold\n",
    "y_pred = np.array(y_pred)\n",
    "y_actual = np.array(y_actual).astype(int)\n",
    "y_pred = (y_pred > 0.5).astype(int)\n",
    "\n",
    "# output the incorrect predictions\n",
    "incorrect_predictions = np.where(y_pred != y_actual)[0]\n",
    "number_zero = np.sum(y_pred == 0)\n",
    "number_one = np.sum(y_pred == 1)\n",
    "number_zero, number_one"
   ]
  },
  {
   "cell_type": "code",
   "execution_count": 22,
   "id": "1e225aa5",
   "metadata": {
    "execution": {
     "iopub.execute_input": "2024-07-27T16:06:34.800853Z",
     "iopub.status.busy": "2024-07-27T16:06:34.800565Z",
     "iopub.status.idle": "2024-07-27T16:06:34.897028Z",
     "shell.execute_reply": "2024-07-27T16:06:34.896018Z"
    },
    "papermill": {
     "duration": 0.110889,
     "end_time": "2024-07-27T16:06:34.899329",
     "exception": false,
     "start_time": "2024-07-27T16:06:34.788440",
     "status": "completed"
    },
    "tags": []
   },
   "outputs": [],
   "source": [
    "cnn.save_model()"
   ]
  },
  {
   "cell_type": "code",
   "execution_count": 23,
   "id": "ca0774b5",
   "metadata": {
    "execution": {
     "iopub.execute_input": "2024-07-27T16:06:34.923769Z",
     "iopub.status.busy": "2024-07-27T16:06:34.923430Z",
     "iopub.status.idle": "2024-07-27T16:06:35.132279Z",
     "shell.execute_reply": "2024-07-27T16:06:35.131174Z"
    },
    "papermill": {
     "duration": 0.223612,
     "end_time": "2024-07-27T16:06:35.134493",
     "exception": false,
     "start_time": "2024-07-27T16:06:34.910881",
     "status": "completed"
    },
    "tags": []
   },
   "outputs": [
    {
     "data": {
      "text/plain": [
       "array([0.17816079, 0.04491871, 0.2060105 ], dtype=float32)"
      ]
     },
     "execution_count": 23,
     "metadata": {},
     "output_type": "execute_result"
    }
   ],
   "source": [
    "y_prod_pred = []\n",
    "for images in test_loader:\n",
    "    images = images.to(device)\n",
    "    prob_outputs = cnn.predict(images)\n",
    "    y_prod_pred.extend(prob_outputs.cpu().numpy())\n",
    "\n",
    "y_prod_pred = np.array(y_prod_pred)\n",
    "y_prod_pred = y_prod_pred.flatten()\n",
    "y_prod_pred"
   ]
  },
  {
   "cell_type": "code",
   "execution_count": 24,
   "id": "1d0de53f",
   "metadata": {
    "execution": {
     "iopub.execute_input": "2024-07-27T16:06:35.159262Z",
     "iopub.status.busy": "2024-07-27T16:06:35.158931Z",
     "iopub.status.idle": "2024-07-27T16:06:35.173788Z",
     "shell.execute_reply": "2024-07-27T16:06:35.172916Z"
    },
    "papermill": {
     "duration": 0.029236,
     "end_time": "2024-07-27T16:06:35.175592",
     "exception": false,
     "start_time": "2024-07-27T16:06:35.146356",
     "status": "completed"
    },
    "tags": []
   },
   "outputs": [
    {
     "data": {
      "text/html": [
       "<div>\n",
       "<style scoped>\n",
       "    .dataframe tbody tr th:only-of-type {\n",
       "        vertical-align: middle;\n",
       "    }\n",
       "\n",
       "    .dataframe tbody tr th {\n",
       "        vertical-align: top;\n",
       "    }\n",
       "\n",
       "    .dataframe thead th {\n",
       "        text-align: right;\n",
       "    }\n",
       "</style>\n",
       "<table border=\"1\" class=\"dataframe\">\n",
       "  <thead>\n",
       "    <tr style=\"text-align: right;\">\n",
       "      <th></th>\n",
       "      <th>isic_id</th>\n",
       "      <th>target</th>\n",
       "    </tr>\n",
       "  </thead>\n",
       "  <tbody>\n",
       "    <tr>\n",
       "      <th>0</th>\n",
       "      <td>ISIC_0015657</td>\n",
       "      <td>0.178161</td>\n",
       "    </tr>\n",
       "    <tr>\n",
       "      <th>1</th>\n",
       "      <td>ISIC_0015729</td>\n",
       "      <td>0.044919</td>\n",
       "    </tr>\n",
       "    <tr>\n",
       "      <th>2</th>\n",
       "      <td>ISIC_0015740</td>\n",
       "      <td>0.206011</td>\n",
       "    </tr>\n",
       "  </tbody>\n",
       "</table>\n",
       "</div>"
      ],
      "text/plain": [
       "        isic_id    target\n",
       "0  ISIC_0015657  0.178161\n",
       "1  ISIC_0015729  0.044919\n",
       "2  ISIC_0015740  0.206011"
      ]
     },
     "execution_count": 24,
     "metadata": {},
     "output_type": "execute_result"
    }
   ],
   "source": [
    "submission_df = pd.DataFrame({'isic_id': test_metadata_df['isic_id'], 'target': y_prod_pred})\n",
    "submission_df "
   ]
  },
  {
   "cell_type": "code",
   "execution_count": 25,
   "id": "3b3750c4",
   "metadata": {
    "execution": {
     "iopub.execute_input": "2024-07-27T16:06:35.200097Z",
     "iopub.status.busy": "2024-07-27T16:06:35.199802Z",
     "iopub.status.idle": "2024-07-27T16:06:35.207881Z",
     "shell.execute_reply": "2024-07-27T16:06:35.207199Z"
    },
    "papermill": {
     "duration": 0.022626,
     "end_time": "2024-07-27T16:06:35.209808",
     "exception": false,
     "start_time": "2024-07-27T16:06:35.187182",
     "status": "completed"
    },
    "tags": []
   },
   "outputs": [],
   "source": [
    "submission_df.to_csv('submission.csv', index=False)"
   ]
  },
  {
   "cell_type": "code",
   "execution_count": null,
   "id": "0d98cd56",
   "metadata": {
    "papermill": {
     "duration": 0.011816,
     "end_time": "2024-07-27T16:06:35.233440",
     "exception": false,
     "start_time": "2024-07-27T16:06:35.221624",
     "status": "completed"
    },
    "tags": []
   },
   "outputs": [],
   "source": []
  }
 ],
 "metadata": {
  "kaggle": {
   "accelerator": "gpu",
   "dataSources": [
    {
     "databundleVersionId": 9094797,
     "sourceId": 63056,
     "sourceType": "competition"
    }
   ],
   "dockerImageVersionId": 30732,
   "isGpuEnabled": true,
   "isInternetEnabled": true,
   "language": "python",
   "sourceType": "notebook"
  },
  "kernelspec": {
   "display_name": "Python 3",
   "language": "python",
   "name": "python3"
  },
  "language_info": {
   "codemirror_mode": {
    "name": "ipython",
    "version": 3
   },
   "file_extension": ".py",
   "mimetype": "text/x-python",
   "name": "python",
   "nbconvert_exporter": "python",
   "pygments_lexer": "ipython3",
   "version": "3.10.13"
  },
  "papermill": {
   "default_parameters": {},
   "duration": 1901.869839,
   "end_time": "2024-07-27T16:06:37.173622",
   "environment_variables": {},
   "exception": null,
   "input_path": "__notebook__.ipynb",
   "output_path": "__notebook__.ipynb",
   "parameters": {},
   "start_time": "2024-07-27T15:34:55.303783",
   "version": "2.5.0"
  },
  "widgets": {
   "application/vnd.jupyter.widget-state+json": {
    "state": {
     "15789f7395b147f19cc32ec8678a05dc": {
      "model_module": "@jupyter-widgets/controls",
      "model_module_version": "1.5.0",
      "model_name": "DescriptionStyleModel",
      "state": {
       "_model_module": "@jupyter-widgets/controls",
       "_model_module_version": "1.5.0",
       "_model_name": "DescriptionStyleModel",
       "_view_count": null,
       "_view_module": "@jupyter-widgets/base",
       "_view_module_version": "1.2.0",
       "_view_name": "StyleView",
       "description_width": ""
      }
     },
     "162a0b8c7f354b09bd50f970e44a802a": {
      "model_module": "@jupyter-widgets/base",
      "model_module_version": "1.2.0",
      "model_name": "LayoutModel",
      "state": {
       "_model_module": "@jupyter-widgets/base",
       "_model_module_version": "1.2.0",
       "_model_name": "LayoutModel",
       "_view_count": null,
       "_view_module": "@jupyter-widgets/base",
       "_view_module_version": "1.2.0",
       "_view_name": "LayoutView",
       "align_content": null,
       "align_items": null,
       "align_self": null,
       "border": null,
       "bottom": null,
       "display": null,
       "flex": null,
       "flex_flow": null,
       "grid_area": null,
       "grid_auto_columns": null,
       "grid_auto_flow": null,
       "grid_auto_rows": null,
       "grid_column": null,
       "grid_gap": null,
       "grid_row": null,
       "grid_template_areas": null,
       "grid_template_columns": null,
       "grid_template_rows": null,
       "height": null,
       "justify_content": null,
       "justify_items": null,
       "left": null,
       "margin": null,
       "max_height": null,
       "max_width": null,
       "min_height": null,
       "min_width": null,
       "object_fit": null,
       "object_position": null,
       "order": null,
       "overflow": null,
       "overflow_x": null,
       "overflow_y": null,
       "padding": null,
       "right": null,
       "top": null,
       "visibility": null,
       "width": null
      }
     },
     "19f7020d5a774be09bd084845f87bc56": {
      "model_module": "@jupyter-widgets/base",
      "model_module_version": "1.2.0",
      "model_name": "LayoutModel",
      "state": {
       "_model_module": "@jupyter-widgets/base",
       "_model_module_version": "1.2.0",
       "_model_name": "LayoutModel",
       "_view_count": null,
       "_view_module": "@jupyter-widgets/base",
       "_view_module_version": "1.2.0",
       "_view_name": "LayoutView",
       "align_content": null,
       "align_items": null,
       "align_self": null,
       "border": null,
       "bottom": null,
       "display": null,
       "flex": null,
       "flex_flow": null,
       "grid_area": null,
       "grid_auto_columns": null,
       "grid_auto_flow": null,
       "grid_auto_rows": null,
       "grid_column": null,
       "grid_gap": null,
       "grid_row": null,
       "grid_template_areas": null,
       "grid_template_columns": null,
       "grid_template_rows": null,
       "height": null,
       "justify_content": null,
       "justify_items": null,
       "left": null,
       "margin": null,
       "max_height": null,
       "max_width": null,
       "min_height": null,
       "min_width": null,
       "object_fit": null,
       "object_position": null,
       "order": null,
       "overflow": null,
       "overflow_x": null,
       "overflow_y": null,
       "padding": null,
       "right": null,
       "top": null,
       "visibility": null,
       "width": null
      }
     },
     "1fa3cd4995b24bd8b36439242f16a7a8": {
      "model_module": "@jupyter-widgets/base",
      "model_module_version": "1.2.0",
      "model_name": "LayoutModel",
      "state": {
       "_model_module": "@jupyter-widgets/base",
       "_model_module_version": "1.2.0",
       "_model_name": "LayoutModel",
       "_view_count": null,
       "_view_module": "@jupyter-widgets/base",
       "_view_module_version": "1.2.0",
       "_view_name": "LayoutView",
       "align_content": null,
       "align_items": null,
       "align_self": null,
       "border": null,
       "bottom": null,
       "display": null,
       "flex": null,
       "flex_flow": null,
       "grid_area": null,
       "grid_auto_columns": null,
       "grid_auto_flow": null,
       "grid_auto_rows": null,
       "grid_column": null,
       "grid_gap": null,
       "grid_row": null,
       "grid_template_areas": null,
       "grid_template_columns": null,
       "grid_template_rows": null,
       "height": null,
       "justify_content": null,
       "justify_items": null,
       "left": null,
       "margin": null,
       "max_height": null,
       "max_width": null,
       "min_height": null,
       "min_width": null,
       "object_fit": null,
       "object_position": null,
       "order": null,
       "overflow": null,
       "overflow_x": null,
       "overflow_y": null,
       "padding": null,
       "right": null,
       "top": null,
       "visibility": null,
       "width": null
      }
     },
     "94612c9a50c44b93b2343126db353342": {
      "model_module": "@jupyter-widgets/controls",
      "model_module_version": "1.5.0",
      "model_name": "DescriptionStyleModel",
      "state": {
       "_model_module": "@jupyter-widgets/controls",
       "_model_module_version": "1.5.0",
       "_model_name": "DescriptionStyleModel",
       "_view_count": null,
       "_view_module": "@jupyter-widgets/base",
       "_view_module_version": "1.2.0",
       "_view_name": "StyleView",
       "description_width": ""
      }
     },
     "a90f7f8911ed4d06b6ba4e36c64d4980": {
      "model_module": "@jupyter-widgets/controls",
      "model_module_version": "1.5.0",
      "model_name": "HTMLModel",
      "state": {
       "_dom_classes": [],
       "_model_module": "@jupyter-widgets/controls",
       "_model_module_version": "1.5.0",
       "_model_name": "HTMLModel",
       "_view_count": null,
       "_view_module": "@jupyter-widgets/controls",
       "_view_module_version": "1.5.0",
       "_view_name": "HTMLView",
       "description": "",
       "description_tooltip": null,
       "layout": "IPY_MODEL_19f7020d5a774be09bd084845f87bc56",
       "placeholder": "​",
       "style": "IPY_MODEL_15789f7395b147f19cc32ec8678a05dc",
       "value": "model.safetensors: 100%"
      }
     },
     "ad0483e6c9ce406cbcb1d75419e9ef40": {
      "model_module": "@jupyter-widgets/controls",
      "model_module_version": "1.5.0",
      "model_name": "FloatProgressModel",
      "state": {
       "_dom_classes": [],
       "_model_module": "@jupyter-widgets/controls",
       "_model_module_version": "1.5.0",
       "_model_name": "FloatProgressModel",
       "_view_count": null,
       "_view_module": "@jupyter-widgets/controls",
       "_view_module_version": "1.5.0",
       "_view_name": "ProgressView",
       "bar_style": "success",
       "description": "",
       "description_tooltip": null,
       "layout": "IPY_MODEL_1fa3cd4995b24bd8b36439242f16a7a8",
       "max": 46807446.0,
       "min": 0.0,
       "orientation": "horizontal",
       "style": "IPY_MODEL_b01357272544472e844631e819a25a7a",
       "value": 46807446.0
      }
     },
     "b01357272544472e844631e819a25a7a": {
      "model_module": "@jupyter-widgets/controls",
      "model_module_version": "1.5.0",
      "model_name": "ProgressStyleModel",
      "state": {
       "_model_module": "@jupyter-widgets/controls",
       "_model_module_version": "1.5.0",
       "_model_name": "ProgressStyleModel",
       "_view_count": null,
       "_view_module": "@jupyter-widgets/base",
       "_view_module_version": "1.2.0",
       "_view_name": "StyleView",
       "bar_color": null,
       "description_width": ""
      }
     },
     "d12dc0ce829c4c6fa3baf869eaee22df": {
      "model_module": "@jupyter-widgets/base",
      "model_module_version": "1.2.0",
      "model_name": "LayoutModel",
      "state": {
       "_model_module": "@jupyter-widgets/base",
       "_model_module_version": "1.2.0",
       "_model_name": "LayoutModel",
       "_view_count": null,
       "_view_module": "@jupyter-widgets/base",
       "_view_module_version": "1.2.0",
       "_view_name": "LayoutView",
       "align_content": null,
       "align_items": null,
       "align_self": null,
       "border": null,
       "bottom": null,
       "display": null,
       "flex": null,
       "flex_flow": null,
       "grid_area": null,
       "grid_auto_columns": null,
       "grid_auto_flow": null,
       "grid_auto_rows": null,
       "grid_column": null,
       "grid_gap": null,
       "grid_row": null,
       "grid_template_areas": null,
       "grid_template_columns": null,
       "grid_template_rows": null,
       "height": null,
       "justify_content": null,
       "justify_items": null,
       "left": null,
       "margin": null,
       "max_height": null,
       "max_width": null,
       "min_height": null,
       "min_width": null,
       "object_fit": null,
       "object_position": null,
       "order": null,
       "overflow": null,
       "overflow_x": null,
       "overflow_y": null,
       "padding": null,
       "right": null,
       "top": null,
       "visibility": null,
       "width": null
      }
     },
     "d24f82452f504774af4e93b8ed050b34": {
      "model_module": "@jupyter-widgets/controls",
      "model_module_version": "1.5.0",
      "model_name": "HTMLModel",
      "state": {
       "_dom_classes": [],
       "_model_module": "@jupyter-widgets/controls",
       "_model_module_version": "1.5.0",
       "_model_name": "HTMLModel",
       "_view_count": null,
       "_view_module": "@jupyter-widgets/controls",
       "_view_module_version": "1.5.0",
       "_view_name": "HTMLView",
       "description": "",
       "description_tooltip": null,
       "layout": "IPY_MODEL_162a0b8c7f354b09bd50f970e44a802a",
       "placeholder": "​",
       "style": "IPY_MODEL_94612c9a50c44b93b2343126db353342",
       "value": " 46.8M/46.8M [00:00&lt;00:00, 154MB/s]"
      }
     },
     "eb231a6a0af546988d99334b88960949": {
      "model_module": "@jupyter-widgets/controls",
      "model_module_version": "1.5.0",
      "model_name": "HBoxModel",
      "state": {
       "_dom_classes": [],
       "_model_module": "@jupyter-widgets/controls",
       "_model_module_version": "1.5.0",
       "_model_name": "HBoxModel",
       "_view_count": null,
       "_view_module": "@jupyter-widgets/controls",
       "_view_module_version": "1.5.0",
       "_view_name": "HBoxView",
       "box_style": "",
       "children": [
        "IPY_MODEL_a90f7f8911ed4d06b6ba4e36c64d4980",
        "IPY_MODEL_ad0483e6c9ce406cbcb1d75419e9ef40",
        "IPY_MODEL_d24f82452f504774af4e93b8ed050b34"
       ],
       "layout": "IPY_MODEL_d12dc0ce829c4c6fa3baf869eaee22df"
      }
     }
    },
    "version_major": 2,
    "version_minor": 0
   }
  }
 },
 "nbformat": 4,
 "nbformat_minor": 5
}
