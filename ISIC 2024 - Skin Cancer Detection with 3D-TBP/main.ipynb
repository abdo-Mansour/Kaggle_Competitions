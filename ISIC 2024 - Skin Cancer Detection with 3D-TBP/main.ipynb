{
 "cells": [
  {
   "cell_type": "code",
   "execution_count": 1,
   "id": "eac1ee81",
   "metadata": {
    "execution": {
     "iopub.execute_input": "2024-07-30T10:20:04.108949Z",
     "iopub.status.busy": "2024-07-30T10:20:04.108557Z",
     "iopub.status.idle": "2024-07-30T10:20:04.113446Z",
     "shell.execute_reply": "2024-07-30T10:20:04.112511Z"
    },
    "papermill": {
     "duration": 0.015452,
     "end_time": "2024-07-30T10:20:04.115537",
     "exception": false,
     "start_time": "2024-07-30T10:20:04.100085",
     "status": "completed"
    },
    "tags": []
   },
   "outputs": [],
   "source": [
    "# !pip install torchsummary"
   ]
  },
  {
   "cell_type": "code",
   "execution_count": 2,
   "id": "ef7cbcd7",
   "metadata": {
    "execution": {
     "iopub.execute_input": "2024-07-30T10:20:04.129907Z",
     "iopub.status.busy": "2024-07-30T10:20:04.129563Z",
     "iopub.status.idle": "2024-07-30T10:20:15.472311Z",
     "shell.execute_reply": "2024-07-30T10:20:15.471344Z"
    },
    "papermill": {
     "duration": 11.352667,
     "end_time": "2024-07-30T10:20:15.474821",
     "exception": false,
     "start_time": "2024-07-30T10:20:04.122154",
     "status": "completed"
    },
    "tags": []
   },
   "outputs": [],
   "source": [
    "import torch\n",
    "import os\n",
    "import cv2\n",
    "import pandas as pd\n",
    "import numpy as np\n",
    "import torch.nn as nn\n",
    "import torch.optim as optim\n",
    "import torch.torch_version\n",
    "import torchvision.transforms as transforms\n",
    "import torchvision.models as models\n",
    "import matplotlib.pyplot as plt\n",
    "from PIL import Image\n",
    "import albumentations as A\n",
    "from albumentations.pytorch import ToTensorV2\n",
    "from torch.utils.data import DataLoader, Dataset\n",
    "# from torchsummary import summary\n",
    "from torchvision import transforms\n",
    "from torchmetrics import Accuracy, Precision, Recall\n",
    "import timm\n",
    "import cv2\n",
    "\n",
    "from torch.cuda.amp import GradScaler, autocast\n"
   ]
  },
  {
   "cell_type": "code",
   "execution_count": 3,
   "id": "d61f9b2b",
   "metadata": {
    "execution": {
     "iopub.execute_input": "2024-07-30T10:20:15.489346Z",
     "iopub.status.busy": "2024-07-30T10:20:15.488959Z",
     "iopub.status.idle": "2024-07-30T10:20:15.493841Z",
     "shell.execute_reply": "2024-07-30T10:20:15.493051Z"
    },
    "papermill": {
     "duration": 0.01461,
     "end_time": "2024-07-30T10:20:15.496004",
     "exception": false,
     "start_time": "2024-07-30T10:20:15.481394",
     "status": "completed"
    },
    "tags": []
   },
   "outputs": [
    {
     "name": "stdout",
     "output_type": "stream",
     "text": [
      "2.1.2\n"
     ]
    }
   ],
   "source": [
    "import torch\n",
    "print(torch.__version__)"
   ]
  },
  {
   "cell_type": "code",
   "execution_count": 4,
   "id": "e5ec5d30",
   "metadata": {
    "execution": {
     "iopub.execute_input": "2024-07-30T10:20:15.509673Z",
     "iopub.status.busy": "2024-07-30T10:20:15.509413Z",
     "iopub.status.idle": "2024-07-30T10:20:15.570447Z",
     "shell.execute_reply": "2024-07-30T10:20:15.569613Z"
    },
    "papermill": {
     "duration": 0.070134,
     "end_time": "2024-07-30T10:20:15.572536",
     "exception": false,
     "start_time": "2024-07-30T10:20:15.502402",
     "status": "completed"
    },
    "tags": []
   },
   "outputs": [
    {
     "name": "stdout",
     "output_type": "stream",
     "text": [
      "Using cuda device\n"
     ]
    }
   ],
   "source": [
    "device = (\n",
    "    \"cuda\"\n",
    "    if torch.cuda.is_available()\n",
    "    else \"mps\"\n",
    "    if torch.backends.mps.is_available()\n",
    "    else \"cpu\"\n",
    ")\n",
    "print(f\"Using {device} device\")"
   ]
  },
  {
   "cell_type": "code",
   "execution_count": 5,
   "id": "19802bad",
   "metadata": {
    "execution": {
     "iopub.execute_input": "2024-07-30T10:20:15.586662Z",
     "iopub.status.busy": "2024-07-30T10:20:15.586384Z",
     "iopub.status.idle": "2024-07-30T10:20:15.590429Z",
     "shell.execute_reply": "2024-07-30T10:20:15.589734Z"
    },
    "papermill": {
     "duration": 0.013263,
     "end_time": "2024-07-30T10:20:15.592318",
     "exception": false,
     "start_time": "2024-07-30T10:20:15.579055",
     "status": "completed"
    },
    "tags": []
   },
   "outputs": [],
   "source": [
    "iskaggle = os.environ.get('KAGGLE_KERNEL_RUN_TYPE', '')\n",
    "main_path = '/kaggle/input/isic-2024-challenge' if iskaggle else 'data/isic-2024-challenge'"
   ]
  },
  {
   "cell_type": "code",
   "execution_count": 6,
   "id": "2cba1053",
   "metadata": {
    "execution": {
     "iopub.execute_input": "2024-07-30T10:20:15.606486Z",
     "iopub.status.busy": "2024-07-30T10:20:15.605969Z",
     "iopub.status.idle": "2024-07-30T10:20:22.984348Z",
     "shell.execute_reply": "2024-07-30T10:20:22.983287Z"
    },
    "papermill": {
     "duration": 7.387967,
     "end_time": "2024-07-30T10:20:22.986654",
     "exception": false,
     "start_time": "2024-07-30T10:20:15.598687",
     "status": "completed"
    },
    "tags": []
   },
   "outputs": [
    {
     "name": "stderr",
     "output_type": "stream",
     "text": [
      "/tmp/ipykernel_25/3275392473.py:4: DtypeWarning: Columns (51,52) have mixed types. Specify dtype option on import or set low_memory=False.\n",
      "  train_metadata_df = pd.read_csv(train_metadata_path)\n"
     ]
    },
    {
     "name": "stdout",
     "output_type": "stream",
     "text": [
      "401059\n"
     ]
    }
   ],
   "source": [
    "train_metadata_path = '/kaggle/input/isic-2024-challenge/train-metadata.csv' if iskaggle else 'data/isic-2024-challenge/train-metadata.csv'\n",
    "test_metadata_path = '/kaggle/input/isic-2024-challenge/test-metadata.csv' if iskaggle else 'data/isic-2024-challenge/test-metadata.csv'\n",
    "\n",
    "train_metadata_df = pd.read_csv(train_metadata_path)\n",
    "test_metadata_df = pd.read_csv(test_metadata_path)\n",
    "\n",
    "print(len(train_metadata_df))"
   ]
  },
  {
   "cell_type": "code",
   "execution_count": 7,
   "id": "3b1b643a",
   "metadata": {
    "execution": {
     "iopub.execute_input": "2024-07-30T10:20:23.002496Z",
     "iopub.status.busy": "2024-07-30T10:20:23.001670Z",
     "iopub.status.idle": "2024-07-30T10:20:23.161387Z",
     "shell.execute_reply": "2024-07-30T10:20:23.160338Z"
    },
    "papermill": {
     "duration": 0.169631,
     "end_time": "2024-07-30T10:20:23.163610",
     "exception": false,
     "start_time": "2024-07-30T10:20:22.993979",
     "status": "completed"
    },
    "tags": []
   },
   "outputs": [
    {
     "name": "stdout",
     "output_type": "stream",
     "text": [
      "Positive samples: (393, 55)\n",
      "Negative samples: (4716, 55)\n"
     ]
    }
   ],
   "source": [
    "import sklearn.model_selection as train_test_split\n",
    "\n",
    "train_size = 0.8\n",
    "# Splitting the train dataset into positive and negative samples and saving them in separate dataframes\n",
    "postive_samples = train_metadata_df[train_metadata_df['target'] == 1]\n",
    "negative_samples = train_metadata_df[train_metadata_df['target'] == 0]\n",
    "\n",
    "# TODO: Taking Sample of 1% of the data\n",
    "# postive_samples = postive_samples.sample(frac=0.1)\n",
    "negative_samples = negative_samples.sample(frac=12*(postive_samples.shape[0]/negative_samples.shape[0]))\n",
    "\n",
    "print(f\"Positive samples: {postive_samples.shape}\")\n",
    "print(f\"Negative samples: {negative_samples.shape}\")"
   ]
  },
  {
   "cell_type": "code",
   "execution_count": 8,
   "id": "d522d5d4",
   "metadata": {
    "execution": {
     "iopub.execute_input": "2024-07-30T10:20:23.178969Z",
     "iopub.status.busy": "2024-07-30T10:20:23.178590Z",
     "iopub.status.idle": "2024-07-30T10:20:23.190192Z",
     "shell.execute_reply": "2024-07-30T10:20:23.189285Z"
    },
    "papermill": {
     "duration": 0.021555,
     "end_time": "2024-07-30T10:20:23.192135",
     "exception": false,
     "start_time": "2024-07-30T10:20:23.170580",
     "status": "completed"
    },
    "tags": []
   },
   "outputs": [
    {
     "name": "stdout",
     "output_type": "stream",
     "text": [
      "Train positive samples: (314, 55)\n",
      "Train negative samples: (3772, 55)\n",
      "Val positive samples: (79, 55)\n",
      "Val negative samples: (944, 55)\n"
     ]
    }
   ],
   "source": [
    "\n",
    "# Splitting each type of samples into train and validation sets\n",
    "train_positive_samples, val_positive_samples = train_test_split.train_test_split(postive_samples,test_size=1-train_size)\n",
    "train_negative_samples, val_negative_samples = train_test_split.train_test_split(negative_samples,test_size=1-train_size)\n",
    "print(f\"Train positive samples: {train_positive_samples.shape}\")\n",
    "print(f\"Train negative samples: {train_negative_samples.shape}\")\n",
    "print(f\"Val positive samples: {val_positive_samples.shape}\")\n",
    "print(f\"Val negative samples: {val_negative_samples.shape}\")\n"
   ]
  },
  {
   "cell_type": "code",
   "execution_count": 9,
   "id": "6fa4c8dc",
   "metadata": {
    "execution": {
     "iopub.execute_input": "2024-07-30T10:20:23.206959Z",
     "iopub.status.busy": "2024-07-30T10:20:23.206681Z",
     "iopub.status.idle": "2024-07-30T10:20:23.268985Z",
     "shell.execute_reply": "2024-07-30T10:20:23.268029Z"
    },
    "papermill": {
     "duration": 0.07211,
     "end_time": "2024-07-30T10:20:23.271156",
     "exception": false,
     "start_time": "2024-07-30T10:20:23.199046",
     "status": "completed"
    },
    "tags": []
   },
   "outputs": [
    {
     "name": "stdout",
     "output_type": "stream",
     "text": [
      "Train samples: (4086, 55)\n",
      "Val samples: (1023, 55)\n",
      "Test samples: (3, 44)\n"
     ]
    }
   ],
   "source": [
    "\n",
    "# Concatenating the positive and negative samples to get the train and validation sets\n",
    "train_metadata_df = pd.concat([train_positive_samples, train_negative_samples])\n",
    "val_metadata_df = pd.concat([val_positive_samples, val_negative_samples])\n",
    "print(f\"Train samples: {train_metadata_df.shape}\")\n",
    "print(f\"Val samples: {val_metadata_df.shape}\")\n",
    "print(f\"Test samples: {test_metadata_df.shape}\")\n"
   ]
  },
  {
   "cell_type": "code",
   "execution_count": 10,
   "id": "3db915ed",
   "metadata": {
    "execution": {
     "iopub.execute_input": "2024-07-30T10:20:23.288263Z",
     "iopub.status.busy": "2024-07-30T10:20:23.287967Z",
     "iopub.status.idle": "2024-07-30T10:20:23.419753Z",
     "shell.execute_reply": "2024-07-30T10:20:23.418751Z"
    },
    "papermill": {
     "duration": 0.142499,
     "end_time": "2024-07-30T10:20:23.422146",
     "exception": false,
     "start_time": "2024-07-30T10:20:23.279647",
     "status": "completed"
    },
    "tags": []
   },
   "outputs": [],
   "source": [
    "import h5py\n",
    "from io import BytesIO\n",
    "\n",
    "train_hdf5_path = '/kaggle/input/isic-2024-challenge/train-image.hdf5' if iskaggle else 'data/isic-2024-challenge/train-image.hdf5'\n",
    "test_hdf5_path = '/kaggle/input/isic-2024-challenge/test-image.hdf5' if iskaggle else 'data/isic-2024-challenge/test-image.hdf5'\n",
    "train_image_path = '/kaggle/input/isic-2024-challenge/train-image/image' if iskaggle else 'data/isic-2024-challenge/train-image/image'"
   ]
  },
  {
   "cell_type": "code",
   "execution_count": 11,
   "id": "5455d1f4",
   "metadata": {
    "execution": {
     "iopub.execute_input": "2024-07-30T10:20:23.437794Z",
     "iopub.status.busy": "2024-07-30T10:20:23.437510Z",
     "iopub.status.idle": "2024-07-30T10:20:23.445802Z",
     "shell.execute_reply": "2024-07-30T10:20:23.445001Z"
    },
    "papermill": {
     "duration": 0.01828,
     "end_time": "2024-07-30T10:20:23.447703",
     "exception": false,
     "start_time": "2024-07-30T10:20:23.429423",
     "status": "completed"
    },
    "tags": []
   },
   "outputs": [],
   "source": [
    "class CustomDataset(Dataset):\n",
    "    def __init__(self, hdf5_file_path, metadata_df,target=None, transform=None):\n",
    "        self.hdf5_file_path = hdf5_file_path\n",
    "        self.hdf5_file = h5py.File(self.hdf5_file_path, 'r')\n",
    "        self.metadata_df = metadata_df\n",
    "        self.image_ids = metadata_df['isic_id']\n",
    "        self.labels = target\n",
    "        self.transform = transform\n",
    "\n",
    "        self.mean_of_color_channels = None  # Initialize as None\n",
    "        self.std_of_color_channels = None   # Initialize as None\n",
    "        # self._calculate_stats()\n",
    "\n",
    "    def __len__(self):\n",
    "        return len(self.image_ids)\n",
    "\n",
    "    def __getitem__(self, idx):\n",
    "        image_id = self.image_ids.iloc[idx]\n",
    "        image = np.array(Image.open(BytesIO(np.array(self.hdf5_file[image_id]))),dtype=np.float32)/255\n",
    "        \n",
    "        if self.transform:\n",
    "            image = self.transform(image=image)\n",
    "            image = image['image']\n",
    "\n",
    "        if self.labels is not None:\n",
    "            label = self.labels.iloc[idx]\n",
    "            return image, label\n",
    "        else:\n",
    "            return image\n",
    "\n",
    "   "
   ]
  },
  {
   "cell_type": "code",
   "execution_count": 12,
   "id": "0400adc8",
   "metadata": {
    "execution": {
     "iopub.execute_input": "2024-07-30T10:20:23.463172Z",
     "iopub.status.busy": "2024-07-30T10:20:23.462846Z",
     "iopub.status.idle": "2024-07-30T10:20:23.466898Z",
     "shell.execute_reply": "2024-07-30T10:20:23.466005Z"
    },
    "papermill": {
     "duration": 0.013982,
     "end_time": "2024-07-30T10:20:23.468726",
     "exception": false,
     "start_time": "2024-07-30T10:20:23.454744",
     "status": "completed"
    },
    "tags": []
   },
   "outputs": [],
   "source": [
    "# HyperParameters\n",
    "dim = 384 \n",
    "batch_size = 64"
   ]
  },
  {
   "cell_type": "code",
   "execution_count": 13,
   "id": "775e8b27",
   "metadata": {
    "execution": {
     "iopub.execute_input": "2024-07-30T10:20:23.484558Z",
     "iopub.status.busy": "2024-07-30T10:20:23.483933Z",
     "iopub.status.idle": "2024-07-30T10:20:23.492173Z",
     "shell.execute_reply": "2024-07-30T10:20:23.491298Z"
    },
    "papermill": {
     "duration": 0.018341,
     "end_time": "2024-07-30T10:20:23.494182",
     "exception": false,
     "start_time": "2024-07-30T10:20:23.475841",
     "status": "completed"
    },
    "tags": []
   },
   "outputs": [],
   "source": [
    "train_transform = A.Compose([\n",
    "    A.Resize(height=dim, width=dim), #resize \n",
    "    \n",
    "    A.OneOf([\n",
    "        A.Transpose(p=1.0),\n",
    "        A.VerticalFlip(p=1.0),\n",
    "        A.HorizontalFlip(p=1.0)\n",
    "    ], p=0.5),  # Transpose, vertical flip, or horizontal flip with equal probability   \n",
    "\n",
    "    A.GaussNoise(var_limit=(5.0, 30.0), p=1.0),  # Gaussian noise  \n",
    "    A.HueSaturationValue(hue_shift_limit=10, sat_shift_limit=20, val_shift_limit=10, p=1.0),  # Hue, saturation, and value adjustment\n",
    "    A.CoarseDropout(p=1.0),  # Cutout augmentation\n",
    "    # !!One needs to change the mean and std values to appropriate ones for this dataset.!!\n",
    "    A.transforms.Normalize(mean=[0.485, 0.456, 0.406], std=[0.229, 0.224, 0.225], max_pixel_value=1.0),\n",
    "    ToTensorV2(),\n",
    "])\n",
    "\n",
    "\n",
    "test_transform = A.Compose([\n",
    "    A.Resize(height=dim, width=dim), #resize \n",
    "    # !!One needs to change the mean and std values to appropriate ones for this dataset.!!\n",
    "    A.transforms.Normalize(mean=[0.485, 0.456, 0.406], std=[0.229, 0.224, 0.225], max_pixel_value=1.0),\n",
    "    ToTensorV2(),\n",
    "])"
   ]
  },
  {
   "cell_type": "code",
   "execution_count": 14,
   "id": "49d3bba7",
   "metadata": {
    "execution": {
     "iopub.execute_input": "2024-07-30T10:20:23.509673Z",
     "iopub.status.busy": "2024-07-30T10:20:23.509425Z",
     "iopub.status.idle": "2024-07-30T10:20:23.530855Z",
     "shell.execute_reply": "2024-07-30T10:20:23.530041Z"
    },
    "papermill": {
     "duration": 0.031218,
     "end_time": "2024-07-30T10:20:23.532688",
     "exception": false,
     "start_time": "2024-07-30T10:20:23.501470",
     "status": "completed"
    },
    "tags": []
   },
   "outputs": [],
   "source": [
    "train_dataset = CustomDataset(train_hdf5_path,train_metadata_df,target=train_metadata_df['target'],transform=train_transform)\n",
    "# train_image_dataset = CustomDatasetImage(train_image_path,train_metadata_df,target=train_metadata_df['target'],transform=train_transform)\n",
    "val_dataset = CustomDataset(train_hdf5_path,val_metadata_df,target=val_metadata_df['target'],transform=train_transform)\n",
    "test_dataset = CustomDataset(test_hdf5_path,test_metadata_df,transform=test_transform)"
   ]
  },
  {
   "cell_type": "code",
   "execution_count": 15,
   "id": "bdbe5ef0",
   "metadata": {
    "execution": {
     "iopub.execute_input": "2024-07-30T10:20:23.548454Z",
     "iopub.status.busy": "2024-07-30T10:20:23.547825Z",
     "iopub.status.idle": "2024-07-30T10:20:23.553209Z",
     "shell.execute_reply": "2024-07-30T10:20:23.552397Z"
    },
    "papermill": {
     "duration": 0.015339,
     "end_time": "2024-07-30T10:20:23.555166",
     "exception": false,
     "start_time": "2024-07-30T10:20:23.539827",
     "status": "completed"
    },
    "tags": []
   },
   "outputs": [],
   "source": [
    "n_w = 0\n",
    "if iskaggle:\n",
    "    n_w = 4\n",
    "train_loader = DataLoader(train_dataset,batch_size=batch_size,shuffle=True,num_workers=n_w)\n",
    "val_loader = DataLoader(val_dataset,batch_size=batch_size,shuffle=True,num_workers=n_w)\n",
    "test_loader = DataLoader(test_dataset,batch_size=batch_size,shuffle=False,num_workers=n_w)"
   ]
  },
  {
   "cell_type": "code",
   "execution_count": 16,
   "id": "6a60da4b",
   "metadata": {
    "execution": {
     "iopub.execute_input": "2024-07-30T10:20:23.570786Z",
     "iopub.status.busy": "2024-07-30T10:20:23.570316Z",
     "iopub.status.idle": "2024-07-30T10:20:23.575911Z",
     "shell.execute_reply": "2024-07-30T10:20:23.575077Z"
    },
    "papermill": {
     "duration": 0.015417,
     "end_time": "2024-07-30T10:20:23.577820",
     "exception": false,
     "start_time": "2024-07-30T10:20:23.562403",
     "status": "completed"
    },
    "tags": []
   },
   "outputs": [],
   "source": [
    "from sklearn.metrics import roc_curve, auc, roc_auc_score\n",
    "\n",
    "def calculate_partial_auc_by_tpr(y_true, y_scores, min_tpr=0.8):\n",
    "    v_gt = abs(y_true-1)\n",
    "    v_pred = 1 - y_scores\n",
    "    max_fpr = abs(1-min_tpr)\n",
    "    partial_auc_scaled = roc_auc_score(v_gt, v_pred, max_fpr=max_fpr)\n",
    "    # change scale from [0.5, 1.0] to [0.5 * max_fpr**2, max_fpr]\n",
    "    # https://math.stackexchange.com/questions/914823/shift-numbers-into-a-different-range\n",
    "    partial_auc = 0.5 * max_fpr**2 + (max_fpr - 0.5 * max_fpr**2) / (1.0 - 0.5) * (partial_auc_scaled - 0.5)\n",
    "    \n",
    "    return partial_auc"
   ]
  },
  {
   "cell_type": "code",
   "execution_count": 17,
   "id": "b3af1b5f",
   "metadata": {
    "execution": {
     "iopub.execute_input": "2024-07-30T10:20:23.593952Z",
     "iopub.status.busy": "2024-07-30T10:20:23.593664Z",
     "iopub.status.idle": "2024-07-30T10:20:23.629024Z",
     "shell.execute_reply": "2024-07-30T10:20:23.628157Z"
    },
    "papermill": {
     "duration": 0.045892,
     "end_time": "2024-07-30T10:20:23.630990",
     "exception": false,
     "start_time": "2024-07-30T10:20:23.585098",
     "status": "completed"
    },
    "tags": []
   },
   "outputs": [],
   "source": [
    "class Model(nn.Module):\n",
    "    def __init__(self,num_classes,device,dim = 32,num_epochs = 20,learning_rate = 0.001,early_stopping = False):\n",
    "        super().__init__()\n",
    "        self.num_of_classes = num_classes\n",
    "        self.device = device\n",
    "        self.dim = dim\n",
    "        # Debugging\n",
    "        self.DEBUG = True\n",
    "        # Hyperparameters\n",
    "        self.num_epochs = num_epochs\n",
    "        self.learning_rate = learning_rate\n",
    "        self.early_stopping = early_stopping\n",
    "        # History while Training\n",
    "        self.model_loss_history = []\n",
    "\n",
    "        self.model_train_acc_history = []\n",
    "        self.model_train_pauc_history = []\n",
    "        \n",
    "        self.model_val_acc_history = []\n",
    "        self.model_val_precision_history = []\n",
    "        self.model_val_recall_history = []\n",
    "        self.model_val_pauc_history = []\n",
    "        \n",
    "        self.model_lr_history = []\n",
    "\n",
    "        # Model Attributes\n",
    "        self.criterion = nn.BCEWithLogitsLoss()\n",
    "        self.optimizer = None\n",
    "        self.accuracy = Accuracy(task= 'binary', average='macro').to(self.device)\n",
    "        self.precision = Precision(task= 'binary', average='macro').to(self.device)\n",
    "        self.recall = Recall(task= 'binary', average='macro').to(self.device)\n",
    "        \n",
    "        # Load ResNet-18 from timm\n",
    "#         self.feature_extractor = timm.create_model('resnet18', pretrained=True, num_classes=0)\n",
    "        self.feature_extractor = models.resnet18(pretrained=False)\n",
    "        self.feature_extractor.load_state_dict(torch.load(\"/kaggle/input/resnet18/resnet18.pth\"))\n",
    "        self.feature_extractor.to(self.device)\n",
    "        \n",
    "        # Freeze ResNet-18\n",
    "        self.freeze_backbone()\n",
    "\n",
    "        # Add custom classifier head\n",
    "        self.classifier = nn.Sequential(\n",
    "            nn.Linear(1000, 256),\n",
    "            nn.ReLU(),\n",
    "            nn.Dropout(0.5),\n",
    "            nn.Linear(256,50),\n",
    "            nn.ReLU(),\n",
    "            nn.Dropout(0.5),\n",
    "            nn.Linear(50,1)\n",
    "        ).to(self.device)\n",
    "        \n",
    "\n",
    "    def freeze_backbone(self, freeze=True):\n",
    "        # Freeze/unfreeze feature extractor layers\n",
    "        for param in self.feature_extractor.parameters():\n",
    "            param.requires_grad = not freeze\n",
    "\n",
    "    def forward(self, x):\n",
    "        # Feature extraction using ResNet-18\n",
    "        x = self.feature_extractor(x)\n",
    "        x = self.classifier(x)\n",
    "        return x\n",
    "    \n",
    "    def predict(self, img):\n",
    "        '''\n",
    "        returns the predicted classes for the given images\n",
    "        '''\n",
    "        self.eval()\n",
    "        with torch.no_grad():\n",
    "            img = img.to(self.device)\n",
    "            output = self(img)\n",
    "            prob_outputs = torch.sigmoid(output)\n",
    "            return prob_outputs\n",
    "            \n",
    "        \n",
    "\n",
    "    \n",
    "    def eval_val(self, data_loader):\n",
    "        '''\n",
    "        returns the accuracy, precision, recall , partial AUC, predicted probabilities and actual labels for the given data loader\n",
    "        '''\n",
    "        self.eval()\n",
    "        y_prob_pred = np.array([])\n",
    "        y_actual = np.array([])\n",
    "        with torch.no_grad():\n",
    "            for images, actuals in data_loader:\n",
    "                \n",
    "                images, actuals = images.to(self.device), actuals.to(self.device)\n",
    "                # Get the model predictions\n",
    "                output = self(images)\n",
    "                # Get the probability outputs\n",
    "                prob_outputs = torch.sigmoid(output)\n",
    "                # Get the binary predictions\n",
    "                batch_pred = (prob_outputs > 0.5).float()\n",
    "                # Reshape the actuals\n",
    "                actuals = actuals.unsqueeze(1).float()\n",
    "                \n",
    "                y_prob_pred = np.concatenate((y_prob_pred, prob_outputs.cpu().numpy().squeeze()))\n",
    "                y_actual = np.concatenate((y_actual, actuals.cpu().numpy().squeeze()))\n",
    "\n",
    "                # Update the metrics\n",
    "                self.accuracy(batch_pred, actuals)\n",
    "                self.precision(batch_pred, actuals)\n",
    "                self.recall(batch_pred, actuals)\n",
    "        \n",
    "        # Calculate the partial AUC\n",
    "        partial_auc = calculate_partial_auc_by_tpr(y_true=y_actual, y_scores=y_prob_pred, min_tpr=0.8)\n",
    "\n",
    "        return self.accuracy.compute(), self.precision.compute(), self.recall.compute(), partial_auc, y_prob_pred, y_actual\n",
    "    \n",
    "    def train_model(self, train_loader, val_loader):\n",
    "        \n",
    "        last_accuracy = -100\n",
    "        self.optimizer = optim.Adam(self.parameters(), lr=self.learning_rate)\n",
    "        scaler = GradScaler()\n",
    "\n",
    "        for epoch in range(self.num_epochs):\n",
    "            self.train()\n",
    "            running_loss = 0.0\n",
    "\n",
    "            for i, (images, labels) in enumerate(train_loader):\n",
    "                \n",
    "                images, labels = images.to(self.device), labels.to(self.device)\n",
    "                self.optimizer.zero_grad()\n",
    "                with autocast():\n",
    "                    outputs = self(images)\n",
    "                    labels = labels.unsqueeze(1).float()\n",
    "                    loss = self.criterion(outputs, labels)\n",
    "                scaler.scale(loss).backward()\n",
    "                # Gradient clipping\n",
    "                max_norm = 1.0  # Set the maximum allowable norm for the gradients\n",
    "                torch.nn.utils.clip_grad_norm_(self.parameters(), max_norm)\n",
    "                scaler.step(self.optimizer)\n",
    "                scaler.update()\n",
    "\n",
    "                running_loss += loss.item()\n",
    "                if i%1000 == 0 and self.DEBUG:\n",
    "                    print(\" Step [{}/{}] Loss: {}\".format(i, len(train_loader), loss.item()))\n",
    "                    \n",
    "            val_acc, val_precision, val_recall, val_pauc, _ , _ = self.eval_val(val_loader)\n",
    "            train_acc, _, _, train_pauc, _, _ = self.eval_val(train_loader)\n",
    "\n",
    "            self.model_loss_history.append(running_loss/len(train_loader))\n",
    "            self.model_train_acc_history.append(train_acc.item())\n",
    "            self.model_train_pauc_history.append(train_pauc)\n",
    "            self.model_val_acc_history.append(val_acc.item())\n",
    "            self.model_val_precision_history.append(val_precision.item())\n",
    "            self.model_val_recall_history.append(val_recall.item())\n",
    "            self.model_val_pauc_history.append(val_pauc)\n",
    "            self.model_lr_history.append(self.optimizer.param_groups[0]['lr'])\n",
    "            \n",
    "            print(f'Epoch: {epoch+1}/{self.num_epochs}, Loss: {loss.item()},Train Acc: {train_acc}, Val Acc: {val_acc}, Val Precision: {val_precision}, Val Recall: {val_recall},Train PAUC: {train_pauc}, Val PAUC: {val_pauc}')\n",
    "            \n",
    "            if val_acc > last_accuracy:\n",
    "                last_accuracy = val_acc\n",
    "            elif self.early_stopping:\n",
    "                break\n",
    "        \n",
    "        print('Finished Training')\n",
    "\n",
    "    def plot_history(self):\n",
    "        # making two plots one for loss and other for accuracy\n",
    "        fig, axs = plt.subplots(2, 3, figsize=(15, 10))\n",
    "        fig.suptitle('Model Training History')\n",
    "        axs[0, 0].plot(self.model_loss_history)\n",
    "        axs[0, 0].set_title('Model Loss')\n",
    "        axs[0, 0].set_xlabel('Epochs')\n",
    "        axs[0, 0].set_ylabel('Loss')\n",
    "\n",
    "        axs[0, 1].plot(self.model_train_acc_history, label='Train')\n",
    "        axs[0, 1].plot(self.model_val_acc_history, label='Val')\n",
    "        axs[0, 1].set_title('Model Accuracy')\n",
    "        axs[0, 1].set_xlabel('Epochs')\n",
    "        axs[0, 1].set_ylabel('Accuracy')\n",
    "        axs[0, 1].legend()\n",
    "\n",
    "        axs[1, 0].plot(self.model_val_precision_history)\n",
    "        axs[1, 0].set_title('Model Precision')\n",
    "        axs[1, 0].set_xlabel('Epochs')\n",
    "        axs[1, 0].set_ylabel('Precision')\n",
    "        \n",
    "        axs[1, 1].plot(self.model_val_recall_history)\n",
    "        axs[1, 1].set_title('Model Recall')\n",
    "        axs[1, 1].set_xlabel('Epochs')\n",
    "        axs[1, 1].set_ylabel('Recall')\n",
    "\n",
    "        axs[0, 2].plot(self.model_lr_history)\n",
    "        axs[0, 2].set_title('Learning Rate')\n",
    "        axs[0, 2].set_xlabel('Epochs')\n",
    "        axs[0, 2].set_ylabel('Learning Rate')\n",
    "        \n",
    "        axs[1, 2].plot(self.model_val_pauc_history)\n",
    "        axs[1, 2].set_title('Model Partial AUC')\n",
    "        axs[1, 2].set_xlabel('Epochs')\n",
    "        axs[1, 2].set_ylabel('Partial AUC')\n",
    "        \n",
    "\n",
    "        plt.show()\n",
    "    \n",
    "    def save_model(self):\n",
    "        torch.save(self.state_dict(),type(self).__name__+'.pth')\n",
    "\n",
    "    def print_summary(self):\n",
    "        pass\n",
    "#         summary(self, (3, self.dim, self.dim))"
   ]
  },
  {
   "cell_type": "code",
   "execution_count": 18,
   "id": "69f3cad7",
   "metadata": {
    "execution": {
     "iopub.execute_input": "2024-07-30T10:20:23.646805Z",
     "iopub.status.busy": "2024-07-30T10:20:23.646537Z",
     "iopub.status.idle": "2024-07-30T10:20:24.553258Z",
     "shell.execute_reply": "2024-07-30T10:20:24.552032Z"
    },
    "papermill": {
     "duration": 0.917055,
     "end_time": "2024-07-30T10:20:24.555409",
     "exception": false,
     "start_time": "2024-07-30T10:20:23.638354",
     "status": "completed"
    },
    "tags": []
   },
   "outputs": [
    {
     "name": "stderr",
     "output_type": "stream",
     "text": [
      "/opt/conda/lib/python3.10/site-packages/torchvision/models/_utils.py:208: UserWarning: The parameter 'pretrained' is deprecated since 0.13 and may be removed in the future, please use 'weights' instead.\n",
      "  warnings.warn(\n",
      "/opt/conda/lib/python3.10/site-packages/torchvision/models/_utils.py:223: UserWarning: Arguments other than a weight enum or `None` for 'weights' are deprecated since 0.13 and may be removed in the future. The current behavior is equivalent to passing `weights=None`.\n",
      "  warnings.warn(msg)\n"
     ]
    },
    {
     "name": "stdout",
     "output_type": "stream",
     "text": [
      "Time to Train Booi\n"
     ]
    }
   ],
   "source": [
    "num_of_classes = 2\n",
    "cnn = Model(num_classes=num_of_classes, \n",
    "            device=device, \n",
    "            dim=dim, \n",
    "            num_epochs=25, \n",
    "            learning_rate=0.0001,\n",
    "            early_stopping=False)\n",
    "cnn.to(device)\n",
    "print(\"Time to Train Booi\")\n",
    "# cnn.print_summary()"
   ]
  },
  {
   "cell_type": "code",
   "execution_count": 19,
   "id": "9c3e0720",
   "metadata": {
    "execution": {
     "iopub.execute_input": "2024-07-30T10:20:24.572190Z",
     "iopub.status.busy": "2024-07-30T10:20:24.571910Z",
     "iopub.status.idle": "2024-07-30T11:06:28.413682Z",
     "shell.execute_reply": "2024-07-30T11:06:28.412525Z"
    },
    "papermill": {
     "duration": 2763.864784,
     "end_time": "2024-07-30T11:06:28.428007",
     "exception": false,
     "start_time": "2024-07-30T10:20:24.563223",
     "status": "completed"
    },
    "tags": []
   },
   "outputs": [
    {
     "name": "stdout",
     "output_type": "stream",
     "text": [
      " Step [0/64] Loss: 0.6529331207275391\n",
      "Epoch: 1/25, Loss: 0.24062521755695343,Train Acc: 0.9230769276618958, Val Acc: 0.9227761626243591, Val Precision: 0.0, Val Recall: 0.0,Train PAUC: 0.022908828714429456, Val PAUC: 0.011778588285775578\n",
      " Step [0/64] Loss: 0.16984321177005768\n",
      "Epoch: 2/25, Loss: 0.49189603328704834,Train Acc: 0.9230769276618958, Val Acc: 0.9230267405509949, Val Precision: 0.0, Val Recall: 0.0,Train PAUC: 0.015413269751639622, Val PAUC: 0.01998229993563612\n",
      " Step [0/64] Loss: 0.5829738974571228\n",
      "Epoch: 3/25, Loss: 0.2966824769973755,Train Acc: 0.9230769276618958, Val Acc: 0.9230495691299438, Val Precision: 0.0, Val Recall: 0.0,Train PAUC: 0.01731970739812631, Val PAUC: 0.031439068869341336\n",
      " Step [0/64] Loss: 0.2355034351348877\n",
      "Epoch: 4/25, Loss: 0.2728334963321686,Train Acc: 0.9230769276618958, Val Acc: 0.9230580925941467, Val Precision: 0.0, Val Recall: 0.0,Train PAUC: 0.020069446430454205, Val PAUC: 0.021012121862261306\n",
      " Step [0/64] Loss: 0.4024726450443268\n",
      "Epoch: 5/25, Loss: 0.7459061145782471,Train Acc: 0.9230769276618958, Val Acc: 0.9230625629425049, Val Precision: 0.0, Val Recall: 0.0,Train PAUC: 0.022475194358700712, Val PAUC: 0.023393585067582056\n",
      " Step [0/64] Loss: 0.29828086495399475\n",
      "Epoch: 6/25, Loss: 0.1790762096643448,Train Acc: 0.9230769276618958, Val Acc: 0.9230653643608093, Val Precision: 0.0, Val Recall: 0.0,Train PAUC: 0.021337917339295243, Val PAUC: 0.027201780733748133\n",
      " Step [0/64] Loss: 0.18489041924476624\n",
      "Epoch: 7/25, Loss: 0.4149646759033203,Train Acc: 0.9230769276618958, Val Acc: 0.9230672121047974, Val Precision: 0.0, Val Recall: 0.0,Train PAUC: 0.020026544906822666, Val PAUC: 0.02360276764642779\n",
      " Step [0/64] Loss: 0.2635490298271179\n",
      "Epoch: 8/25, Loss: 0.5324917435646057,Train Acc: 0.9230769276618958, Val Acc: 0.9230685830116272, Val Precision: 0.0, Val Recall: 0.0,Train PAUC: 0.026905722311634045, Val PAUC: 0.021084531216477142\n",
      " Step [0/64] Loss: 0.4890717566013336\n",
      "Epoch: 9/25, Loss: 0.35708773136138916,Train Acc: 0.9230769276618958, Val Acc: 0.9230695962905884, Val Precision: 0.0, Val Recall: 0.0,Train PAUC: 0.02142867370992812, Val PAUC: 0.02244153615104056\n",
      " Step [0/64] Loss: 0.2455849051475525\n",
      "Epoch: 10/25, Loss: 0.19104889035224915,Train Acc: 0.9230769276618958, Val Acc: 0.9230703711509705, Val Precision: 0.0, Val Recall: 0.0,Train PAUC: 0.018577550979054502, Val PAUC: 0.02299399270542799\n",
      " Step [0/64] Loss: 0.24593845009803772\n",
      "Epoch: 11/25, Loss: 0.3724195063114166,Train Acc: 0.9230769276618958, Val Acc: 0.923071026802063, Val Precision: 0.0, Val Recall: 0.0,Train PAUC: 0.019910875306482216, Val PAUC: 0.019979618107702195\n",
      " Step [0/64] Loss: 0.17268401384353638\n",
      "Epoch: 12/25, Loss: 0.16218960285186768,Train Acc: 0.9230769276618958, Val Acc: 0.923071563243866, Val Precision: 0.0, Val Recall: 0.0,Train PAUC: 0.020222761075575288, Val PAUC: 0.022283308302939255\n",
      " Step [0/64] Loss: 0.25546133518218994\n",
      "Epoch: 13/25, Loss: 0.22355122864246368,Train Acc: 0.9230769276618958, Val Acc: 0.9230719804763794, Val Precision: 0.0, Val Recall: 0.0,Train PAUC: 0.02340511040114554, Val PAUC: 0.015063827504827283\n",
      " Step [0/64] Loss: 0.32264602184295654\n",
      "Epoch: 14/25, Loss: 0.25210779905319214,Train Acc: 0.9230769276618958, Val Acc: 0.923072338104248, Val Precision: 0.0, Val Recall: 0.0,Train PAUC: 0.02584565453796326, Val PAUC: 0.013765822784810117\n",
      " Step [0/64] Loss: 0.32420670986175537\n",
      "Epoch: 15/25, Loss: 0.15207134187221527,Train Acc: 0.9230769276618958, Val Acc: 0.9230726957321167, Val Precision: 0.0, Val Recall: 0.0,Train PAUC: 0.020097804135061563, Val PAUC: 0.021229349924908818\n",
      " Step [0/64] Loss: 0.4278843402862549\n",
      "Epoch: 16/25, Loss: 0.11366773396730423,Train Acc: 0.9230769276618958, Val Acc: 0.9230729341506958, Val Precision: 0.0, Val Recall: 0.0,Train PAUC: 0.01951607891875097, Val PAUC: 0.016975970821712077\n",
      " Step [0/64] Loss: 0.37744009494781494\n",
      "Epoch: 17/25, Loss: 0.48049086332321167,Train Acc: 0.9230769276618958, Val Acc: 0.9230732321739197, Val Precision: 0.0, Val Recall: 0.0,Train PAUC: 0.021873205854739244, Val PAUC: 0.022323535721948062\n",
      " Step [0/64] Loss: 0.26807111501693726\n",
      "Epoch: 18/25, Loss: 0.38802891969680786,Train Acc: 0.9230769276618958, Val Acc: 0.923073410987854, Val Precision: 0.0, Val Recall: 0.0,Train PAUC: 0.02097723081910962, Val PAUC: 0.01957466208968032\n",
      " Step [0/64] Loss: 0.3876696228981018\n",
      "Epoch: 19/25, Loss: 0.19004400074481964,Train Acc: 0.9230769276618958, Val Acc: 0.9230735898017883, Val Precision: 0.0, Val Recall: 0.0,Train PAUC: 0.019369676665473387, Val PAUC: 0.02648841450332547\n",
      " Step [0/64] Loss: 0.19505804777145386\n",
      "Epoch: 20/25, Loss: 0.4214002192020416,Train Acc: 0.9230769276618958, Val Acc: 0.9230737686157227, Val Precision: 0.0, Val Recall: 0.0,Train PAUC: 0.018231217620954927, Val PAUC: 0.024104269470070792\n",
      " Step [0/64] Loss: 0.2800091505050659\n",
      "Epoch: 21/25, Loss: 0.18656370043754578,Train Acc: 0.9230769276618958, Val Acc: 0.923073947429657, Val Precision: 0.0, Val Recall: 0.0,Train PAUC: 0.018837596503907435, Val PAUC: 0.02363494958163482\n",
      " Step [0/64] Loss: 0.20897623896598816\n",
      "Epoch: 22/25, Loss: 0.30629658699035645,Train Acc: 0.9230769276618958, Val Acc: 0.9230740666389465, Val Precision: 0.0, Val Recall: 0.0,Train PAUC: 0.016769682232054696, Val PAUC: 0.02305122291353786\n",
      " Step [0/64] Loss: 0.37629449367523193\n",
      "Epoch: 23/25, Loss: 0.3403621315956116,Train Acc: 0.9230769276618958, Val Acc: 0.9230741858482361, Val Precision: 0.0, Val Recall: 0.0,Train PAUC: 0.021128698894299937, Val PAUC: 0.019067796610169482\n",
      " Step [0/64] Loss: 0.22464844584465027\n",
      "Epoch: 24/25, Loss: 0.20234927535057068,Train Acc: 0.9230769276618958, Val Acc: 0.9230743050575256, Val Precision: 0.0, Val Recall: 0.0,Train PAUC: 0.018238225341267525, Val PAUC: 0.021803261102767656\n",
      " Step [0/64] Loss: 0.2553296387195587\n",
      "Epoch: 25/25, Loss: 0.2568737268447876,Train Acc: 0.9230769276618958, Val Acc: 0.9230744242668152, Val Precision: 0.0, Val Recall: 0.0,Train PAUC: 0.01572127172393297, Val PAUC: 0.03987341772151898\n",
      "Finished Training\n"
     ]
    }
   ],
   "source": [
    "cnn.train_model(train_loader=train_loader,val_loader=val_loader)"
   ]
  },
  {
   "cell_type": "code",
   "execution_count": 20,
   "id": "fd7cd39f",
   "metadata": {
    "execution": {
     "iopub.execute_input": "2024-07-30T11:06:28.504949Z",
     "iopub.status.busy": "2024-07-30T11:06:28.504518Z",
     "iopub.status.idle": "2024-07-30T11:06:41.408639Z",
     "shell.execute_reply": "2024-07-30T11:06:41.407445Z"
    },
    "papermill": {
     "duration": 12.919097,
     "end_time": "2024-07-30T11:06:41.410705",
     "exception": false,
     "start_time": "2024-07-30T11:06:28.491608",
     "status": "completed"
    },
    "tags": []
   },
   "outputs": [
    {
     "name": "stdout",
     "output_type": "stream",
     "text": [
      "pAUC: 0.01463205320746621, Precision: 0.0, Recall: 0.0\n"
     ]
    }
   ],
   "source": [
    "cnn_acc , cnn_precision, cnn_recall , cnn_pauc, y_pred, y_actual = cnn.eval_val(val_loader)\n",
    "print(f\"pAUC: {cnn_pauc}, Precision: {cnn_precision}, Recall: {cnn_recall}\")"
   ]
  },
  {
   "cell_type": "code",
   "execution_count": 21,
   "id": "1348f1c0",
   "metadata": {
    "execution": {
     "iopub.execute_input": "2024-07-30T11:06:41.436149Z",
     "iopub.status.busy": "2024-07-30T11:06:41.435839Z",
     "iopub.status.idle": "2024-07-30T11:06:41.445165Z",
     "shell.execute_reply": "2024-07-30T11:06:41.444327Z"
    },
    "papermill": {
     "duration": 0.024496,
     "end_time": "2024-07-30T11:06:41.447333",
     "exception": false,
     "start_time": "2024-07-30T11:06:41.422837",
     "status": "completed"
    },
    "tags": []
   },
   "outputs": [
    {
     "data": {
      "text/plain": [
       "(1023, 0)"
      ]
     },
     "execution_count": 21,
     "metadata": {},
     "output_type": "execute_result"
    }
   ],
   "source": [
    "# 0.5 threshold\n",
    "y_pred = np.array(y_pred)\n",
    "y_actual = np.array(y_actual).astype(int)\n",
    "y_pred = (y_pred > 0.5).astype(int)\n",
    "\n",
    "# output the incorrect predictions\n",
    "incorrect_predictions = np.where(y_pred != y_actual)[0]\n",
    "number_zero = np.sum(y_pred == 0)\n",
    "number_one = np.sum(y_pred == 1)\n",
    "number_zero, number_one"
   ]
  },
  {
   "cell_type": "code",
   "execution_count": 22,
   "id": "e45d1806",
   "metadata": {
    "execution": {
     "iopub.execute_input": "2024-07-30T11:06:41.472275Z",
     "iopub.status.busy": "2024-07-30T11:06:41.471753Z",
     "iopub.status.idle": "2024-07-30T11:06:41.554221Z",
     "shell.execute_reply": "2024-07-30T11:06:41.553259Z"
    },
    "papermill": {
     "duration": 0.097484,
     "end_time": "2024-07-30T11:06:41.556623",
     "exception": false,
     "start_time": "2024-07-30T11:06:41.459139",
     "status": "completed"
    },
    "tags": []
   },
   "outputs": [],
   "source": [
    "cnn.save_model()"
   ]
  },
  {
   "cell_type": "code",
   "execution_count": 23,
   "id": "6ef59d1e",
   "metadata": {
    "execution": {
     "iopub.execute_input": "2024-07-30T11:06:41.581917Z",
     "iopub.status.busy": "2024-07-30T11:06:41.581595Z",
     "iopub.status.idle": "2024-07-30T11:06:41.829259Z",
     "shell.execute_reply": "2024-07-30T11:06:41.828343Z"
    },
    "papermill": {
     "duration": 0.262661,
     "end_time": "2024-07-30T11:06:41.831424",
     "exception": false,
     "start_time": "2024-07-30T11:06:41.568763",
     "status": "completed"
    },
    "tags": []
   },
   "outputs": [
    {
     "data": {
      "text/plain": [
       "array([0.07612935, 0.07258113, 0.05663989], dtype=float32)"
      ]
     },
     "execution_count": 23,
     "metadata": {},
     "output_type": "execute_result"
    }
   ],
   "source": [
    "y_prod_pred = []\n",
    "for images in test_loader:\n",
    "    images = images.to(device)\n",
    "    prob_outputs = cnn.predict(images)\n",
    "    y_prod_pred.extend(prob_outputs.cpu().numpy())\n",
    "\n",
    "y_prod_pred = np.array(y_prod_pred)\n",
    "y_prod_pred = y_prod_pred.flatten()\n",
    "y_prod_pred"
   ]
  },
  {
   "cell_type": "code",
   "execution_count": 24,
   "id": "535be0e3",
   "metadata": {
    "execution": {
     "iopub.execute_input": "2024-07-30T11:06:41.857654Z",
     "iopub.status.busy": "2024-07-30T11:06:41.857338Z",
     "iopub.status.idle": "2024-07-30T11:06:41.873273Z",
     "shell.execute_reply": "2024-07-30T11:06:41.872442Z"
    },
    "papermill": {
     "duration": 0.0312,
     "end_time": "2024-07-30T11:06:41.875178",
     "exception": false,
     "start_time": "2024-07-30T11:06:41.843978",
     "status": "completed"
    },
    "tags": []
   },
   "outputs": [
    {
     "data": {
      "text/html": [
       "<div>\n",
       "<style scoped>\n",
       "    .dataframe tbody tr th:only-of-type {\n",
       "        vertical-align: middle;\n",
       "    }\n",
       "\n",
       "    .dataframe tbody tr th {\n",
       "        vertical-align: top;\n",
       "    }\n",
       "\n",
       "    .dataframe thead th {\n",
       "        text-align: right;\n",
       "    }\n",
       "</style>\n",
       "<table border=\"1\" class=\"dataframe\">\n",
       "  <thead>\n",
       "    <tr style=\"text-align: right;\">\n",
       "      <th></th>\n",
       "      <th>isic_id</th>\n",
       "      <th>target</th>\n",
       "    </tr>\n",
       "  </thead>\n",
       "  <tbody>\n",
       "    <tr>\n",
       "      <th>0</th>\n",
       "      <td>ISIC_0015657</td>\n",
       "      <td>0.076129</td>\n",
       "    </tr>\n",
       "    <tr>\n",
       "      <th>1</th>\n",
       "      <td>ISIC_0015729</td>\n",
       "      <td>0.072581</td>\n",
       "    </tr>\n",
       "    <tr>\n",
       "      <th>2</th>\n",
       "      <td>ISIC_0015740</td>\n",
       "      <td>0.056640</td>\n",
       "    </tr>\n",
       "  </tbody>\n",
       "</table>\n",
       "</div>"
      ],
      "text/plain": [
       "        isic_id    target\n",
       "0  ISIC_0015657  0.076129\n",
       "1  ISIC_0015729  0.072581\n",
       "2  ISIC_0015740  0.056640"
      ]
     },
     "execution_count": 24,
     "metadata": {},
     "output_type": "execute_result"
    }
   ],
   "source": [
    "submission_df = pd.DataFrame({'isic_id': test_metadata_df['isic_id'], 'target': y_prod_pred})\n",
    "submission_df "
   ]
  },
  {
   "cell_type": "code",
   "execution_count": 25,
   "id": "24438b44",
   "metadata": {
    "execution": {
     "iopub.execute_input": "2024-07-30T11:06:41.902543Z",
     "iopub.status.busy": "2024-07-30T11:06:41.902273Z",
     "iopub.status.idle": "2024-07-30T11:06:41.909865Z",
     "shell.execute_reply": "2024-07-30T11:06:41.909225Z"
    },
    "papermill": {
     "duration": 0.024194,
     "end_time": "2024-07-30T11:06:41.911748",
     "exception": false,
     "start_time": "2024-07-30T11:06:41.887554",
     "status": "completed"
    },
    "tags": []
   },
   "outputs": [],
   "source": [
    "submission_df.to_csv('submission.csv', index=False)"
   ]
  },
  {
   "cell_type": "code",
   "execution_count": null,
   "id": "cd250d90",
   "metadata": {
    "papermill": {
     "duration": 0.012055,
     "end_time": "2024-07-30T11:06:41.936237",
     "exception": false,
     "start_time": "2024-07-30T11:06:41.924182",
     "status": "completed"
    },
    "tags": []
   },
   "outputs": [],
   "source": []
  }
 ],
 "metadata": {
  "kaggle": {
   "accelerator": "gpu",
   "dataSources": [
    {
     "databundleVersionId": 9094797,
     "sourceId": 63056,
     "sourceType": "competition"
    },
    {
     "datasetId": 6885,
     "sourceId": 9959,
     "sourceType": "datasetVersion"
    }
   ],
   "dockerImageVersionId": 30732,
   "isGpuEnabled": true,
   "isInternetEnabled": false,
   "language": "python",
   "sourceType": "notebook"
  },
  "kernelspec": {
   "display_name": "Python 3",
   "language": "python",
   "name": "python3"
  },
  "language_info": {
   "codemirror_mode": {
    "name": "ipython",
    "version": 3
   },
   "file_extension": ".py",
   "mimetype": "text/x-python",
   "name": "python",
   "nbconvert_exporter": "python",
   "pygments_lexer": "ipython3",
   "version": "3.10.13"
  },
  "papermill": {
   "default_parameters": {},
   "duration": 2802.517985,
   "end_time": "2024-07-30T11:06:43.878338",
   "environment_variables": {},
   "exception": null,
   "input_path": "__notebook__.ipynb",
   "output_path": "__notebook__.ipynb",
   "parameters": {},
   "start_time": "2024-07-30T10:20:01.360353",
   "version": "2.5.0"
  }
 },
 "nbformat": 4,
 "nbformat_minor": 5
}
