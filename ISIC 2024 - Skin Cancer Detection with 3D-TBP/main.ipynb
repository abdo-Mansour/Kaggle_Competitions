{
 "cells": [
  {
   "cell_type": "code",
   "execution_count": 1,
   "id": "cd3cc0d0",
   "metadata": {
    "execution": {
     "iopub.execute_input": "2024-07-23T09:54:20.715695Z",
     "iopub.status.busy": "2024-07-23T09:54:20.714810Z",
     "iopub.status.idle": "2024-07-23T09:54:20.719595Z",
     "shell.execute_reply": "2024-07-23T09:54:20.718863Z"
    },
    "papermill": {
     "duration": 0.016479,
     "end_time": "2024-07-23T09:54:20.721432",
     "exception": false,
     "start_time": "2024-07-23T09:54:20.704953",
     "status": "completed"
    },
    "tags": []
   },
   "outputs": [],
   "source": [
    "# !pip install torchsummary"
   ]
  },
  {
   "cell_type": "code",
   "execution_count": 2,
   "id": "f0e53286",
   "metadata": {
    "execution": {
     "iopub.execute_input": "2024-07-23T09:54:20.738225Z",
     "iopub.status.busy": "2024-07-23T09:54:20.737967Z",
     "iopub.status.idle": "2024-07-23T09:54:30.348312Z",
     "shell.execute_reply": "2024-07-23T09:54:30.347511Z"
    },
    "papermill": {
     "duration": 9.621099,
     "end_time": "2024-07-23T09:54:30.350652",
     "exception": false,
     "start_time": "2024-07-23T09:54:20.729553",
     "status": "completed"
    },
    "tags": []
   },
   "outputs": [],
   "source": [
    "import torch\n",
    "import os\n",
    "import cv2\n",
    "import pandas as pd\n",
    "import numpy as np\n",
    "import torch.nn as nn\n",
    "import torch.optim as optim\n",
    "import torch.torch_version\n",
    "import torchvision.transforms as transforms\n",
    "import matplotlib.pyplot as plt\n",
    "from PIL import Image\n",
    "import albumentations as A\n",
    "from albumentations.pytorch import ToTensorV2\n",
    "from torch.utils.data import DataLoader, Dataset\n",
    "# from torchsummary import summary\n",
    "from torchvision import transforms\n",
    "from torchmetrics import Accuracy, Precision, Recall\n",
    "\n",
    "import cv2\n",
    "from joblib import Parallel, delayed\n",
    "\n",
    "from torch.cuda.amp import GradScaler, autocast\n"
   ]
  },
  {
   "cell_type": "code",
   "execution_count": 3,
   "id": "2845dc49",
   "metadata": {
    "execution": {
     "iopub.execute_input": "2024-07-23T09:54:30.367606Z",
     "iopub.status.busy": "2024-07-23T09:54:30.367109Z",
     "iopub.status.idle": "2024-07-23T09:54:30.372023Z",
     "shell.execute_reply": "2024-07-23T09:54:30.371158Z"
    },
    "papermill": {
     "duration": 0.015481,
     "end_time": "2024-07-23T09:54:30.374044",
     "exception": false,
     "start_time": "2024-07-23T09:54:30.358563",
     "status": "completed"
    },
    "tags": []
   },
   "outputs": [
    {
     "name": "stdout",
     "output_type": "stream",
     "text": [
      "2.1.2\n"
     ]
    }
   ],
   "source": [
    "import torch\n",
    "print(torch.__version__)"
   ]
  },
  {
   "cell_type": "code",
   "execution_count": 4,
   "id": "31e5d0cf",
   "metadata": {
    "execution": {
     "iopub.execute_input": "2024-07-23T09:54:30.390494Z",
     "iopub.status.busy": "2024-07-23T09:54:30.390182Z",
     "iopub.status.idle": "2024-07-23T09:54:30.458435Z",
     "shell.execute_reply": "2024-07-23T09:54:30.457349Z"
    },
    "papermill": {
     "duration": 0.078622,
     "end_time": "2024-07-23T09:54:30.460305",
     "exception": false,
     "start_time": "2024-07-23T09:54:30.381683",
     "status": "completed"
    },
    "tags": []
   },
   "outputs": [
    {
     "name": "stdout",
     "output_type": "stream",
     "text": [
      "Using cuda device\n"
     ]
    }
   ],
   "source": [
    "device = (\n",
    "    \"cuda\"\n",
    "    if torch.cuda.is_available()\n",
    "    else \"mps\"\n",
    "    if torch.backends.mps.is_available()\n",
    "    else \"cpu\"\n",
    ")\n",
    "print(f\"Using {device} device\")"
   ]
  },
  {
   "cell_type": "code",
   "execution_count": 5,
   "id": "531cab06",
   "metadata": {
    "execution": {
     "iopub.execute_input": "2024-07-23T09:54:30.477835Z",
     "iopub.status.busy": "2024-07-23T09:54:30.477157Z",
     "iopub.status.idle": "2024-07-23T09:54:30.481784Z",
     "shell.execute_reply": "2024-07-23T09:54:30.480868Z"
    },
    "papermill": {
     "duration": 0.015601,
     "end_time": "2024-07-23T09:54:30.483794",
     "exception": false,
     "start_time": "2024-07-23T09:54:30.468193",
     "status": "completed"
    },
    "tags": []
   },
   "outputs": [],
   "source": [
    "iskaggle = os.environ.get('KAGGLE_KERNEL_RUN_TYPE', '')\n",
    "main_path = '/kaggle/input/isic-2024-challenge' if iskaggle else 'data/isic-2024-challenge'"
   ]
  },
  {
   "cell_type": "code",
   "execution_count": 6,
   "id": "9ce8fa1e",
   "metadata": {
    "execution": {
     "iopub.execute_input": "2024-07-23T09:54:30.500920Z",
     "iopub.status.busy": "2024-07-23T09:54:30.500637Z",
     "iopub.status.idle": "2024-07-23T09:54:39.439722Z",
     "shell.execute_reply": "2024-07-23T09:54:39.438612Z"
    },
    "papermill": {
     "duration": 8.94994,
     "end_time": "2024-07-23T09:54:39.441736",
     "exception": false,
     "start_time": "2024-07-23T09:54:30.491796",
     "status": "completed"
    },
    "tags": []
   },
   "outputs": [
    {
     "name": "stderr",
     "output_type": "stream",
     "text": [
      "/tmp/ipykernel_24/3275392473.py:4: DtypeWarning: Columns (51,52) have mixed types. Specify dtype option on import or set low_memory=False.\n",
      "  train_metadata_df = pd.read_csv(train_metadata_path)\n"
     ]
    },
    {
     "name": "stdout",
     "output_type": "stream",
     "text": [
      "401059\n"
     ]
    }
   ],
   "source": [
    "train_metadata_path = '/kaggle/input/isic-2024-challenge/train-metadata.csv' if iskaggle else 'data/isic-2024-challenge/train-metadata.csv'\n",
    "test_metadata_path = '/kaggle/input/isic-2024-challenge/test-metadata.csv' if iskaggle else 'data/isic-2024-challenge/test-metadata.csv'\n",
    "\n",
    "train_metadata_df = pd.read_csv(train_metadata_path)\n",
    "test_metadata_df = pd.read_csv(test_metadata_path)\n",
    "\n",
    "print(len(train_metadata_df))"
   ]
  },
  {
   "cell_type": "code",
   "execution_count": 7,
   "id": "cde9c54b",
   "metadata": {
    "execution": {
     "iopub.execute_input": "2024-07-23T09:54:39.459580Z",
     "iopub.status.busy": "2024-07-23T09:54:39.459026Z",
     "iopub.status.idle": "2024-07-23T09:54:39.611595Z",
     "shell.execute_reply": "2024-07-23T09:54:39.610568Z"
    },
    "papermill": {
     "duration": 0.163704,
     "end_time": "2024-07-23T09:54:39.613698",
     "exception": false,
     "start_time": "2024-07-23T09:54:39.449994",
     "status": "completed"
    },
    "tags": []
   },
   "outputs": [
    {
     "name": "stdout",
     "output_type": "stream",
     "text": [
      "Positive samples: (393, 55)\n",
      "Negative samples: (1965, 55)\n"
     ]
    }
   ],
   "source": [
    "import sklearn.model_selection as train_test_split\n",
    "\n",
    "train_size = 0.8\n",
    "# Splitting the train dataset into positive and negative samples and saving them in separate dataframes\n",
    "postive_samples = train_metadata_df[train_metadata_df['target'] == 1]\n",
    "negative_samples = train_metadata_df[train_metadata_df['target'] == 0]\n",
    "\n",
    "# TODO: Taking Sample of 1% of the data\n",
    "# postive_samples = postive_samples.sample(frac=0.1)\n",
    "negative_samples = negative_samples.sample(frac=5*postive_samples.shape[0]/negative_samples.shape[0])\n",
    "\n",
    "print(f\"Positive samples: {postive_samples.shape}\")\n",
    "print(f\"Negative samples: {negative_samples.shape}\")"
   ]
  },
  {
   "cell_type": "code",
   "execution_count": 8,
   "id": "629bd62b",
   "metadata": {
    "execution": {
     "iopub.execute_input": "2024-07-23T09:54:39.632125Z",
     "iopub.status.busy": "2024-07-23T09:54:39.631805Z",
     "iopub.status.idle": "2024-07-23T09:54:39.641817Z",
     "shell.execute_reply": "2024-07-23T09:54:39.640737Z"
    },
    "papermill": {
     "duration": 0.020924,
     "end_time": "2024-07-23T09:54:39.643784",
     "exception": false,
     "start_time": "2024-07-23T09:54:39.622860",
     "status": "completed"
    },
    "tags": []
   },
   "outputs": [
    {
     "name": "stdout",
     "output_type": "stream",
     "text": [
      "Train positive samples: (314, 55)\n",
      "Train negative samples: (1572, 55)\n",
      "Val positive samples: (79, 55)\n",
      "Val negative samples: (393, 55)\n"
     ]
    }
   ],
   "source": [
    "\n",
    "# Splitting each type of samples into train and validation sets\n",
    "train_positive_samples, val_positive_samples = train_test_split.train_test_split(postive_samples,test_size=1-train_size)\n",
    "train_negative_samples, val_negative_samples = train_test_split.train_test_split(negative_samples,test_size=1-train_size)\n",
    "print(f\"Train positive samples: {train_positive_samples.shape}\")\n",
    "print(f\"Train negative samples: {train_negative_samples.shape}\")\n",
    "print(f\"Val positive samples: {val_positive_samples.shape}\")\n",
    "print(f\"Val negative samples: {val_negative_samples.shape}\")\n"
   ]
  },
  {
   "cell_type": "code",
   "execution_count": 9,
   "id": "bed95b2a",
   "metadata": {
    "execution": {
     "iopub.execute_input": "2024-07-23T09:54:39.661141Z",
     "iopub.status.busy": "2024-07-23T09:54:39.660896Z",
     "iopub.status.idle": "2024-07-23T09:54:39.722960Z",
     "shell.execute_reply": "2024-07-23T09:54:39.722007Z"
    },
    "papermill": {
     "duration": 0.072845,
     "end_time": "2024-07-23T09:54:39.724831",
     "exception": false,
     "start_time": "2024-07-23T09:54:39.651986",
     "status": "completed"
    },
    "tags": []
   },
   "outputs": [
    {
     "name": "stdout",
     "output_type": "stream",
     "text": [
      "Train samples: (1886, 55)\n",
      "Val samples: (472, 55)\n",
      "Test samples: (3, 44)\n"
     ]
    }
   ],
   "source": [
    "\n",
    "# Concatenating the positive and negative samples to get the train and validation sets\n",
    "train_metadata_df = pd.concat([train_positive_samples, train_negative_samples])\n",
    "val_metadata_df = pd.concat([val_positive_samples, val_negative_samples])\n",
    "print(f\"Train samples: {train_metadata_df.shape}\")\n",
    "print(f\"Val samples: {val_metadata_df.shape}\")\n",
    "print(f\"Test samples: {test_metadata_df.shape}\")\n"
   ]
  },
  {
   "cell_type": "code",
   "execution_count": 10,
   "id": "6bfbcf66",
   "metadata": {
    "execution": {
     "iopub.execute_input": "2024-07-23T09:54:39.742342Z",
     "iopub.status.busy": "2024-07-23T09:54:39.742044Z",
     "iopub.status.idle": "2024-07-23T09:54:39.867809Z",
     "shell.execute_reply": "2024-07-23T09:54:39.866991Z"
    },
    "papermill": {
     "duration": 0.137261,
     "end_time": "2024-07-23T09:54:39.870144",
     "exception": false,
     "start_time": "2024-07-23T09:54:39.732883",
     "status": "completed"
    },
    "tags": []
   },
   "outputs": [],
   "source": [
    "import h5py\n",
    "from io import BytesIO\n",
    "\n",
    "train_hdf5_path = '/kaggle/input/isic-2024-challenge/train-image.hdf5' if iskaggle else 'data/isic-2024-challenge/train-image.hdf5'\n",
    "test_hdf5_path = '/kaggle/input/isic-2024-challenge/test-image.hdf5' if iskaggle else 'data/isic-2024-challenge/test-image.hdf5'\n",
    "train_image_path = '/kaggle/input/isic-2024-challenge/train-image/image' if iskaggle else 'data/isic-2024-challenge/train-image/image'"
   ]
  },
  {
   "cell_type": "code",
   "execution_count": 11,
   "id": "1a9bf0bf",
   "metadata": {
    "execution": {
     "iopub.execute_input": "2024-07-23T09:54:39.887810Z",
     "iopub.status.busy": "2024-07-23T09:54:39.887508Z",
     "iopub.status.idle": "2024-07-23T09:54:39.895900Z",
     "shell.execute_reply": "2024-07-23T09:54:39.895059Z"
    },
    "papermill": {
     "duration": 0.01936,
     "end_time": "2024-07-23T09:54:39.897813",
     "exception": false,
     "start_time": "2024-07-23T09:54:39.878453",
     "status": "completed"
    },
    "tags": []
   },
   "outputs": [],
   "source": [
    "class CustomDataset(Dataset):\n",
    "    def __init__(self, hdf5_file_path, metadata_df,target=None, transform=None):\n",
    "        self.hdf5_file_path = hdf5_file_path\n",
    "        self.hdf5_file = h5py.File(self.hdf5_file_path, 'r')\n",
    "        self.metadata_df = metadata_df\n",
    "        self.image_ids = metadata_df['isic_id']\n",
    "        self.labels = target\n",
    "        self.transform = transform\n",
    "\n",
    "        self.mean_of_color_channels = None  # Initialize as None\n",
    "        self.std_of_color_channels = None   # Initialize as None\n",
    "        # self._calculate_stats()\n",
    "\n",
    "    def __len__(self):\n",
    "        return len(self.image_ids)\n",
    "\n",
    "    def __getitem__(self, idx):\n",
    "        image_id = self.image_ids.iloc[idx]\n",
    "        image = np.array(Image.open(BytesIO(np.array(self.hdf5_file[image_id]))),dtype=np.float32)/255\n",
    "        \n",
    "        if self.transform:\n",
    "            image = self.transform(image=image)\n",
    "            image = image['image']\n",
    "\n",
    "        if self.labels is not None:\n",
    "            label = self.labels.iloc[idx]\n",
    "            return image, label\n",
    "        else:\n",
    "            return image\n",
    "\n",
    "   "
   ]
  },
  {
   "cell_type": "code",
   "execution_count": 12,
   "id": "fd16f11f",
   "metadata": {
    "execution": {
     "iopub.execute_input": "2024-07-23T09:54:39.914878Z",
     "iopub.status.busy": "2024-07-23T09:54:39.914616Z",
     "iopub.status.idle": "2024-07-23T09:54:39.918339Z",
     "shell.execute_reply": "2024-07-23T09:54:39.917612Z"
    },
    "papermill": {
     "duration": 0.01447,
     "end_time": "2024-07-23T09:54:39.920220",
     "exception": false,
     "start_time": "2024-07-23T09:54:39.905750",
     "status": "completed"
    },
    "tags": []
   },
   "outputs": [],
   "source": [
    "# HyperParameters\n",
    "dim = 224 \n",
    "batch_size = 64"
   ]
  },
  {
   "cell_type": "code",
   "execution_count": 13,
   "id": "4b5fa2d2",
   "metadata": {
    "execution": {
     "iopub.execute_input": "2024-07-23T09:54:39.937110Z",
     "iopub.status.busy": "2024-07-23T09:54:39.936852Z",
     "iopub.status.idle": "2024-07-23T09:54:39.944123Z",
     "shell.execute_reply": "2024-07-23T09:54:39.943405Z"
    },
    "papermill": {
     "duration": 0.017857,
     "end_time": "2024-07-23T09:54:39.946036",
     "exception": false,
     "start_time": "2024-07-23T09:54:39.928179",
     "status": "completed"
    },
    "tags": []
   },
   "outputs": [],
   "source": [
    "train_transform = A.Compose([\n",
    "    A.Resize(height=dim, width=dim), #resize \n",
    "    A.OneOf([A.RGBShift(r_shift_limit=15, g_shift_limit=15, b_shift_limit=15),\n",
    "             A.RandomBrightnessContrast() \n",
    "             ], p=0.5),\n",
    "    A.HorizontalFlip(p=0.5),\n",
    "    A.VerticalFlip(p=0.5),\n",
    "    # !!One needs to change the mean and std values to appropriate ones for this dataset.!!\n",
    "    A.transforms.Normalize(mean=[0.485, 0.456, 0.406], std=[0.229, 0.224, 0.225], max_pixel_value=1.0),\n",
    "    ToTensorV2(),\n",
    "])\n",
    "\n",
    "\n",
    "test_transform = A.Compose([\n",
    "    A.Resize(height=dim, width=dim), #resize \n",
    "    # !!One needs to change the mean and std values to appropriate ones for this dataset.!!\n",
    "    A.transforms.Normalize(mean=[0.485, 0.456, 0.406], std=[0.229, 0.224, 0.225], max_pixel_value=1.0),\n",
    "    ToTensorV2(),\n",
    "])"
   ]
  },
  {
   "cell_type": "code",
   "execution_count": 14,
   "id": "35527a93",
   "metadata": {
    "execution": {
     "iopub.execute_input": "2024-07-23T09:54:39.963195Z",
     "iopub.status.busy": "2024-07-23T09:54:39.962926Z",
     "iopub.status.idle": "2024-07-23T09:54:39.981460Z",
     "shell.execute_reply": "2024-07-23T09:54:39.980684Z"
    },
    "papermill": {
     "duration": 0.02926,
     "end_time": "2024-07-23T09:54:39.983278",
     "exception": false,
     "start_time": "2024-07-23T09:54:39.954018",
     "status": "completed"
    },
    "tags": []
   },
   "outputs": [],
   "source": [
    "train_dataset = CustomDataset(train_hdf5_path,train_metadata_df,target=train_metadata_df['target'],transform=train_transform)\n",
    "# train_image_dataset = CustomDatasetImage(train_image_path,train_metadata_df,target=train_metadata_df['target'],transform=train_transform)\n",
    "val_dataset = CustomDataset(train_hdf5_path,val_metadata_df,target=val_metadata_df['target'],transform=train_transform)\n",
    "test_dataset = CustomDataset(test_hdf5_path,test_metadata_df,transform=test_transform)"
   ]
  },
  {
   "cell_type": "code",
   "execution_count": 15,
   "id": "d746960c",
   "metadata": {
    "execution": {
     "iopub.execute_input": "2024-07-23T09:54:40.000611Z",
     "iopub.status.busy": "2024-07-23T09:54:40.000301Z",
     "iopub.status.idle": "2024-07-23T09:54:40.005899Z",
     "shell.execute_reply": "2024-07-23T09:54:40.005007Z"
    },
    "papermill": {
     "duration": 0.0164,
     "end_time": "2024-07-23T09:54:40.007778",
     "exception": false,
     "start_time": "2024-07-23T09:54:39.991378",
     "status": "completed"
    },
    "tags": []
   },
   "outputs": [],
   "source": [
    "n_w = 0\n",
    "if iskaggle:\n",
    "    n_w = 4\n",
    "train_loader = DataLoader(train_dataset,batch_size=batch_size,shuffle=True,num_workers=n_w)\n",
    "val_loader = DataLoader(val_dataset,batch_size=batch_size,shuffle=True,num_workers=n_w)\n",
    "test_loader = DataLoader(test_dataset,batch_size=batch_size,shuffle=False,num_workers=n_w)"
   ]
  },
  {
   "cell_type": "code",
   "execution_count": 16,
   "id": "32e4ce2a",
   "metadata": {
    "execution": {
     "iopub.execute_input": "2024-07-23T09:54:40.024950Z",
     "iopub.status.busy": "2024-07-23T09:54:40.024675Z",
     "iopub.status.idle": "2024-07-23T09:54:40.030131Z",
     "shell.execute_reply": "2024-07-23T09:54:40.029252Z"
    },
    "papermill": {
     "duration": 0.016362,
     "end_time": "2024-07-23T09:54:40.032134",
     "exception": false,
     "start_time": "2024-07-23T09:54:40.015772",
     "status": "completed"
    },
    "tags": []
   },
   "outputs": [],
   "source": [
    "from sklearn.metrics import roc_curve, auc\n",
    "\n",
    "def calculate_partial_auc_by_tpr(y_true, y_scores, max_tpr=0.8):\n",
    "    # Calculate the ROC curve\n",
    "    fpr, tpr, thresholds = roc_curve(y_true, y_scores)\n",
    "    \n",
    "    # Limit the TPR to the specified minimum TPR\n",
    "    mask = tpr >= max_tpr\n",
    "    fpr, tpr = fpr[mask], tpr[mask]\n",
    "    \n",
    "    # Calculate the partial AUC\n",
    "    partial_auc = auc(fpr, tpr)\n",
    "    \n",
    "    # Normalize the partial AUC to the range [0, 1]\n",
    "    partial_auc /= max_tpr\n",
    "    \n",
    "    return partial_auc"
   ]
  },
  {
   "cell_type": "code",
   "execution_count": 17,
   "id": "13df4cc8",
   "metadata": {
    "execution": {
     "iopub.execute_input": "2024-07-23T09:54:40.050011Z",
     "iopub.status.busy": "2024-07-23T09:54:40.049713Z",
     "iopub.status.idle": "2024-07-23T09:54:40.086683Z",
     "shell.execute_reply": "2024-07-23T09:54:40.085764Z"
    },
    "papermill": {
     "duration": 0.048527,
     "end_time": "2024-07-23T09:54:40.088740",
     "exception": false,
     "start_time": "2024-07-23T09:54:40.040213",
     "status": "completed"
    },
    "tags": []
   },
   "outputs": [],
   "source": [
    "class Model(nn.Module):\n",
    "    def __init__(self,num_classes,device,dim = 32,num_epochs = 20,learning_rate = 0.001,early_stopping = False):\n",
    "        super().__init__()\n",
    "        self.num_of_classes = num_classes\n",
    "        self.device = device\n",
    "        self.dim = dim\n",
    "        # Debugging\n",
    "        self.DEBUG = True\n",
    "        # Hyperparameters\n",
    "        self.num_epochs = num_epochs\n",
    "        self.learning_rate = learning_rate\n",
    "        self.early_stopping = early_stopping\n",
    "        # History while Training\n",
    "        self.model_loss_history = []\n",
    "\n",
    "        self.model_train_acc_history = []\n",
    "        self.model_train_pauc_history = []\n",
    "        \n",
    "        self.model_val_acc_history = []\n",
    "        self.model_val_precision_history = []\n",
    "        self.model_val_recall_history = []\n",
    "        self.model_val_pauc_history = []\n",
    "        \n",
    "        self.model_lr_history = []\n",
    "\n",
    "        # Model Attributes\n",
    "        self.criterion = nn.BCEWithLogitsLoss()\n",
    "        self.optimizer = None\n",
    "        self.accuracy = Accuracy(task= 'binary', average='macro').to(self.device)\n",
    "        self.precision = Precision(task= 'binary', average='macro').to(self.device)\n",
    "        self.recall = Recall(task= 'binary', average='macro').to(self.device)\n",
    "        # Feature Extraction\n",
    "        self.feature_extract = nn.Sequential(\n",
    "            nn.Conv2d(in_channels=3, out_channels=32, kernel_size=7, padding=1),\n",
    "            nn.MaxPool2d(kernel_size=2),\n",
    "            nn.Conv2d(in_channels=32, out_channels=64, kernel_size=5, padding=1),\n",
    "            nn.MaxPool2d(kernel_size=2),\n",
    "            nn.Conv2d(in_channels=64, out_channels=128, kernel_size=5, padding=1),\n",
    "            nn.MaxPool2d(kernel_size=2),\n",
    "            nn.Conv2d(in_channels=128, out_channels=64, kernel_size=3, padding=1),\n",
    "            nn.MaxPool2d(kernel_size=2),\n",
    "            nn.Conv2d(in_channels=64, out_channels=32, kernel_size=3, padding=1),\n",
    "            nn.MaxPool2d(kernel_size=2),\n",
    "            nn.Flatten()\n",
    "        )\n",
    "        \n",
    "        # Classifier\n",
    "        self.classifier = nn.Sequential(\n",
    "            nn.Linear(1152 , 200),  # Adjust the size based on the input image size\n",
    "            nn.ReLU(),\n",
    "            nn.Dropout(0.5),\n",
    "            nn.Linear(200, 100),\n",
    "            nn.ReLU(),\n",
    "            nn.Dropout(0.5),\n",
    "            nn.Linear(100, 1)\n",
    "\n",
    "        )\n",
    "        \n",
    "    def forward(self, x):\n",
    "        x = self.feature_extract(x)\n",
    "        x = self.classifier(x)\n",
    "        return x\n",
    "    \n",
    "    def predict(self, img):\n",
    "        '''\n",
    "        returns the predicted classes for the given images\n",
    "        '''\n",
    "        self.eval()\n",
    "        with torch.no_grad():\n",
    "            img = img.to(self.device)\n",
    "            output = self(img)\n",
    "            prob_outputs = torch.sigmoid(output)\n",
    "            return prob_outputs\n",
    "            \n",
    "        \n",
    "\n",
    "    \n",
    "    def eval_val(self, data_loader):\n",
    "        '''\n",
    "        returns the accuracy, precision, recall , partial AUC, predicted probabilities and actual labels for the given data loader\n",
    "        '''\n",
    "        self.eval()\n",
    "        y_prob_pred = []\n",
    "        y_actual = []\n",
    "        with torch.no_grad():\n",
    "            for images, actuals in data_loader:\n",
    "                \n",
    "                images, actuals = images.to(self.device), actuals.to(self.device)\n",
    "                # Get the model predictions\n",
    "                output = self(images)\n",
    "                # Get the probability outputs\n",
    "                prob_outputs = torch.sigmoid(output)\n",
    "                # Get the binary predictions\n",
    "                batch_pred = (prob_outputs > 0.5).float()\n",
    "                # Reshape the actuals\n",
    "                actuals = actuals.unsqueeze(1).float()\n",
    "\n",
    "                y_prob_pred.extend(prob_outputs.cpu().numpy())\n",
    "                y_actual.extend(actuals.cpu().numpy())\n",
    "\n",
    "                # Update the metrics\n",
    "                self.accuracy(batch_pred, actuals)\n",
    "                self.precision(batch_pred, actuals)\n",
    "                self.recall(batch_pred, actuals)\n",
    "        \n",
    "        # Calculate the partial AUC\n",
    "        partial_auc = calculate_partial_auc_by_tpr(y_true=y_actual, y_scores=y_prob_pred, max_tpr=0.8)\n",
    "\n",
    "\n",
    "        return self.accuracy.compute(), self.precision.compute(), self.recall.compute(), partial_auc, y_prob_pred, y_actual\n",
    "    \n",
    "    def train_model(self, train_loader, val_loader):\n",
    "        \n",
    "        last_accuracy = -100\n",
    "        self.optimizer = optim.Adam(self.parameters(), lr=self.learning_rate)\n",
    "        scaler = GradScaler()\n",
    "\n",
    "        for epoch in range(self.num_epochs):\n",
    "            self.train()\n",
    "            running_loss = 0.0\n",
    "\n",
    "            for i, (images, labels) in enumerate(train_loader):\n",
    "                \n",
    "                images, labels = images.to(self.device), labels.to(self.device)\n",
    "                self.optimizer.zero_grad()\n",
    "                with autocast():\n",
    "                    outputs = self(images)\n",
    "                    labels = labels.unsqueeze(1).float()\n",
    "                    loss = self.criterion(outputs, labels)\n",
    "                scaler.scale(loss).backward()\n",
    "                scaler.step(self.optimizer)\n",
    "                scaler.update()\n",
    "\n",
    "                running_loss += loss.item()\n",
    "                if i%1000 == 0 and self.DEBUG:\n",
    "                    print(\" Step [{}/{}] Loss: {}\".format(i, len(train_loader), loss.item()))\n",
    "                    \n",
    "            val_acc, val_precision, val_recall, val_pauc, _ , _ = self.eval_val(val_loader)\n",
    "            train_acc, _, _, train_pauc, _, _ = self.eval_val(train_loader)\n",
    "\n",
    "            self.model_loss_history.append(running_loss/len(train_loader))\n",
    "            self.model_train_acc_history.append(train_acc.item())\n",
    "            self.model_train_pauc_history.append(train_pauc)\n",
    "            self.model_val_acc_history.append(val_acc.item())\n",
    "            self.model_val_precision_history.append(val_precision.item())\n",
    "            self.model_val_recall_history.append(val_recall.item())\n",
    "            self.model_val_pauc_history.append(val_pauc)\n",
    "            self.model_lr_history.append(self.optimizer.param_groups[0]['lr'])\n",
    "            \n",
    "            print(f'Epoch: {epoch+1}/{self.num_epochs}, Loss: {loss.item()},Train Acc: {train_acc}, Val Acc: {val_acc}, Val Precision: {val_precision}, Val Recall: {val_recall},Train PAUC: {train_pauc}, Val PAUC: {val_pauc}')\n",
    "            \n",
    "            if val_acc > last_accuracy:\n",
    "                last_accuracy = val_acc\n",
    "            elif self.early_stopping:\n",
    "                break\n",
    "        \n",
    "        print('Finished Training')\n",
    "\n",
    "    def plot_history(self):\n",
    "        # making two plots one for loss and other for accuracy\n",
    "        fig, axs = plt.subplots(2, 3, figsize=(15, 10))\n",
    "        fig.suptitle('Model Training History')\n",
    "        axs[0, 0].plot(self.model_loss_history)\n",
    "        axs[0, 0].set_title('Model Loss')\n",
    "        axs[0, 0].set_xlabel('Epochs')\n",
    "        axs[0, 0].set_ylabel('Loss')\n",
    "\n",
    "        axs[0, 1].plot(self.model_train_acc_history, label='Train')\n",
    "        axs[0, 1].plot(self.model_val_acc_history, label='Val')\n",
    "        axs[0, 1].set_title('Model Accuracy')\n",
    "        axs[0, 1].set_xlabel('Epochs')\n",
    "        axs[0, 1].set_ylabel('Accuracy')\n",
    "        axs[0, 1].legend()\n",
    "\n",
    "        axs[1, 0].plot(self.model_val_precision_history)\n",
    "        axs[1, 0].set_title('Model Precision')\n",
    "        axs[1, 0].set_xlabel('Epochs')\n",
    "        axs[1, 0].set_ylabel('Precision')\n",
    "        \n",
    "        axs[1, 1].plot(self.model_val_recall_history)\n",
    "        axs[1, 1].set_title('Model Recall')\n",
    "        axs[1, 1].set_xlabel('Epochs')\n",
    "        axs[1, 1].set_ylabel('Recall')\n",
    "\n",
    "        axs[0, 2].plot(self.model_lr_history)\n",
    "        axs[0, 2].set_title('Learning Rate')\n",
    "        axs[0, 2].set_xlabel('Epochs')\n",
    "        axs[0, 2].set_ylabel('Learning Rate')\n",
    "        \n",
    "        axs[1, 2].plot(self.model_val_pauc_history)\n",
    "        axs[1, 2].set_title('Model Partial AUC')\n",
    "        axs[1, 2].set_xlabel('Epochs')\n",
    "        axs[1, 2].set_ylabel('Partial AUC')\n",
    "        \n",
    "\n",
    "        plt.show()\n",
    "    \n",
    "    def save_model(self):\n",
    "        torch.save(self.state_dict(),type(self).__name__+'.pth')\n",
    "\n",
    "    def print_summary(self):\n",
    "        pass\n",
    "#         summary(self, (3, self.dim, self.dim))"
   ]
  },
  {
   "cell_type": "code",
   "execution_count": 18,
   "id": "cfa5eff0",
   "metadata": {
    "execution": {
     "iopub.execute_input": "2024-07-23T09:54:40.107514Z",
     "iopub.status.busy": "2024-07-23T09:54:40.107191Z",
     "iopub.status.idle": "2024-07-23T09:54:40.325722Z",
     "shell.execute_reply": "2024-07-23T09:54:40.324713Z"
    },
    "papermill": {
     "duration": 0.230917,
     "end_time": "2024-07-23T09:54:40.327986",
     "exception": false,
     "start_time": "2024-07-23T09:54:40.097069",
     "status": "completed"
    },
    "tags": []
   },
   "outputs": [
    {
     "data": {
      "text/plain": [
       "Model(\n",
       "  (criterion): BCEWithLogitsLoss()\n",
       "  (accuracy): BinaryAccuracy()\n",
       "  (precision): BinaryPrecision()\n",
       "  (recall): BinaryRecall()\n",
       "  (feature_extract): Sequential(\n",
       "    (0): Conv2d(3, 32, kernel_size=(7, 7), stride=(1, 1), padding=(1, 1))\n",
       "    (1): MaxPool2d(kernel_size=2, stride=2, padding=0, dilation=1, ceil_mode=False)\n",
       "    (2): Conv2d(32, 64, kernel_size=(5, 5), stride=(1, 1), padding=(1, 1))\n",
       "    (3): MaxPool2d(kernel_size=2, stride=2, padding=0, dilation=1, ceil_mode=False)\n",
       "    (4): Conv2d(64, 128, kernel_size=(5, 5), stride=(1, 1), padding=(1, 1))\n",
       "    (5): MaxPool2d(kernel_size=2, stride=2, padding=0, dilation=1, ceil_mode=False)\n",
       "    (6): Conv2d(128, 64, kernel_size=(3, 3), stride=(1, 1), padding=(1, 1))\n",
       "    (7): MaxPool2d(kernel_size=2, stride=2, padding=0, dilation=1, ceil_mode=False)\n",
       "    (8): Conv2d(64, 32, kernel_size=(3, 3), stride=(1, 1), padding=(1, 1))\n",
       "    (9): MaxPool2d(kernel_size=2, stride=2, padding=0, dilation=1, ceil_mode=False)\n",
       "    (10): Flatten(start_dim=1, end_dim=-1)\n",
       "  )\n",
       "  (classifier): Sequential(\n",
       "    (0): Linear(in_features=1152, out_features=200, bias=True)\n",
       "    (1): ReLU()\n",
       "    (2): Dropout(p=0.5, inplace=False)\n",
       "    (3): Linear(in_features=200, out_features=100, bias=True)\n",
       "    (4): ReLU()\n",
       "    (5): Dropout(p=0.5, inplace=False)\n",
       "    (6): Linear(in_features=100, out_features=1, bias=True)\n",
       "  )\n",
       ")"
      ]
     },
     "execution_count": 18,
     "metadata": {},
     "output_type": "execute_result"
    }
   ],
   "source": [
    "num_of_classes = 2\n",
    "cnn = Model(num_classes=num_of_classes, \n",
    "            device=device, \n",
    "            dim=dim, \n",
    "            num_epochs=20, \n",
    "            learning_rate=0.001,\n",
    "            early_stopping=False)\n",
    "cnn.to(device)\n"
   ]
  },
  {
   "cell_type": "code",
   "execution_count": 19,
   "id": "ee083b9b",
   "metadata": {
    "execution": {
     "iopub.execute_input": "2024-07-23T09:54:40.346170Z",
     "iopub.status.busy": "2024-07-23T09:54:40.345868Z",
     "iopub.status.idle": "2024-07-23T09:57:03.963743Z",
     "shell.execute_reply": "2024-07-23T09:57:03.962421Z"
    },
    "papermill": {
     "duration": 143.629395,
     "end_time": "2024-07-23T09:57:03.965942",
     "exception": false,
     "start_time": "2024-07-23T09:54:40.336547",
     "status": "completed"
    },
    "tags": []
   },
   "outputs": [
    {
     "name": "stdout",
     "output_type": "stream",
     "text": [
      " Step [0/30] Loss: 0.687849223613739\n",
      "Epoch: 1/20, Loss: 0.5149269104003906,Train Acc: 0.8333333134651184, Val Acc: 0.8326271176338196, Val Precision: 0.0, Val Recall: 0.0,Train PAUC: 0.2567067389507463, Val PAUC: 0.2100041872000515\n",
      " Step [0/30] Loss: 0.5862425565719604\n",
      "Epoch: 2/20, Loss: 0.5760967135429382,Train Acc: 0.8333333134651184, Val Acc: 0.8332155346870422, Val Precision: 0.0, Val Recall: 0.0,Train PAUC: 0.20561989473428305, Val PAUC: 0.22492108738364422\n",
      " Step [0/30] Loss: 0.5866379737854004\n",
      "Epoch: 3/20, Loss: 0.7244426608085632,Train Acc: 0.8333333134651184, Val Acc: 0.8332690596580505, Val Precision: 0.0, Val Recall: 0.0,Train PAUC: 0.3267927181082964, Val PAUC: 0.34683302734563726\n",
      " Step [0/30] Loss: 0.6037190556526184\n",
      "Epoch: 4/20, Loss: 0.5475583672523499,Train Acc: 0.8333333134651184, Val Acc: 0.8332891464233398, Val Precision: 0.0, Val Recall: 0.0,Train PAUC: 0.32264215733942725, Val PAUC: 0.3975826972010178\n",
      " Step [0/30] Loss: 0.48559945821762085\n",
      "Epoch: 5/20, Loss: 0.3961997926235199,Train Acc: 0.8333333134651184, Val Acc: 0.8332996964454651, Val Precision: 0.0, Val Recall: 0.0,Train PAUC: 0.3131292949060794, Val PAUC: 0.4030783972686572\n",
      " Step [0/30] Loss: 0.5935644507408142\n",
      "Epoch: 6/20, Loss: 0.644693911075592,Train Acc: 0.8333333134651184, Val Acc: 0.8333061337471008, Val Precision: 0.0, Val Recall: 0.0,Train PAUC: 0.21573799452196882, Val PAUC: 0.20475005636615454\n",
      " Step [0/30] Loss: 0.5697422027587891\n",
      "Epoch: 7/20, Loss: 0.6027696132659912,Train Acc: 0.8333333134651184, Val Acc: 0.8333105444908142, Val Precision: 0.0, Val Recall: 0.0,Train PAUC: 0.3062121156869419, Val PAUC: 0.3670644506715624\n",
      " Step [0/30] Loss: 0.48700404167175293\n",
      "Epoch: 8/20, Loss: 0.38518989086151123,Train Acc: 0.8333333134651184, Val Acc: 0.8333137035369873, Val Precision: 0.0, Val Recall: 0.0,Train PAUC: 0.22982432416006227, Val PAUC: 0.2379255644667761\n",
      " Step [0/30] Loss: 0.46832379698753357\n",
      "Epoch: 9/20, Loss: 0.36568522453308105,Train Acc: 0.8333333134651184, Val Acc: 0.8333160877227783, Val Precision: 0.0, Val Recall: 0.0,Train PAUC: 0.19297828438761122, Val PAUC: 0.32052211163719524\n",
      " Step [0/30] Loss: 0.5049417018890381\n",
      "Epoch: 10/20, Loss: 0.39433935284614563,Train Acc: 0.8333333134651184, Val Acc: 0.8333179950714111, Val Precision: 0.0, Val Recall: 0.0,Train PAUC: 0.32176215742046327, Val PAUC: 0.2596869262730699\n",
      " Step [0/30] Loss: 0.539155125617981\n",
      "Epoch: 11/20, Loss: 0.44613131880760193,Train Acc: 0.8333333134651184, Val Acc: 0.8333194851875305, Val Precision: 0.0, Val Recall: 0.0,Train PAUC: 0.37278822466410594, Val PAUC: 0.2569491416239894\n",
      " Step [0/30] Loss: 0.539572536945343\n",
      "Epoch: 12/20, Loss: 0.3921792805194855,Train Acc: 0.8333333134651184, Val Acc: 0.8333207368850708, Val Precision: 0.0, Val Recall: 0.0,Train PAUC: 0.3217368336817879, Val PAUC: 0.2989419267562083\n",
      " Step [0/30] Loss: 0.41395246982574463\n",
      "Epoch: 13/20, Loss: 0.5347476601600647,Train Acc: 0.8333333134651184, Val Acc: 0.833321750164032, Val Precision: 0.0, Val Recall: 0.0,Train PAUC: 0.2243885836534254, Val PAUC: 0.16561584049988726\n",
      " Step [0/30] Loss: 0.3542384207248688\n",
      "Epoch: 14/20, Loss: 0.5187575221061707,Train Acc: 0.8333333134651184, Val Acc: 0.8333226442337036, Val Precision: 0.0, Val Recall: 0.0,Train PAUC: 0.3444813495729405, Val PAUC: 0.26979257255129313\n",
      " Step [0/30] Loss: 0.4293849766254425\n",
      "Epoch: 15/20, Loss: 0.39529871940612793,Train Acc: 0.8333333134651184, Val Acc: 0.8333233594894409, Val Precision: 0.0, Val Recall: 0.0,Train PAUC: 0.3974662080031118, Val PAUC: 0.29260073437047057\n",
      " Step [0/30] Loss: 0.5385564565658569\n",
      "Epoch: 16/20, Loss: 0.45518916845321655,Train Acc: 0.8333333134651184, Val Acc: 0.8333240151405334, Val Precision: 0.0, Val Recall: 0.0,Train PAUC: 0.28973649130484114, Val PAUC: 0.462947305697813\n",
      " Step [0/30] Loss: 0.4261324107646942\n",
      "Epoch: 17/20, Loss: 0.3728674054145813,Train Acc: 0.8333333134651184, Val Acc: 0.8333246111869812, Val Precision: 0.0, Val Recall: 0.0,Train PAUC: 0.33944952269817347, Val PAUC: 0.3333856733339775\n",
      " Step [0/30] Loss: 0.3253941535949707\n",
      "Epoch: 18/20, Loss: 0.7987611293792725,Train Acc: 0.8333333134651184, Val Acc: 0.8333250880241394, Val Precision: 0.0, Val Recall: 0.0,Train PAUC: 0.3414640261097875, Val PAUC: 0.34693368119303\n",
      " Step [0/30] Loss: 0.3988800048828125\n",
      "Epoch: 19/20, Loss: 0.43238526582717896,Train Acc: 0.8333333134651184, Val Acc: 0.8333255648612976, Val Precision: 0.0, Val Recall: 0.0,Train PAUC: 0.22156625297807167, Val PAUC: 0.2181974103778142\n",
      " Step [0/30] Loss: 0.46039310097694397\n",
      "Epoch: 20/20, Loss: 0.48328104615211487,Train Acc: 0.8333333134651184, Val Acc: 0.833325982093811, Val Precision: 0.0, Val Recall: 0.0,Train PAUC: 0.2247304541255409, Val PAUC: 0.22035140271201725\n",
      "Finished Training\n"
     ]
    }
   ],
   "source": [
    "cnn.train_model(train_loader=train_loader,val_loader=val_loader)"
   ]
  },
  {
   "cell_type": "code",
   "execution_count": 20,
   "id": "5bf328dd",
   "metadata": {
    "execution": {
     "iopub.execute_input": "2024-07-23T09:57:03.990731Z",
     "iopub.status.busy": "2024-07-23T09:57:03.990149Z",
     "iopub.status.idle": "2024-07-23T09:57:04.922136Z",
     "shell.execute_reply": "2024-07-23T09:57:04.921002Z"
    },
    "papermill": {
     "duration": 0.946764,
     "end_time": "2024-07-23T09:57:04.924504",
     "exception": false,
     "start_time": "2024-07-23T09:57:03.977740",
     "status": "completed"
    },
    "tags": []
   },
   "outputs": [
    {
     "name": "stdout",
     "output_type": "stream",
     "text": [
      "Accuracy: 0.27583180339485297, Precision: 0.0, Recall: 0.0\n"
     ]
    }
   ],
   "source": [
    "cnn_acc , cnn_precision, cnn_recall , cnn_pauc, y_pred, y_actual = cnn.eval_val(val_loader)\n",
    "print(f\"Accuracy: {cnn_pauc}, Precision: {cnn_precision}, Recall: {cnn_recall}\")"
   ]
  },
  {
   "cell_type": "code",
   "execution_count": 21,
   "id": "69f733e4",
   "metadata": {
    "execution": {
     "iopub.execute_input": "2024-07-23T09:57:04.949134Z",
     "iopub.status.busy": "2024-07-23T09:57:04.948817Z",
     "iopub.status.idle": "2024-07-23T09:57:04.958316Z",
     "shell.execute_reply": "2024-07-23T09:57:04.957491Z"
    },
    "papermill": {
     "duration": 0.023933,
     "end_time": "2024-07-23T09:57:04.960211",
     "exception": false,
     "start_time": "2024-07-23T09:57:04.936278",
     "status": "completed"
    },
    "tags": []
   },
   "outputs": [
    {
     "data": {
      "text/plain": [
       "(472, 0)"
      ]
     },
     "execution_count": 21,
     "metadata": {},
     "output_type": "execute_result"
    }
   ],
   "source": [
    "# 0.5 threshold\n",
    "y_pred = np.array(y_pred)\n",
    "y_actual = np.array(y_actual).astype(int)\n",
    "y_pred = (y_pred > 0.5).astype(int)\n",
    "\n",
    "# output the incorrect predictions\n",
    "incorrect_predictions = np.where(y_pred != y_actual)[0]\n",
    "number_zero = np.sum(y_pred == 0)\n",
    "number_one = np.sum(y_pred == 1)\n",
    "number_zero, number_one"
   ]
  },
  {
   "cell_type": "code",
   "execution_count": 22,
   "id": "72727a2b",
   "metadata": {
    "execution": {
     "iopub.execute_input": "2024-07-23T09:57:04.984520Z",
     "iopub.status.busy": "2024-07-23T09:57:04.984230Z",
     "iopub.status.idle": "2024-07-23T09:57:04.988483Z",
     "shell.execute_reply": "2024-07-23T09:57:04.987711Z"
    },
    "papermill": {
     "duration": 0.018667,
     "end_time": "2024-07-23T09:57:04.990544",
     "exception": false,
     "start_time": "2024-07-23T09:57:04.971877",
     "status": "completed"
    },
    "tags": []
   },
   "outputs": [
    {
     "name": "stdout",
     "output_type": "stream",
     "text": [
      "Partial AUC: 0.27583180339485297\n"
     ]
    }
   ],
   "source": [
    "print(f\"Partial AUC: {cnn_pauc}\")\n"
   ]
  },
  {
   "cell_type": "code",
   "execution_count": 23,
   "id": "1e1e4bae",
   "metadata": {
    "execution": {
     "iopub.execute_input": "2024-07-23T09:57:05.016534Z",
     "iopub.status.busy": "2024-07-23T09:57:05.016160Z",
     "iopub.status.idle": "2024-07-23T09:57:05.030263Z",
     "shell.execute_reply": "2024-07-23T09:57:05.029515Z"
    },
    "papermill": {
     "duration": 0.030297,
     "end_time": "2024-07-23T09:57:05.032261",
     "exception": false,
     "start_time": "2024-07-23T09:57:05.001964",
     "status": "completed"
    },
    "tags": []
   },
   "outputs": [],
   "source": [
    "cnn.save_model()"
   ]
  },
  {
   "cell_type": "code",
   "execution_count": 24,
   "id": "853eab4f",
   "metadata": {
    "execution": {
     "iopub.execute_input": "2024-07-23T09:57:05.057197Z",
     "iopub.status.busy": "2024-07-23T09:57:05.056495Z",
     "iopub.status.idle": "2024-07-23T09:57:05.253869Z",
     "shell.execute_reply": "2024-07-23T09:57:05.252101Z"
    },
    "papermill": {
     "duration": 0.213208,
     "end_time": "2024-07-23T09:57:05.257329",
     "exception": false,
     "start_time": "2024-07-23T09:57:05.044121",
     "status": "completed"
    },
    "tags": []
   },
   "outputs": [
    {
     "data": {
      "text/plain": [
       "array([0.24171308, 0.10429318, 0.0740122 ], dtype=float32)"
      ]
     },
     "execution_count": 24,
     "metadata": {},
     "output_type": "execute_result"
    }
   ],
   "source": [
    "y_prod_pred = []\n",
    "for images in test_loader:\n",
    "    images = images.to(device)\n",
    "    prob_outputs = cnn.predict(images)\n",
    "    y_prod_pred.extend(prob_outputs.cpu().numpy())\n",
    "\n",
    "y_prod_pred = np.array(y_prod_pred)\n",
    "y_prod_pred = y_prod_pred.flatten()\n",
    "y_prod_pred"
   ]
  },
  {
   "cell_type": "code",
   "execution_count": 25,
   "id": "518a966a",
   "metadata": {
    "execution": {
     "iopub.execute_input": "2024-07-23T09:57:05.285609Z",
     "iopub.status.busy": "2024-07-23T09:57:05.285224Z",
     "iopub.status.idle": "2024-07-23T09:57:05.300525Z",
     "shell.execute_reply": "2024-07-23T09:57:05.299580Z"
    },
    "papermill": {
     "duration": 0.03028,
     "end_time": "2024-07-23T09:57:05.302593",
     "exception": false,
     "start_time": "2024-07-23T09:57:05.272313",
     "status": "completed"
    },
    "tags": []
   },
   "outputs": [
    {
     "data": {
      "text/html": [
       "<div>\n",
       "<style scoped>\n",
       "    .dataframe tbody tr th:only-of-type {\n",
       "        vertical-align: middle;\n",
       "    }\n",
       "\n",
       "    .dataframe tbody tr th {\n",
       "        vertical-align: top;\n",
       "    }\n",
       "\n",
       "    .dataframe thead th {\n",
       "        text-align: right;\n",
       "    }\n",
       "</style>\n",
       "<table border=\"1\" class=\"dataframe\">\n",
       "  <thead>\n",
       "    <tr style=\"text-align: right;\">\n",
       "      <th></th>\n",
       "      <th>isic_id</th>\n",
       "      <th>target</th>\n",
       "    </tr>\n",
       "  </thead>\n",
       "  <tbody>\n",
       "    <tr>\n",
       "      <th>0</th>\n",
       "      <td>ISIC_0015657</td>\n",
       "      <td>0.241713</td>\n",
       "    </tr>\n",
       "    <tr>\n",
       "      <th>1</th>\n",
       "      <td>ISIC_0015729</td>\n",
       "      <td>0.104293</td>\n",
       "    </tr>\n",
       "    <tr>\n",
       "      <th>2</th>\n",
       "      <td>ISIC_0015740</td>\n",
       "      <td>0.074012</td>\n",
       "    </tr>\n",
       "  </tbody>\n",
       "</table>\n",
       "</div>"
      ],
      "text/plain": [
       "        isic_id    target\n",
       "0  ISIC_0015657  0.241713\n",
       "1  ISIC_0015729  0.104293\n",
       "2  ISIC_0015740  0.074012"
      ]
     },
     "execution_count": 25,
     "metadata": {},
     "output_type": "execute_result"
    }
   ],
   "source": [
    "submission_df = pd.DataFrame({'isic_id': test_metadata_df['isic_id'], 'target': y_prod_pred})\n",
    "submission_df "
   ]
  },
  {
   "cell_type": "code",
   "execution_count": 26,
   "id": "73d35acf",
   "metadata": {
    "execution": {
     "iopub.execute_input": "2024-07-23T09:57:05.328124Z",
     "iopub.status.busy": "2024-07-23T09:57:05.327819Z",
     "iopub.status.idle": "2024-07-23T09:57:05.336079Z",
     "shell.execute_reply": "2024-07-23T09:57:05.335260Z"
    },
    "papermill": {
     "duration": 0.023027,
     "end_time": "2024-07-23T09:57:05.337923",
     "exception": false,
     "start_time": "2024-07-23T09:57:05.314896",
     "status": "completed"
    },
    "tags": []
   },
   "outputs": [],
   "source": [
    "submission_df.to_csv('submission.csv', index=False)"
   ]
  },
  {
   "cell_type": "code",
   "execution_count": null,
   "id": "92ef7971",
   "metadata": {
    "papermill": {
     "duration": 0.011641,
     "end_time": "2024-07-23T09:57:05.361873",
     "exception": false,
     "start_time": "2024-07-23T09:57:05.350232",
     "status": "completed"
    },
    "tags": []
   },
   "outputs": [],
   "source": []
  }
 ],
 "metadata": {
  "kaggle": {
   "accelerator": "gpu",
   "dataSources": [
    {
     "databundleVersionId": 9094797,
     "sourceId": 63056,
     "sourceType": "competition"
    }
   ],
   "dockerImageVersionId": 30732,
   "isGpuEnabled": true,
   "isInternetEnabled": false,
   "language": "python",
   "sourceType": "notebook"
  },
  "kernelspec": {
   "display_name": "Python 3",
   "language": "python",
   "name": "python3"
  },
  "language_info": {
   "codemirror_mode": {
    "name": "ipython",
    "version": 3
   },
   "file_extension": ".py",
   "mimetype": "text/x-python",
   "name": "python",
   "nbconvert_exporter": "python",
   "pygments_lexer": "ipython3",
   "version": "3.10.13"
  },
  "papermill": {
   "default_parameters": {},
   "duration": 169.259504,
   "end_time": "2024-07-23T09:57:07.197899",
   "environment_variables": {},
   "exception": null,
   "input_path": "__notebook__.ipynb",
   "output_path": "__notebook__.ipynb",
   "parameters": {},
   "start_time": "2024-07-23T09:54:17.938395",
   "version": "2.5.0"
  }
 },
 "nbformat": 4,
 "nbformat_minor": 5
}
