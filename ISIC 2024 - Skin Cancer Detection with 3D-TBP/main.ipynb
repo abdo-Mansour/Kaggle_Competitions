{
 "cells": [
  {
   "cell_type": "code",
   "execution_count": null,
   "metadata": {},
   "outputs": [],
   "source": [
    "#Hello this is a comment"
   ]
  }
 ],
 "metadata": {
  "language_info": {
   "name": "python"
  }
 },
 "nbformat": 4,
 "nbformat_minor": 2
}
