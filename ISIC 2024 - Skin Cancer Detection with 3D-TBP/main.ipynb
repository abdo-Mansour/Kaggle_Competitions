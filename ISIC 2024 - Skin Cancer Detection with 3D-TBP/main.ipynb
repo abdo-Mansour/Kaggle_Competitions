{
 "cells": [
  {
   "cell_type": "code",
   "execution_count": 1,
   "id": "ef1501b6",
   "metadata": {
    "execution": {
     "iopub.execute_input": "2024-07-23T11:41:00.759617Z",
     "iopub.status.busy": "2024-07-23T11:41:00.758742Z",
     "iopub.status.idle": "2024-07-23T11:41:00.763616Z",
     "shell.execute_reply": "2024-07-23T11:41:00.762800Z"
    },
    "papermill": {
     "duration": 0.015429,
     "end_time": "2024-07-23T11:41:00.765695",
     "exception": false,
     "start_time": "2024-07-23T11:41:00.750266",
     "status": "completed"
    },
    "tags": []
   },
   "outputs": [],
   "source": [
    "# !pip install torchsummary"
   ]
  },
  {
   "cell_type": "code",
   "execution_count": 2,
   "id": "992d78c4",
   "metadata": {
    "execution": {
     "iopub.execute_input": "2024-07-23T11:41:00.779467Z",
     "iopub.status.busy": "2024-07-23T11:41:00.779228Z",
     "iopub.status.idle": "2024-07-23T11:41:10.713208Z",
     "shell.execute_reply": "2024-07-23T11:41:10.712389Z"
    },
    "papermill": {
     "duration": 9.943587,
     "end_time": "2024-07-23T11:41:10.715606",
     "exception": false,
     "start_time": "2024-07-23T11:41:00.772019",
     "status": "completed"
    },
    "tags": []
   },
   "outputs": [],
   "source": [
    "import torch\n",
    "import os\n",
    "import cv2\n",
    "import pandas as pd\n",
    "import numpy as np\n",
    "import torch.nn as nn\n",
    "import torch.optim as optim\n",
    "import torch.torch_version\n",
    "import torchvision.transforms as transforms\n",
    "import matplotlib.pyplot as plt\n",
    "from PIL import Image\n",
    "import albumentations as A\n",
    "from albumentations.pytorch import ToTensorV2\n",
    "from torch.utils.data import DataLoader, Dataset\n",
    "# from torchsummary import summary\n",
    "from torchvision import transforms\n",
    "from torchmetrics import Accuracy, Precision, Recall\n",
    "\n",
    "import cv2\n",
    "from joblib import Parallel, delayed\n",
    "\n",
    "from torch.cuda.amp import GradScaler, autocast\n"
   ]
  },
  {
   "cell_type": "code",
   "execution_count": 3,
   "id": "e2726303",
   "metadata": {
    "execution": {
     "iopub.execute_input": "2024-07-23T11:41:10.729607Z",
     "iopub.status.busy": "2024-07-23T11:41:10.729204Z",
     "iopub.status.idle": "2024-07-23T11:41:10.733976Z",
     "shell.execute_reply": "2024-07-23T11:41:10.733069Z"
    },
    "papermill": {
     "duration": 0.013878,
     "end_time": "2024-07-23T11:41:10.735929",
     "exception": false,
     "start_time": "2024-07-23T11:41:10.722051",
     "status": "completed"
    },
    "tags": []
   },
   "outputs": [
    {
     "name": "stdout",
     "output_type": "stream",
     "text": [
      "2.1.2\n"
     ]
    }
   ],
   "source": [
    "import torch\n",
    "print(torch.__version__)"
   ]
  },
  {
   "cell_type": "code",
   "execution_count": 4,
   "id": "b821ca16",
   "metadata": {
    "execution": {
     "iopub.execute_input": "2024-07-23T11:41:10.749524Z",
     "iopub.status.busy": "2024-07-23T11:41:10.749263Z",
     "iopub.status.idle": "2024-07-23T11:41:10.811527Z",
     "shell.execute_reply": "2024-07-23T11:41:10.810692Z"
    },
    "papermill": {
     "duration": 0.071841,
     "end_time": "2024-07-23T11:41:10.814026",
     "exception": false,
     "start_time": "2024-07-23T11:41:10.742185",
     "status": "completed"
    },
    "tags": []
   },
   "outputs": [
    {
     "name": "stdout",
     "output_type": "stream",
     "text": [
      "Using cuda device\n"
     ]
    }
   ],
   "source": [
    "device = (\n",
    "    \"cuda\"\n",
    "    if torch.cuda.is_available()\n",
    "    else \"mps\"\n",
    "    if torch.backends.mps.is_available()\n",
    "    else \"cpu\"\n",
    ")\n",
    "print(f\"Using {device} device\")"
   ]
  },
  {
   "cell_type": "code",
   "execution_count": 5,
   "id": "9430466c",
   "metadata": {
    "execution": {
     "iopub.execute_input": "2024-07-23T11:41:10.829166Z",
     "iopub.status.busy": "2024-07-23T11:41:10.828856Z",
     "iopub.status.idle": "2024-07-23T11:41:10.833207Z",
     "shell.execute_reply": "2024-07-23T11:41:10.832363Z"
    },
    "papermill": {
     "duration": 0.014322,
     "end_time": "2024-07-23T11:41:10.835337",
     "exception": false,
     "start_time": "2024-07-23T11:41:10.821015",
     "status": "completed"
    },
    "tags": []
   },
   "outputs": [],
   "source": [
    "iskaggle = os.environ.get('KAGGLE_KERNEL_RUN_TYPE', '')\n",
    "main_path = '/kaggle/input/isic-2024-challenge' if iskaggle else 'data/isic-2024-challenge'"
   ]
  },
  {
   "cell_type": "code",
   "execution_count": 6,
   "id": "588374bb",
   "metadata": {
    "execution": {
     "iopub.execute_input": "2024-07-23T11:41:10.849396Z",
     "iopub.status.busy": "2024-07-23T11:41:10.849134Z",
     "iopub.status.idle": "2024-07-23T11:41:17.875005Z",
     "shell.execute_reply": "2024-07-23T11:41:17.873915Z"
    },
    "papermill": {
     "duration": 7.035472,
     "end_time": "2024-07-23T11:41:17.877301",
     "exception": false,
     "start_time": "2024-07-23T11:41:10.841829",
     "status": "completed"
    },
    "tags": []
   },
   "outputs": [
    {
     "name": "stderr",
     "output_type": "stream",
     "text": [
      "/tmp/ipykernel_24/3275392473.py:4: DtypeWarning: Columns (51,52) have mixed types. Specify dtype option on import or set low_memory=False.\n",
      "  train_metadata_df = pd.read_csv(train_metadata_path)\n"
     ]
    },
    {
     "name": "stdout",
     "output_type": "stream",
     "text": [
      "401059\n"
     ]
    }
   ],
   "source": [
    "train_metadata_path = '/kaggle/input/isic-2024-challenge/train-metadata.csv' if iskaggle else 'data/isic-2024-challenge/train-metadata.csv'\n",
    "test_metadata_path = '/kaggle/input/isic-2024-challenge/test-metadata.csv' if iskaggle else 'data/isic-2024-challenge/test-metadata.csv'\n",
    "\n",
    "train_metadata_df = pd.read_csv(train_metadata_path)\n",
    "test_metadata_df = pd.read_csv(test_metadata_path)\n",
    "\n",
    "print(len(train_metadata_df))"
   ]
  },
  {
   "cell_type": "code",
   "execution_count": 7,
   "id": "1de3c53f",
   "metadata": {
    "execution": {
     "iopub.execute_input": "2024-07-23T11:41:17.892963Z",
     "iopub.status.busy": "2024-07-23T11:41:17.892285Z",
     "iopub.status.idle": "2024-07-23T11:41:18.035079Z",
     "shell.execute_reply": "2024-07-23T11:41:18.034039Z"
    },
    "papermill": {
     "duration": 0.152743,
     "end_time": "2024-07-23T11:41:18.037223",
     "exception": false,
     "start_time": "2024-07-23T11:41:17.884480",
     "status": "completed"
    },
    "tags": []
   },
   "outputs": [
    {
     "name": "stdout",
     "output_type": "stream",
     "text": [
      "Positive samples: (393, 55)\n",
      "Negative samples: (400666, 55)\n"
     ]
    }
   ],
   "source": [
    "import sklearn.model_selection as train_test_split\n",
    "\n",
    "train_size = 0.8\n",
    "# Splitting the train dataset into positive and negative samples and saving them in separate dataframes\n",
    "postive_samples = train_metadata_df[train_metadata_df['target'] == 1]\n",
    "negative_samples = train_metadata_df[train_metadata_df['target'] == 0]\n",
    "\n",
    "# TODO: Taking Sample of 1% of the data\n",
    "# postive_samples = postive_samples.sample(frac=0.1)\n",
    "# negative_samples = negative_samples.sample(frac=5*postive_samples.shape[0]/negative_samples.shape[0])\n",
    "\n",
    "print(f\"Positive samples: {postive_samples.shape}\")\n",
    "print(f\"Negative samples: {negative_samples.shape}\")"
   ]
  },
  {
   "cell_type": "code",
   "execution_count": 8,
   "id": "f07839fb",
   "metadata": {
    "execution": {
     "iopub.execute_input": "2024-07-23T11:41:18.052935Z",
     "iopub.status.busy": "2024-07-23T11:41:18.052340Z",
     "iopub.status.idle": "2024-07-23T11:41:18.564194Z",
     "shell.execute_reply": "2024-07-23T11:41:18.563274Z"
    },
    "papermill": {
     "duration": 0.522318,
     "end_time": "2024-07-23T11:41:18.566563",
     "exception": false,
     "start_time": "2024-07-23T11:41:18.044245",
     "status": "completed"
    },
    "tags": []
   },
   "outputs": [
    {
     "name": "stdout",
     "output_type": "stream",
     "text": [
      "Train positive samples: (314, 55)\n",
      "Train negative samples: (320532, 55)\n",
      "Val positive samples: (79, 55)\n",
      "Val negative samples: (80134, 55)\n"
     ]
    }
   ],
   "source": [
    "\n",
    "# Splitting each type of samples into train and validation sets\n",
    "train_positive_samples, val_positive_samples = train_test_split.train_test_split(postive_samples,test_size=1-train_size)\n",
    "train_negative_samples, val_negative_samples = train_test_split.train_test_split(negative_samples,test_size=1-train_size)\n",
    "print(f\"Train positive samples: {train_positive_samples.shape}\")\n",
    "print(f\"Train negative samples: {train_negative_samples.shape}\")\n",
    "print(f\"Val positive samples: {val_positive_samples.shape}\")\n",
    "print(f\"Val negative samples: {val_negative_samples.shape}\")\n"
   ]
  },
  {
   "cell_type": "code",
   "execution_count": 9,
   "id": "40386dd1",
   "metadata": {
    "execution": {
     "iopub.execute_input": "2024-07-23T11:41:18.582230Z",
     "iopub.status.busy": "2024-07-23T11:41:18.581936Z",
     "iopub.status.idle": "2024-07-23T11:41:18.741709Z",
     "shell.execute_reply": "2024-07-23T11:41:18.740858Z"
    },
    "papermill": {
     "duration": 0.170198,
     "end_time": "2024-07-23T11:41:18.744118",
     "exception": false,
     "start_time": "2024-07-23T11:41:18.573920",
     "status": "completed"
    },
    "tags": []
   },
   "outputs": [
    {
     "name": "stdout",
     "output_type": "stream",
     "text": [
      "Train samples: (320846, 55)\n",
      "Val samples: (80213, 55)\n",
      "Test samples: (3, 44)\n"
     ]
    }
   ],
   "source": [
    "\n",
    "# Concatenating the positive and negative samples to get the train and validation sets\n",
    "train_metadata_df = pd.concat([train_positive_samples, train_negative_samples])\n",
    "val_metadata_df = pd.concat([val_positive_samples, val_negative_samples])\n",
    "print(f\"Train samples: {train_metadata_df.shape}\")\n",
    "print(f\"Val samples: {val_metadata_df.shape}\")\n",
    "print(f\"Test samples: {test_metadata_df.shape}\")\n"
   ]
  },
  {
   "cell_type": "code",
   "execution_count": 10,
   "id": "ed3d4c1d",
   "metadata": {
    "execution": {
     "iopub.execute_input": "2024-07-23T11:41:18.761515Z",
     "iopub.status.busy": "2024-07-23T11:41:18.761245Z",
     "iopub.status.idle": "2024-07-23T11:41:18.911110Z",
     "shell.execute_reply": "2024-07-23T11:41:18.910336Z"
    },
    "papermill": {
     "duration": 0.160322,
     "end_time": "2024-07-23T11:41:18.913351",
     "exception": false,
     "start_time": "2024-07-23T11:41:18.753029",
     "status": "completed"
    },
    "tags": []
   },
   "outputs": [],
   "source": [
    "import h5py\n",
    "from io import BytesIO\n",
    "\n",
    "train_hdf5_path = '/kaggle/input/isic-2024-challenge/train-image.hdf5' if iskaggle else 'data/isic-2024-challenge/train-image.hdf5'\n",
    "test_hdf5_path = '/kaggle/input/isic-2024-challenge/test-image.hdf5' if iskaggle else 'data/isic-2024-challenge/test-image.hdf5'\n",
    "train_image_path = '/kaggle/input/isic-2024-challenge/train-image/image' if iskaggle else 'data/isic-2024-challenge/train-image/image'"
   ]
  },
  {
   "cell_type": "code",
   "execution_count": 11,
   "id": "e9caba58",
   "metadata": {
    "execution": {
     "iopub.execute_input": "2024-07-23T11:41:18.929864Z",
     "iopub.status.busy": "2024-07-23T11:41:18.929165Z",
     "iopub.status.idle": "2024-07-23T11:41:18.937658Z",
     "shell.execute_reply": "2024-07-23T11:41:18.936844Z"
    },
    "papermill": {
     "duration": 0.018569,
     "end_time": "2024-07-23T11:41:18.939487",
     "exception": false,
     "start_time": "2024-07-23T11:41:18.920918",
     "status": "completed"
    },
    "tags": []
   },
   "outputs": [],
   "source": [
    "class CustomDataset(Dataset):\n",
    "    def __init__(self, hdf5_file_path, metadata_df,target=None, transform=None):\n",
    "        self.hdf5_file_path = hdf5_file_path\n",
    "        self.hdf5_file = h5py.File(self.hdf5_file_path, 'r')\n",
    "        self.metadata_df = metadata_df\n",
    "        self.image_ids = metadata_df['isic_id']\n",
    "        self.labels = target\n",
    "        self.transform = transform\n",
    "\n",
    "        self.mean_of_color_channels = None  # Initialize as None\n",
    "        self.std_of_color_channels = None   # Initialize as None\n",
    "        # self._calculate_stats()\n",
    "\n",
    "    def __len__(self):\n",
    "        return len(self.image_ids)\n",
    "\n",
    "    def __getitem__(self, idx):\n",
    "        image_id = self.image_ids.iloc[idx]\n",
    "        image = np.array(Image.open(BytesIO(np.array(self.hdf5_file[image_id]))),dtype=np.float32)/255\n",
    "        \n",
    "        if self.transform:\n",
    "            image = self.transform(image=image)\n",
    "            image = image['image']\n",
    "\n",
    "        if self.labels is not None:\n",
    "            label = self.labels.iloc[idx]\n",
    "            return image, label\n",
    "        else:\n",
    "            return image\n",
    "\n",
    "   "
   ]
  },
  {
   "cell_type": "code",
   "execution_count": 12,
   "id": "c3be1b46",
   "metadata": {
    "execution": {
     "iopub.execute_input": "2024-07-23T11:41:18.956380Z",
     "iopub.status.busy": "2024-07-23T11:41:18.955926Z",
     "iopub.status.idle": "2024-07-23T11:41:18.959498Z",
     "shell.execute_reply": "2024-07-23T11:41:18.958712Z"
    },
    "papermill": {
     "duration": 0.01451,
     "end_time": "2024-07-23T11:41:18.961381",
     "exception": false,
     "start_time": "2024-07-23T11:41:18.946871",
     "status": "completed"
    },
    "tags": []
   },
   "outputs": [],
   "source": [
    "# HyperParameters\n",
    "dim = 224 \n",
    "batch_size = 64"
   ]
  },
  {
   "cell_type": "code",
   "execution_count": 13,
   "id": "acd55367",
   "metadata": {
    "execution": {
     "iopub.execute_input": "2024-07-23T11:41:18.977953Z",
     "iopub.status.busy": "2024-07-23T11:41:18.977227Z",
     "iopub.status.idle": "2024-07-23T11:41:18.985588Z",
     "shell.execute_reply": "2024-07-23T11:41:18.984690Z"
    },
    "papermill": {
     "duration": 0.01846,
     "end_time": "2024-07-23T11:41:18.987402",
     "exception": false,
     "start_time": "2024-07-23T11:41:18.968942",
     "status": "completed"
    },
    "tags": []
   },
   "outputs": [],
   "source": [
    "train_transform = A.Compose([\n",
    "    A.Resize(height=dim, width=dim), #resize \n",
    "    A.OneOf([A.RGBShift(r_shift_limit=15, g_shift_limit=15, b_shift_limit=15),\n",
    "             A.RandomBrightnessContrast() \n",
    "             ], p=0.5),\n",
    "    A.HorizontalFlip(p=0.5),\n",
    "    A.VerticalFlip(p=0.5),\n",
    "    # !!One needs to change the mean and std values to appropriate ones for this dataset.!!\n",
    "    A.transforms.Normalize(mean=[0.485, 0.456, 0.406], std=[0.229, 0.224, 0.225], max_pixel_value=1.0),\n",
    "    ToTensorV2(),\n",
    "])\n",
    "\n",
    "\n",
    "test_transform = A.Compose([\n",
    "    A.Resize(height=dim, width=dim), #resize \n",
    "    # !!One needs to change the mean and std values to appropriate ones for this dataset.!!\n",
    "    A.transforms.Normalize(mean=[0.485, 0.456, 0.406], std=[0.229, 0.224, 0.225], max_pixel_value=1.0),\n",
    "    ToTensorV2(),\n",
    "])"
   ]
  },
  {
   "cell_type": "code",
   "execution_count": 14,
   "id": "d052a682",
   "metadata": {
    "execution": {
     "iopub.execute_input": "2024-07-23T11:41:19.003019Z",
     "iopub.status.busy": "2024-07-23T11:41:19.002769Z",
     "iopub.status.idle": "2024-07-23T11:41:19.019200Z",
     "shell.execute_reply": "2024-07-23T11:41:19.018338Z"
    },
    "papermill": {
     "duration": 0.026414,
     "end_time": "2024-07-23T11:41:19.021140",
     "exception": false,
     "start_time": "2024-07-23T11:41:18.994726",
     "status": "completed"
    },
    "tags": []
   },
   "outputs": [],
   "source": [
    "train_dataset = CustomDataset(train_hdf5_path,train_metadata_df,target=train_metadata_df['target'],transform=train_transform)\n",
    "# train_image_dataset = CustomDatasetImage(train_image_path,train_metadata_df,target=train_metadata_df['target'],transform=train_transform)\n",
    "val_dataset = CustomDataset(train_hdf5_path,val_metadata_df,target=val_metadata_df['target'],transform=train_transform)\n",
    "test_dataset = CustomDataset(test_hdf5_path,test_metadata_df,transform=test_transform)"
   ]
  },
  {
   "cell_type": "code",
   "execution_count": 15,
   "id": "e8e97e96",
   "metadata": {
    "execution": {
     "iopub.execute_input": "2024-07-23T11:41:19.037206Z",
     "iopub.status.busy": "2024-07-23T11:41:19.036969Z",
     "iopub.status.idle": "2024-07-23T11:41:19.042052Z",
     "shell.execute_reply": "2024-07-23T11:41:19.041212Z"
    },
    "papermill": {
     "duration": 0.01533,
     "end_time": "2024-07-23T11:41:19.043916",
     "exception": false,
     "start_time": "2024-07-23T11:41:19.028586",
     "status": "completed"
    },
    "tags": []
   },
   "outputs": [],
   "source": [
    "n_w = 0\n",
    "if iskaggle:\n",
    "    n_w = 4\n",
    "train_loader = DataLoader(train_dataset,batch_size=batch_size,shuffle=True,num_workers=n_w)\n",
    "val_loader = DataLoader(val_dataset,batch_size=batch_size,shuffle=True,num_workers=n_w)\n",
    "test_loader = DataLoader(test_dataset,batch_size=batch_size,shuffle=False,num_workers=n_w)"
   ]
  },
  {
   "cell_type": "code",
   "execution_count": 16,
   "id": "fe52f41a",
   "metadata": {
    "execution": {
     "iopub.execute_input": "2024-07-23T11:41:19.060037Z",
     "iopub.status.busy": "2024-07-23T11:41:19.059792Z",
     "iopub.status.idle": "2024-07-23T11:41:19.064835Z",
     "shell.execute_reply": "2024-07-23T11:41:19.063943Z"
    },
    "papermill": {
     "duration": 0.015368,
     "end_time": "2024-07-23T11:41:19.066710",
     "exception": false,
     "start_time": "2024-07-23T11:41:19.051342",
     "status": "completed"
    },
    "tags": []
   },
   "outputs": [],
   "source": [
    "from sklearn.metrics import roc_curve, auc\n",
    "\n",
    "def calculate_partial_auc_by_tpr(y_true, y_scores, max_tpr=0.8):\n",
    "    # Calculate the ROC curve\n",
    "    fpr, tpr, thresholds = roc_curve(y_true, y_scores)\n",
    "    \n",
    "    # Limit the TPR to the specified minimum TPR\n",
    "    mask = tpr >= max_tpr\n",
    "    fpr, tpr = fpr[mask], tpr[mask]\n",
    "    \n",
    "    # Calculate the partial AUC\n",
    "    partial_auc = auc(fpr, tpr)\n",
    "    \n",
    "    # Normalize the partial AUC to the range [0, 1]\n",
    "    partial_auc /= max_tpr\n",
    "    \n",
    "    return partial_auc"
   ]
  },
  {
   "cell_type": "code",
   "execution_count": 17,
   "id": "05b509f8",
   "metadata": {
    "execution": {
     "iopub.execute_input": "2024-07-23T11:41:19.086420Z",
     "iopub.status.busy": "2024-07-23T11:41:19.086178Z",
     "iopub.status.idle": "2024-07-23T11:41:19.122836Z",
     "shell.execute_reply": "2024-07-23T11:41:19.122130Z"
    },
    "papermill": {
     "duration": 0.050261,
     "end_time": "2024-07-23T11:41:19.124775",
     "exception": false,
     "start_time": "2024-07-23T11:41:19.074514",
     "status": "completed"
    },
    "tags": []
   },
   "outputs": [],
   "source": [
    "class Model(nn.Module):\n",
    "    def __init__(self,num_classes,device,dim = 32,num_epochs = 20,learning_rate = 0.001,early_stopping = False):\n",
    "        super().__init__()\n",
    "        self.num_of_classes = num_classes\n",
    "        self.device = device\n",
    "        self.dim = dim\n",
    "        # Debugging\n",
    "        self.DEBUG = True\n",
    "        # Hyperparameters\n",
    "        self.num_epochs = num_epochs\n",
    "        self.learning_rate = learning_rate\n",
    "        self.early_stopping = early_stopping\n",
    "        # History while Training\n",
    "        self.model_loss_history = []\n",
    "\n",
    "        self.model_train_acc_history = []\n",
    "        self.model_train_pauc_history = []\n",
    "        \n",
    "        self.model_val_acc_history = []\n",
    "        self.model_val_precision_history = []\n",
    "        self.model_val_recall_history = []\n",
    "        self.model_val_pauc_history = []\n",
    "        \n",
    "        self.model_lr_history = []\n",
    "\n",
    "        # Model Attributes\n",
    "        self.criterion = nn.BCEWithLogitsLoss()\n",
    "        self.optimizer = None\n",
    "        self.accuracy = Accuracy(task= 'binary', average='macro').to(self.device)\n",
    "        self.precision = Precision(task= 'binary', average='macro').to(self.device)\n",
    "        self.recall = Recall(task= 'binary', average='macro').to(self.device)\n",
    "        # Feature Extraction\n",
    "        self.feature_extract = nn.Sequential(\n",
    "            nn.Conv2d(in_channels=3, out_channels=32, kernel_size=7, padding=1),\n",
    "            nn.MaxPool2d(kernel_size=2),\n",
    "            nn.Conv2d(in_channels=32, out_channels=64, kernel_size=5, padding=1),\n",
    "            nn.MaxPool2d(kernel_size=2),\n",
    "            nn.Conv2d(in_channels=64, out_channels=128, kernel_size=5, padding=1),\n",
    "            nn.MaxPool2d(kernel_size=2),\n",
    "            nn.Conv2d(in_channels=128, out_channels=64, kernel_size=3, padding=1),\n",
    "            nn.MaxPool2d(kernel_size=2),\n",
    "            nn.Conv2d(in_channels=64, out_channels=32, kernel_size=3, padding=1),\n",
    "            nn.MaxPool2d(kernel_size=2),\n",
    "            nn.Flatten()\n",
    "        )\n",
    "        \n",
    "        # Classifier\n",
    "        self.classifier = nn.Sequential(\n",
    "            nn.Linear(1152 , 200),  # Adjust the size based on the input image size\n",
    "            nn.ReLU(),\n",
    "            nn.Dropout(0.5),\n",
    "            nn.Linear(200, 100),\n",
    "            nn.ReLU(),\n",
    "            nn.Dropout(0.5),\n",
    "            nn.Linear(100, 1)\n",
    "\n",
    "        )\n",
    "        \n",
    "    def forward(self, x):\n",
    "        x = self.feature_extract(x)\n",
    "        x = self.classifier(x)\n",
    "        return x\n",
    "    \n",
    "    def predict(self, img):\n",
    "        '''\n",
    "        returns the predicted classes for the given images\n",
    "        '''\n",
    "        self.eval()\n",
    "        with torch.no_grad():\n",
    "            img = img.to(self.device)\n",
    "            output = self(img)\n",
    "            prob_outputs = torch.sigmoid(output)\n",
    "            return prob_outputs\n",
    "            \n",
    "        \n",
    "\n",
    "    \n",
    "    def eval_val(self, data_loader):\n",
    "        '''\n",
    "        returns the accuracy, precision, recall , partial AUC, predicted probabilities and actual labels for the given data loader\n",
    "        '''\n",
    "        self.eval()\n",
    "        y_prob_pred = []\n",
    "        y_actual = []\n",
    "        with torch.no_grad():\n",
    "            for images, actuals in data_loader:\n",
    "                \n",
    "                images, actuals = images.to(self.device), actuals.to(self.device)\n",
    "                # Get the model predictions\n",
    "                output = self(images)\n",
    "                # Get the probability outputs\n",
    "                prob_outputs = torch.sigmoid(output)\n",
    "                # Get the binary predictions\n",
    "                batch_pred = (prob_outputs > 0.5).float()\n",
    "                # Reshape the actuals\n",
    "                actuals = actuals.unsqueeze(1).float()\n",
    "\n",
    "                y_prob_pred.extend(prob_outputs.cpu().numpy())\n",
    "                y_actual.extend(actuals.cpu().numpy())\n",
    "\n",
    "                # Update the metrics\n",
    "                self.accuracy(batch_pred, actuals)\n",
    "                self.precision(batch_pred, actuals)\n",
    "                self.recall(batch_pred, actuals)\n",
    "        \n",
    "        # Calculate the partial AUC\n",
    "#         partial_auc = calculate_partial_auc_by_tpr(y_true=y_actual, y_scores=y_prob_pred, max_tpr=0.8)\n",
    "        partial_auc = 0\n",
    "\n",
    "        return self.accuracy.compute(), self.precision.compute(), self.recall.compute(), partial_auc, y_prob_pred, y_actual\n",
    "    \n",
    "    def train_model(self, train_loader, val_loader):\n",
    "        \n",
    "        last_accuracy = -100\n",
    "        self.optimizer = optim.Adam(self.parameters(), lr=self.learning_rate)\n",
    "        scaler = GradScaler()\n",
    "\n",
    "        for epoch in range(self.num_epochs):\n",
    "            self.train()\n",
    "            running_loss = 0.0\n",
    "\n",
    "            for i, (images, labels) in enumerate(train_loader):\n",
    "                \n",
    "                images, labels = images.to(self.device), labels.to(self.device)\n",
    "                self.optimizer.zero_grad()\n",
    "                with autocast():\n",
    "                    outputs = self(images)\n",
    "                    labels = labels.unsqueeze(1).float()\n",
    "                    loss = self.criterion(outputs, labels)\n",
    "                scaler.scale(loss).backward()\n",
    "                # Gradient clipping\n",
    "                max_norm = 1.0  # Set the maximum allowable norm for the gradients\n",
    "                torch.nn.utils.clip_grad_norm_(self.parameters(), max_norm)\n",
    "                scaler.step(self.optimizer)\n",
    "                scaler.update()\n",
    "\n",
    "                running_loss += loss.item()\n",
    "                if i%1000 == 0 and self.DEBUG:\n",
    "                    print(\" Step [{}/{}] Loss: {}\".format(i, len(train_loader), loss.item()))\n",
    "                    \n",
    "            val_acc, val_precision, val_recall, val_pauc, _ , _ = self.eval_val(val_loader)\n",
    "            train_acc, _, _, train_pauc, _, _ = self.eval_val(train_loader)\n",
    "\n",
    "            self.model_loss_history.append(running_loss/len(train_loader))\n",
    "            self.model_train_acc_history.append(train_acc.item())\n",
    "            self.model_train_pauc_history.append(train_pauc)\n",
    "            self.model_val_acc_history.append(val_acc.item())\n",
    "            self.model_val_precision_history.append(val_precision.item())\n",
    "            self.model_val_recall_history.append(val_recall.item())\n",
    "            self.model_val_pauc_history.append(val_pauc)\n",
    "            self.model_lr_history.append(self.optimizer.param_groups[0]['lr'])\n",
    "            \n",
    "            print(f'Epoch: {epoch+1}/{self.num_epochs}, Loss: {loss.item()},Train Acc: {train_acc}, Val Acc: {val_acc}, Val Precision: {val_precision}, Val Recall: {val_recall},Train PAUC: {train_pauc}, Val PAUC: {val_pauc}')\n",
    "            \n",
    "            if val_acc > last_accuracy:\n",
    "                last_accuracy = val_acc\n",
    "            elif self.early_stopping:\n",
    "                break\n",
    "        \n",
    "        print('Finished Training')\n",
    "\n",
    "    def plot_history(self):\n",
    "        # making two plots one for loss and other for accuracy\n",
    "        fig, axs = plt.subplots(2, 3, figsize=(15, 10))\n",
    "        fig.suptitle('Model Training History')\n",
    "        axs[0, 0].plot(self.model_loss_history)\n",
    "        axs[0, 0].set_title('Model Loss')\n",
    "        axs[0, 0].set_xlabel('Epochs')\n",
    "        axs[0, 0].set_ylabel('Loss')\n",
    "\n",
    "        axs[0, 1].plot(self.model_train_acc_history, label='Train')\n",
    "        axs[0, 1].plot(self.model_val_acc_history, label='Val')\n",
    "        axs[0, 1].set_title('Model Accuracy')\n",
    "        axs[0, 1].set_xlabel('Epochs')\n",
    "        axs[0, 1].set_ylabel('Accuracy')\n",
    "        axs[0, 1].legend()\n",
    "\n",
    "        axs[1, 0].plot(self.model_val_precision_history)\n",
    "        axs[1, 0].set_title('Model Precision')\n",
    "        axs[1, 0].set_xlabel('Epochs')\n",
    "        axs[1, 0].set_ylabel('Precision')\n",
    "        \n",
    "        axs[1, 1].plot(self.model_val_recall_history)\n",
    "        axs[1, 1].set_title('Model Recall')\n",
    "        axs[1, 1].set_xlabel('Epochs')\n",
    "        axs[1, 1].set_ylabel('Recall')\n",
    "\n",
    "        axs[0, 2].plot(self.model_lr_history)\n",
    "        axs[0, 2].set_title('Learning Rate')\n",
    "        axs[0, 2].set_xlabel('Epochs')\n",
    "        axs[0, 2].set_ylabel('Learning Rate')\n",
    "        \n",
    "        axs[1, 2].plot(self.model_val_pauc_history)\n",
    "        axs[1, 2].set_title('Model Partial AUC')\n",
    "        axs[1, 2].set_xlabel('Epochs')\n",
    "        axs[1, 2].set_ylabel('Partial AUC')\n",
    "        \n",
    "\n",
    "        plt.show()\n",
    "    \n",
    "    def save_model(self):\n",
    "        torch.save(self.state_dict(),type(self).__name__+'.pth')\n",
    "\n",
    "    def print_summary(self):\n",
    "        pass\n",
    "#         summary(self, (3, self.dim, self.dim))"
   ]
  },
  {
   "cell_type": "code",
   "execution_count": 18,
   "id": "ddd9bfc0",
   "metadata": {
    "execution": {
     "iopub.execute_input": "2024-07-23T11:41:19.141495Z",
     "iopub.status.busy": "2024-07-23T11:41:19.141241Z",
     "iopub.status.idle": "2024-07-23T11:41:19.364871Z",
     "shell.execute_reply": "2024-07-23T11:41:19.363877Z"
    },
    "papermill": {
     "duration": 0.234394,
     "end_time": "2024-07-23T11:41:19.366937",
     "exception": false,
     "start_time": "2024-07-23T11:41:19.132543",
     "status": "completed"
    },
    "tags": []
   },
   "outputs": [
    {
     "data": {
      "text/plain": [
       "Model(\n",
       "  (criterion): BCEWithLogitsLoss()\n",
       "  (accuracy): BinaryAccuracy()\n",
       "  (precision): BinaryPrecision()\n",
       "  (recall): BinaryRecall()\n",
       "  (feature_extract): Sequential(\n",
       "    (0): Conv2d(3, 32, kernel_size=(7, 7), stride=(1, 1), padding=(1, 1))\n",
       "    (1): MaxPool2d(kernel_size=2, stride=2, padding=0, dilation=1, ceil_mode=False)\n",
       "    (2): Conv2d(32, 64, kernel_size=(5, 5), stride=(1, 1), padding=(1, 1))\n",
       "    (3): MaxPool2d(kernel_size=2, stride=2, padding=0, dilation=1, ceil_mode=False)\n",
       "    (4): Conv2d(64, 128, kernel_size=(5, 5), stride=(1, 1), padding=(1, 1))\n",
       "    (5): MaxPool2d(kernel_size=2, stride=2, padding=0, dilation=1, ceil_mode=False)\n",
       "    (6): Conv2d(128, 64, kernel_size=(3, 3), stride=(1, 1), padding=(1, 1))\n",
       "    (7): MaxPool2d(kernel_size=2, stride=2, padding=0, dilation=1, ceil_mode=False)\n",
       "    (8): Conv2d(64, 32, kernel_size=(3, 3), stride=(1, 1), padding=(1, 1))\n",
       "    (9): MaxPool2d(kernel_size=2, stride=2, padding=0, dilation=1, ceil_mode=False)\n",
       "    (10): Flatten(start_dim=1, end_dim=-1)\n",
       "  )\n",
       "  (classifier): Sequential(\n",
       "    (0): Linear(in_features=1152, out_features=200, bias=True)\n",
       "    (1): ReLU()\n",
       "    (2): Dropout(p=0.5, inplace=False)\n",
       "    (3): Linear(in_features=200, out_features=100, bias=True)\n",
       "    (4): ReLU()\n",
       "    (5): Dropout(p=0.5, inplace=False)\n",
       "    (6): Linear(in_features=100, out_features=1, bias=True)\n",
       "  )\n",
       ")"
      ]
     },
     "execution_count": 18,
     "metadata": {},
     "output_type": "execute_result"
    }
   ],
   "source": [
    "num_of_classes = 2\n",
    "cnn = Model(num_classes=num_of_classes, \n",
    "            device=device, \n",
    "            dim=dim, \n",
    "            num_epochs=20, \n",
    "            learning_rate=0.00001,\n",
    "            early_stopping=False)\n",
    "cnn.to(device)\n"
   ]
  },
  {
   "cell_type": "code",
   "execution_count": 19,
   "id": "328727e4",
   "metadata": {
    "execution": {
     "iopub.execute_input": "2024-07-23T11:41:19.383959Z",
     "iopub.status.busy": "2024-07-23T11:41:19.383640Z",
     "iopub.status.idle": "2024-07-23T17:18:18.952798Z",
     "shell.execute_reply": "2024-07-23T17:18:18.951549Z"
    },
    "papermill": {
     "duration": 20219.60011,
     "end_time": "2024-07-23T17:18:18.975061",
     "exception": false,
     "start_time": "2024-07-23T11:41:19.374951",
     "status": "completed"
    },
    "tags": []
   },
   "outputs": [
    {
     "name": "stdout",
     "output_type": "stream",
     "text": [
      " Step [0/5014] Loss: 0.677465558052063\n",
      " Step [1000/5014] Loss: 1.5087383076206606e-07\n",
      " Step [2000/5014] Loss: 1.7179043425130658e-05\n",
      " Step [3000/5014] Loss: 1.9774248600006104\n",
      " Step [4000/5014] Loss: 0.0001567156141391024\n",
      " Step [5000/5014] Loss: 1.3224725137206406e-07\n",
      "Epoch: 1/20, Loss: 0.0,Train Acc: 0.9990200996398926, Val Acc: 0.9990150928497314, Val Precision: 0.0, Val Recall: 0.0,Train PAUC: 0, Val PAUC: 0\n",
      " Step [0/5014] Loss: 1.8626450382086546e-09\n",
      " Step [1000/5014] Loss: 2.3469155507882533e-07\n",
      " Step [2000/5014] Loss: 0.0\n",
      " Step [3000/5014] Loss: 1.8626450382086546e-09\n",
      " Step [4000/5014] Loss: 7.4505797087454084e-09\n",
      " Step [5000/5014] Loss: 1.303851249190302e-08\n",
      "Epoch: 2/20, Loss: 0.0,Train Acc: 0.9990200996398926, Val Acc: 0.9990192651748657, Val Precision: 0.0, Val Recall: 0.0,Train PAUC: 0, Val PAUC: 0\n",
      " Step [0/5014] Loss: 5.587935003603661e-09\n",
      " Step [1000/5014] Loss: 3.539023651910611e-08\n",
      " Step [2000/5014] Loss: 4.284078869432051e-08\n",
      " Step [3000/5014] Loss: 9.313224857976365e-09\n",
      " Step [4000/5014] Loss: 0.0\n",
      " Step [5000/5014] Loss: 5.587934559514451e-09\n",
      "Epoch: 3/20, Loss: 0.0,Train Acc: 0.9990200996398926, Val Acc: 0.9990196228027344, Val Precision: 0.0, Val Recall: 0.0,Train PAUC: 0, Val PAUC: 0\n",
      " Step [0/5014] Loss: 4.470345515983354e-08\n",
      " Step [1000/5014] Loss: 0.0\n",
      " Step [2000/5014] Loss: 1.8626450382086546e-09\n",
      " Step [3000/5014] Loss: 3.7252898543727042e-09\n",
      " Step [4000/5014] Loss: 0.0\n",
      " Step [5000/5014] Loss: 1.8626450382086546e-09\n",
      "Epoch: 4/20, Loss: 0.0,Train Acc: 0.9990200996398926, Val Acc: 0.9990198016166687, Val Precision: 0.0, Val Recall: 0.0,Train PAUC: 0, Val PAUC: 0\n",
      " Step [0/5014] Loss: 0.0\n",
      " Step [1000/5014] Loss: 2.4214376281861405e-08\n",
      " Step [2000/5014] Loss: 3.7252898543727042e-09\n",
      " Step [3000/5014] Loss: 1.3969810197522747e-07\n",
      " Step [4000/5014] Loss: 0.794921875\n",
      " Step [5000/5014] Loss: 0.0\n",
      "Epoch: 5/20, Loss: 0.0,Train Acc: 0.9990200996398926, Val Acc: 0.9990198612213135, Val Precision: 0.0, Val Recall: 0.0,Train PAUC: 0, Val PAUC: 0\n",
      " Step [0/5014] Loss: 0.0\n",
      " Step [1000/5014] Loss: 0.0\n",
      " Step [2000/5014] Loss: 0.0\n",
      " Step [3000/5014] Loss: 9.313224857976365e-09\n",
      " Step [4000/5014] Loss: 1.6763797461294416e-08\n",
      " Step [5000/5014] Loss: 0.0\n",
      "Epoch: 6/20, Loss: 0.0,Train Acc: 0.9990200996398926, Val Acc: 0.9990199208259583, Val Precision: 0.0, Val Recall: 0.0,Train PAUC: 0, Val PAUC: 0\n",
      " Step [0/5014] Loss: 0.0\n",
      " Step [1000/5014] Loss: 1.8626450382086546e-09\n",
      " Step [2000/5014] Loss: 1.8626450382086546e-09\n",
      " Step [3000/5014] Loss: 1.8626450382086546e-09\n",
      " Step [4000/5014] Loss: 0.0\n",
      " Step [5000/5014] Loss: 3.054709623029339e-07\n",
      "Epoch: 7/20, Loss: 0.0,Train Acc: 0.9990200996398926, Val Acc: 0.9990199208259583, Val Precision: 0.0, Val Recall: 0.0,Train PAUC: 0, Val PAUC: 0\n",
      " Step [0/5014] Loss: 0.0\n",
      " Step [1000/5014] Loss: 0.0\n",
      " Step [2000/5014] Loss: 0.479248046875\n",
      " Step [3000/5014] Loss: 8.381883276342705e-08\n",
      " Step [4000/5014] Loss: 0.0\n",
      " Step [5000/5014] Loss: 3.725290076417309e-09\n",
      "Epoch: 8/20, Loss: 0.0,Train Acc: 0.9990200996398926, Val Acc: 0.999019980430603, Val Precision: 0.0, Val Recall: 0.0,Train PAUC: 0, Val PAUC: 0\n",
      " Step [0/5014] Loss: 5.401663827342418e-08\n",
      " Step [1000/5014] Loss: 1.6018675808027183e-07\n",
      " Step [2000/5014] Loss: 5.587934559514451e-09\n",
      " Step [3000/5014] Loss: 0.0\n",
      " Step [4000/5014] Loss: 0.0\n",
      " Step [5000/5014] Loss: 0.0\n",
      "Epoch: 9/20, Loss: 8.514948746096707e-09,Train Acc: 0.9990200996398926, Val Acc: 0.999019980430603, Val Precision: 0.0, Val Recall: 0.0,Train PAUC: 0, Val PAUC: 0\n",
      " Step [0/5014] Loss: 0.0\n",
      " Step [1000/5014] Loss: 0.4775390625\n",
      " Step [2000/5014] Loss: 3.7252898543727042e-09\n",
      " Step [3000/5014] Loss: 3.725290076417309e-09\n",
      " Step [4000/5014] Loss: 1.8626450382086546e-09\n",
      " Step [5000/5014] Loss: 9.685724933206075e-08\n",
      "Epoch: 10/20, Loss: 0.0,Train Acc: 0.9990200996398926, Val Acc: 0.999019980430603, Val Precision: 0.0, Val Recall: 0.0,Train PAUC: 0, Val PAUC: 0\n",
      " Step [0/5014] Loss: 0.0\n",
      " Step [1000/5014] Loss: 3.7252898543727042e-09\n",
      " Step [2000/5014] Loss: 0.0\n",
      " Step [3000/5014] Loss: 2.4586722702224506e-07\n",
      " Step [4000/5014] Loss: 0.0\n",
      " Step [5000/5014] Loss: 5.587935003603661e-09\n",
      "Epoch: 11/20, Loss: 0.0,Train Acc: 0.9990200996398926, Val Acc: 0.999019980430603, Val Precision: 0.0, Val Recall: 0.0,Train PAUC: 0, Val PAUC: 0\n",
      " Step [0/5014] Loss: 7.4505797087454084e-09\n",
      " Step [1000/5014] Loss: 0.0\n",
      " Step [2000/5014] Loss: 0.0\n",
      " Step [3000/5014] Loss: 0.0\n",
      " Step [4000/5014] Loss: 1.8626450382086546e-09\n",
      " Step [5000/5014] Loss: 0.0\n",
      "Epoch: 12/20, Loss: 8.514944482840292e-08,Train Acc: 0.9990200996398926, Val Acc: 0.999019980430603, Val Precision: 0.0, Val Recall: 0.0,Train PAUC: 0, Val PAUC: 0\n",
      " Step [0/5014] Loss: 0.0\n",
      " Step [1000/5014] Loss: 5.587934559514451e-09\n",
      " Step [2000/5014] Loss: 1.8626450382086546e-09\n",
      " Step [3000/5014] Loss: 5.587935003603661e-09\n",
      " Step [4000/5014] Loss: 1.8626450382086546e-09\n",
      " Step [5000/5014] Loss: 0.0\n",
      "Epoch: 13/20, Loss: 0.0,Train Acc: 0.9990200996398926, Val Acc: 0.9990200400352478, Val Precision: 0.0, Val Recall: 0.0,Train PAUC: 0, Val PAUC: 0\n",
      " Step [0/5014] Loss: 0.0\n",
      " Step [1000/5014] Loss: 0.0\n",
      " Step [2000/5014] Loss: 7.4505797087454084e-09\n",
      " Step [3000/5014] Loss: 0.0\n",
      " Step [4000/5014] Loss: 0.0\n",
      " Step [5000/5014] Loss: 0.0\n",
      "Epoch: 14/20, Loss: 0.0,Train Acc: 0.9990200996398926, Val Acc: 0.9990200400352478, Val Precision: 0.0, Val Recall: 0.0,Train PAUC: 0, Val PAUC: 0\n",
      " Step [0/5014] Loss: 0.0\n",
      " Step [1000/5014] Loss: 0.0\n",
      " Step [2000/5014] Loss: 0.7373046875\n",
      " Step [3000/5014] Loss: 1.8626450382086546e-09\n",
      " Step [4000/5014] Loss: 0.0\n",
      " Step [5000/5014] Loss: 0.0\n",
      "Epoch: 15/20, Loss: 0.0,Train Acc: 0.9990200996398926, Val Acc: 0.9990200400352478, Val Precision: 0.0, Val Recall: 0.0,Train PAUC: 0, Val PAUC: 0\n",
      " Step [0/5014] Loss: 0.0\n",
      " Step [1000/5014] Loss: 0.0\n",
      " Step [2000/5014] Loss: 7.450578820566989e-09\n",
      " Step [3000/5014] Loss: 0.363037109375\n",
      " Step [4000/5014] Loss: 5.587934559514451e-09\n",
      " Step [5000/5014] Loss: 0.0\n",
      "Epoch: 16/20, Loss: 0.0,Train Acc: 0.9990200996398926, Val Acc: 0.9990200400352478, Val Precision: 0.0, Val Recall: 0.0,Train PAUC: 0, Val PAUC: 0\n",
      " Step [0/5014] Loss: 2.9802293965985882e-08\n",
      " Step [1000/5014] Loss: 3.7252898543727042e-09\n",
      " Step [2000/5014] Loss: 0.0\n",
      " Step [3000/5014] Loss: 9.313198745530826e-08\n",
      " Step [4000/5014] Loss: 1.8626450382086546e-09\n",
      " Step [5000/5014] Loss: 3.7252898543727042e-09\n",
      "Epoch: 17/20, Loss: 0.0,Train Acc: 0.9990200996398926, Val Acc: 0.9990200400352478, Val Precision: 0.0, Val Recall: 0.0,Train PAUC: 0, Val PAUC: 0\n",
      " Step [0/5014] Loss: 0.0\n",
      " Step [1000/5014] Loss: 0.486083984375\n",
      " Step [2000/5014] Loss: 0.0\n",
      " Step [3000/5014] Loss: 7.450578820566989e-09\n",
      " Step [4000/5014] Loss: 9.313224857976365e-09\n",
      " Step [5000/5014] Loss: 0.0\n",
      "Epoch: 18/20, Loss: 0.0,Train Acc: 0.9990200996398926, Val Acc: 0.9990200400352478, Val Precision: 0.0, Val Recall: 0.0,Train PAUC: 0, Val PAUC: 0\n",
      " Step [0/5014] Loss: 0.0\n",
      " Step [1000/5014] Loss: 0.0\n",
      " Step [2000/5014] Loss: 1.1175869119028903e-08\n",
      " Step [3000/5014] Loss: 0.0\n",
      " Step [4000/5014] Loss: 1.8626450382086546e-09\n",
      " Step [5000/5014] Loss: 0.0\n",
      "Epoch: 19/20, Loss: 0.0,Train Acc: 0.9990200996398926, Val Acc: 0.9990200400352478, Val Precision: 0.0, Val Recall: 0.0,Train PAUC: 0, Val PAUC: 0\n",
      " Step [0/5014] Loss: 1.1175867342672063e-08\n",
      " Step [1000/5014] Loss: 5.587934559514451e-09\n",
      " Step [2000/5014] Loss: 0.406494140625\n",
      " Step [3000/5014] Loss: 0.0\n",
      " Step [4000/5014] Loss: 1.8626450382086546e-09\n",
      " Step [5000/5014] Loss: 1.6763802790364934e-08\n",
      "Epoch: 20/20, Loss: 1.7029897492193413e-08,Train Acc: 0.9990200996398926, Val Acc: 0.9990200400352478, Val Precision: 0.0, Val Recall: 0.0,Train PAUC: 0, Val PAUC: 0\n",
      "Finished Training\n"
     ]
    }
   ],
   "source": [
    "cnn.train_model(train_loader=train_loader,val_loader=val_loader)"
   ]
  },
  {
   "cell_type": "code",
   "execution_count": 20,
   "id": "9ce3cab6",
   "metadata": {
    "execution": {
     "iopub.execute_input": "2024-07-23T17:18:19.014053Z",
     "iopub.status.busy": "2024-07-23T17:18:19.013712Z",
     "iopub.status.idle": "2024-07-23T17:20:05.532062Z",
     "shell.execute_reply": "2024-07-23T17:20:05.530973Z"
    },
    "papermill": {
     "duration": 106.559654,
     "end_time": "2024-07-23T17:20:05.553044",
     "exception": false,
     "start_time": "2024-07-23T17:18:18.993390",
     "status": "completed"
    },
    "tags": []
   },
   "outputs": [
    {
     "name": "stdout",
     "output_type": "stream",
     "text": [
      "Accuracy: 0, Precision: 0.0, Recall: 0.0\n"
     ]
    }
   ],
   "source": [
    "cnn_acc , cnn_precision, cnn_recall , cnn_pauc, y_pred, y_actual = cnn.eval_val(val_loader)\n",
    "print(f\"Accuracy: {cnn_pauc}, Precision: {cnn_precision}, Recall: {cnn_recall}\")"
   ]
  },
  {
   "cell_type": "code",
   "execution_count": 21,
   "id": "058cf0bf",
   "metadata": {
    "execution": {
     "iopub.execute_input": "2024-07-23T17:20:05.592031Z",
     "iopub.status.busy": "2024-07-23T17:20:05.591675Z",
     "iopub.status.idle": "2024-07-23T17:20:05.705734Z",
     "shell.execute_reply": "2024-07-23T17:20:05.704780Z"
    },
    "papermill": {
     "duration": 0.136101,
     "end_time": "2024-07-23T17:20:05.707738",
     "exception": false,
     "start_time": "2024-07-23T17:20:05.571637",
     "status": "completed"
    },
    "tags": []
   },
   "outputs": [
    {
     "data": {
      "text/plain": [
       "(80213, 0)"
      ]
     },
     "execution_count": 21,
     "metadata": {},
     "output_type": "execute_result"
    }
   ],
   "source": [
    "# 0.5 threshold\n",
    "y_pred = np.array(y_pred)\n",
    "y_actual = np.array(y_actual).astype(int)\n",
    "y_pred = (y_pred > 0.5).astype(int)\n",
    "\n",
    "# output the incorrect predictions\n",
    "incorrect_predictions = np.where(y_pred != y_actual)[0]\n",
    "number_zero = np.sum(y_pred == 0)\n",
    "number_one = np.sum(y_pred == 1)\n",
    "number_zero, number_one"
   ]
  },
  {
   "cell_type": "code",
   "execution_count": 22,
   "id": "eee56799",
   "metadata": {
    "execution": {
     "iopub.execute_input": "2024-07-23T17:20:05.747672Z",
     "iopub.status.busy": "2024-07-23T17:20:05.747321Z",
     "iopub.status.idle": "2024-07-23T17:20:05.752019Z",
     "shell.execute_reply": "2024-07-23T17:20:05.751227Z"
    },
    "papermill": {
     "duration": 0.027334,
     "end_time": "2024-07-23T17:20:05.754387",
     "exception": false,
     "start_time": "2024-07-23T17:20:05.727053",
     "status": "completed"
    },
    "tags": []
   },
   "outputs": [
    {
     "name": "stdout",
     "output_type": "stream",
     "text": [
      "Partial AUC: 0\n"
     ]
    }
   ],
   "source": [
    "print(f\"Partial AUC: {cnn_pauc}\")\n"
   ]
  },
  {
   "cell_type": "code",
   "execution_count": 23,
   "id": "71fade6b",
   "metadata": {
    "execution": {
     "iopub.execute_input": "2024-07-23T17:20:05.793374Z",
     "iopub.status.busy": "2024-07-23T17:20:05.793075Z",
     "iopub.status.idle": "2024-07-23T17:20:05.805671Z",
     "shell.execute_reply": "2024-07-23T17:20:05.804780Z"
    },
    "papermill": {
     "duration": 0.034207,
     "end_time": "2024-07-23T17:20:05.807585",
     "exception": false,
     "start_time": "2024-07-23T17:20:05.773378",
     "status": "completed"
    },
    "tags": []
   },
   "outputs": [],
   "source": [
    "cnn.save_model()"
   ]
  },
  {
   "cell_type": "code",
   "execution_count": 24,
   "id": "bf7d44c6",
   "metadata": {
    "execution": {
     "iopub.execute_input": "2024-07-23T17:20:05.847122Z",
     "iopub.status.busy": "2024-07-23T17:20:05.846546Z",
     "iopub.status.idle": "2024-07-23T17:20:06.065119Z",
     "shell.execute_reply": "2024-07-23T17:20:06.064036Z"
    },
    "papermill": {
     "duration": 0.240905,
     "end_time": "2024-07-23T17:20:06.067435",
     "exception": false,
     "start_time": "2024-07-23T17:20:05.826530",
     "status": "completed"
    },
    "tags": []
   },
   "outputs": [
    {
     "data": {
      "text/plain": [
       "array([4.5263993e-13, 7.4685856e-12, 4.9405684e-12], dtype=float32)"
      ]
     },
     "execution_count": 24,
     "metadata": {},
     "output_type": "execute_result"
    }
   ],
   "source": [
    "y_prod_pred = []\n",
    "for images in test_loader:\n",
    "    images = images.to(device)\n",
    "    prob_outputs = cnn.predict(images)\n",
    "    y_prod_pred.extend(prob_outputs.cpu().numpy())\n",
    "\n",
    "y_prod_pred = np.array(y_prod_pred)\n",
    "y_prod_pred = y_prod_pred.flatten()\n",
    "y_prod_pred"
   ]
  },
  {
   "cell_type": "code",
   "execution_count": 25,
   "id": "400ae3f1",
   "metadata": {
    "execution": {
     "iopub.execute_input": "2024-07-23T17:20:06.109558Z",
     "iopub.status.busy": "2024-07-23T17:20:06.108973Z",
     "iopub.status.idle": "2024-07-23T17:20:06.124039Z",
     "shell.execute_reply": "2024-07-23T17:20:06.123050Z"
    },
    "papermill": {
     "duration": 0.037962,
     "end_time": "2024-07-23T17:20:06.126182",
     "exception": false,
     "start_time": "2024-07-23T17:20:06.088220",
     "status": "completed"
    },
    "tags": []
   },
   "outputs": [
    {
     "data": {
      "text/html": [
       "<div>\n",
       "<style scoped>\n",
       "    .dataframe tbody tr th:only-of-type {\n",
       "        vertical-align: middle;\n",
       "    }\n",
       "\n",
       "    .dataframe tbody tr th {\n",
       "        vertical-align: top;\n",
       "    }\n",
       "\n",
       "    .dataframe thead th {\n",
       "        text-align: right;\n",
       "    }\n",
       "</style>\n",
       "<table border=\"1\" class=\"dataframe\">\n",
       "  <thead>\n",
       "    <tr style=\"text-align: right;\">\n",
       "      <th></th>\n",
       "      <th>isic_id</th>\n",
       "      <th>target</th>\n",
       "    </tr>\n",
       "  </thead>\n",
       "  <tbody>\n",
       "    <tr>\n",
       "      <th>0</th>\n",
       "      <td>ISIC_0015657</td>\n",
       "      <td>4.526399e-13</td>\n",
       "    </tr>\n",
       "    <tr>\n",
       "      <th>1</th>\n",
       "      <td>ISIC_0015729</td>\n",
       "      <td>7.468586e-12</td>\n",
       "    </tr>\n",
       "    <tr>\n",
       "      <th>2</th>\n",
       "      <td>ISIC_0015740</td>\n",
       "      <td>4.940568e-12</td>\n",
       "    </tr>\n",
       "  </tbody>\n",
       "</table>\n",
       "</div>"
      ],
      "text/plain": [
       "        isic_id        target\n",
       "0  ISIC_0015657  4.526399e-13\n",
       "1  ISIC_0015729  7.468586e-12\n",
       "2  ISIC_0015740  4.940568e-12"
      ]
     },
     "execution_count": 25,
     "metadata": {},
     "output_type": "execute_result"
    }
   ],
   "source": [
    "submission_df = pd.DataFrame({'isic_id': test_metadata_df['isic_id'], 'target': y_prod_pred})\n",
    "submission_df "
   ]
  },
  {
   "cell_type": "code",
   "execution_count": 26,
   "id": "883431c2",
   "metadata": {
    "execution": {
     "iopub.execute_input": "2024-07-23T17:20:06.168383Z",
     "iopub.status.busy": "2024-07-23T17:20:06.167762Z",
     "iopub.status.idle": "2024-07-23T17:20:06.175837Z",
     "shell.execute_reply": "2024-07-23T17:20:06.175116Z"
    },
    "papermill": {
     "duration": 0.030646,
     "end_time": "2024-07-23T17:20:06.177760",
     "exception": false,
     "start_time": "2024-07-23T17:20:06.147114",
     "status": "completed"
    },
    "tags": []
   },
   "outputs": [],
   "source": [
    "submission_df.to_csv('submission.csv', index=False)"
   ]
  },
  {
   "cell_type": "code",
   "execution_count": null,
   "id": "4c3d2441",
   "metadata": {
    "papermill": {
     "duration": 0.019963,
     "end_time": "2024-07-23T17:20:06.217212",
     "exception": false,
     "start_time": "2024-07-23T17:20:06.197249",
     "status": "completed"
    },
    "tags": []
   },
   "outputs": [],
   "source": []
  }
 ],
 "metadata": {
  "kaggle": {
   "accelerator": "gpu",
   "dataSources": [
    {
     "databundleVersionId": 9094797,
     "sourceId": 63056,
     "sourceType": "competition"
    }
   ],
   "dockerImageVersionId": 30732,
   "isGpuEnabled": true,
   "isInternetEnabled": false,
   "language": "python",
   "sourceType": "notebook"
  },
  "kernelspec": {
   "display_name": "Python 3",
   "language": "python",
   "name": "python3"
  },
  "language_info": {
   "codemirror_mode": {
    "name": "ipython",
    "version": 3
   },
   "file_extension": ".py",
   "mimetype": "text/x-python",
   "name": "python",
   "nbconvert_exporter": "python",
   "pygments_lexer": "ipython3",
   "version": "3.10.13"
  },
  "papermill": {
   "default_parameters": {},
   "duration": 20351.266535,
   "end_time": "2024-07-23T17:20:09.214212",
   "environment_variables": {},
   "exception": null,
   "input_path": "__notebook__.ipynb",
   "output_path": "__notebook__.ipynb",
   "parameters": {},
   "start_time": "2024-07-23T11:40:57.947677",
   "version": "2.5.0"
  }
 },
 "nbformat": 4,
 "nbformat_minor": 5
}
