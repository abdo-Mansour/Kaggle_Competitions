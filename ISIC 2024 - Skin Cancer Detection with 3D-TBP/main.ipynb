{
 "cells": [
  {
   "cell_type": "code",
   "execution_count": 1,
   "id": "9f700096",
   "metadata": {
    "execution": {
     "iopub.execute_input": "2024-07-23T09:41:53.102972Z",
     "iopub.status.busy": "2024-07-23T09:41:53.102497Z",
     "iopub.status.idle": "2024-07-23T09:42:06.909884Z",
     "shell.execute_reply": "2024-07-23T09:42:06.908709Z"
    },
    "papermill": {
     "duration": 13.821136,
     "end_time": "2024-07-23T09:42:06.912693",
     "exception": false,
     "start_time": "2024-07-23T09:41:53.091557",
     "status": "completed"
    },
    "tags": []
   },
   "outputs": [
    {
     "name": "stdout",
     "output_type": "stream",
     "text": [
      "Collecting torchsummary\r\n",
      "  Downloading torchsummary-1.5.1-py3-none-any.whl.metadata (296 bytes)\r\n",
      "Downloading torchsummary-1.5.1-py3-none-any.whl (2.8 kB)\r\n",
      "Installing collected packages: torchsummary\r\n",
      "Successfully installed torchsummary-1.5.1\r\n"
     ]
    }
   ],
   "source": [
    "!pip install torchsummary"
   ]
  },
  {
   "cell_type": "code",
   "execution_count": 2,
   "id": "18599bdc",
   "metadata": {
    "execution": {
     "iopub.execute_input": "2024-07-23T09:42:06.930519Z",
     "iopub.status.busy": "2024-07-23T09:42:06.930189Z",
     "iopub.status.idle": "2024-07-23T09:42:16.852731Z",
     "shell.execute_reply": "2024-07-23T09:42:16.851895Z"
    },
    "papermill": {
     "duration": 9.933895,
     "end_time": "2024-07-23T09:42:16.854970",
     "exception": false,
     "start_time": "2024-07-23T09:42:06.921075",
     "status": "completed"
    },
    "tags": []
   },
   "outputs": [],
   "source": [
    "import torch\n",
    "import os\n",
    "import cv2\n",
    "import pandas as pd\n",
    "import numpy as np\n",
    "import torch.nn as nn\n",
    "import torch.optim as optim\n",
    "import torch.torch_version\n",
    "import torchvision.transforms as transforms\n",
    "import matplotlib.pyplot as plt\n",
    "from PIL import Image\n",
    "import albumentations as A\n",
    "from albumentations.pytorch import ToTensorV2\n",
    "from torch.utils.data import DataLoader, Dataset\n",
    "from torchsummary import summary\n",
    "from torchvision import transforms\n",
    "from torchmetrics import Accuracy, Precision, Recall\n",
    "\n",
    "import cv2\n",
    "from joblib import Parallel, delayed\n",
    "\n",
    "from torch.cuda.amp import GradScaler, autocast\n"
   ]
  },
  {
   "cell_type": "code",
   "execution_count": 3,
   "id": "64665c38",
   "metadata": {
    "execution": {
     "iopub.execute_input": "2024-07-23T09:42:16.872482Z",
     "iopub.status.busy": "2024-07-23T09:42:16.872034Z",
     "iopub.status.idle": "2024-07-23T09:42:16.876545Z",
     "shell.execute_reply": "2024-07-23T09:42:16.875733Z"
    },
    "papermill": {
     "duration": 0.015512,
     "end_time": "2024-07-23T09:42:16.878630",
     "exception": false,
     "start_time": "2024-07-23T09:42:16.863118",
     "status": "completed"
    },
    "tags": []
   },
   "outputs": [
    {
     "name": "stdout",
     "output_type": "stream",
     "text": [
      "2.1.2\n"
     ]
    }
   ],
   "source": [
    "import torch\n",
    "print(torch.__version__)"
   ]
  },
  {
   "cell_type": "code",
   "execution_count": 4,
   "id": "2552357f",
   "metadata": {
    "execution": {
     "iopub.execute_input": "2024-07-23T09:42:16.895531Z",
     "iopub.status.busy": "2024-07-23T09:42:16.895241Z",
     "iopub.status.idle": "2024-07-23T09:42:16.964573Z",
     "shell.execute_reply": "2024-07-23T09:42:16.963702Z"
    },
    "papermill": {
     "duration": 0.080156,
     "end_time": "2024-07-23T09:42:16.966663",
     "exception": false,
     "start_time": "2024-07-23T09:42:16.886507",
     "status": "completed"
    },
    "tags": []
   },
   "outputs": [
    {
     "name": "stdout",
     "output_type": "stream",
     "text": [
      "Using cuda device\n"
     ]
    }
   ],
   "source": [
    "device = (\n",
    "    \"cuda\"\n",
    "    if torch.cuda.is_available()\n",
    "    else \"mps\"\n",
    "    if torch.backends.mps.is_available()\n",
    "    else \"cpu\"\n",
    ")\n",
    "print(f\"Using {device} device\")"
   ]
  },
  {
   "cell_type": "code",
   "execution_count": 5,
   "id": "17ca80db",
   "metadata": {
    "execution": {
     "iopub.execute_input": "2024-07-23T09:42:16.985343Z",
     "iopub.status.busy": "2024-07-23T09:42:16.984531Z",
     "iopub.status.idle": "2024-07-23T09:42:16.989011Z",
     "shell.execute_reply": "2024-07-23T09:42:16.988150Z"
    },
    "papermill": {
     "duration": 0.01566,
     "end_time": "2024-07-23T09:42:16.990936",
     "exception": false,
     "start_time": "2024-07-23T09:42:16.975276",
     "status": "completed"
    },
    "tags": []
   },
   "outputs": [],
   "source": [
    "iskaggle = os.environ.get('KAGGLE_KERNEL_RUN_TYPE', '')\n",
    "main_path = '/kaggle/input/isic-2024-challenge' if iskaggle else 'data/isic-2024-challenge'"
   ]
  },
  {
   "cell_type": "code",
   "execution_count": 6,
   "id": "598b3ec1",
   "metadata": {
    "execution": {
     "iopub.execute_input": "2024-07-23T09:42:17.009325Z",
     "iopub.status.busy": "2024-07-23T09:42:17.008533Z",
     "iopub.status.idle": "2024-07-23T09:42:24.952462Z",
     "shell.execute_reply": "2024-07-23T09:42:24.951518Z"
    },
    "papermill": {
     "duration": 7.955625,
     "end_time": "2024-07-23T09:42:24.954876",
     "exception": false,
     "start_time": "2024-07-23T09:42:16.999251",
     "status": "completed"
    },
    "tags": []
   },
   "outputs": [
    {
     "name": "stderr",
     "output_type": "stream",
     "text": [
      "/tmp/ipykernel_24/3275392473.py:4: DtypeWarning: Columns (51,52) have mixed types. Specify dtype option on import or set low_memory=False.\n",
      "  train_metadata_df = pd.read_csv(train_metadata_path)\n"
     ]
    },
    {
     "name": "stdout",
     "output_type": "stream",
     "text": [
      "401059\n"
     ]
    }
   ],
   "source": [
    "train_metadata_path = '/kaggle/input/isic-2024-challenge/train-metadata.csv' if iskaggle else 'data/isic-2024-challenge/train-metadata.csv'\n",
    "test_metadata_path = '/kaggle/input/isic-2024-challenge/test-metadata.csv' if iskaggle else 'data/isic-2024-challenge/test-metadata.csv'\n",
    "\n",
    "train_metadata_df = pd.read_csv(train_metadata_path)\n",
    "test_metadata_df = pd.read_csv(test_metadata_path)\n",
    "\n",
    "print(len(train_metadata_df))"
   ]
  },
  {
   "cell_type": "code",
   "execution_count": 7,
   "id": "cadf7d20",
   "metadata": {
    "execution": {
     "iopub.execute_input": "2024-07-23T09:42:24.974287Z",
     "iopub.status.busy": "2024-07-23T09:42:24.973983Z",
     "iopub.status.idle": "2024-07-23T09:42:25.145137Z",
     "shell.execute_reply": "2024-07-23T09:42:25.143980Z"
    },
    "papermill": {
     "duration": 0.182471,
     "end_time": "2024-07-23T09:42:25.147163",
     "exception": false,
     "start_time": "2024-07-23T09:42:24.964692",
     "status": "completed"
    },
    "tags": []
   },
   "outputs": [
    {
     "name": "stdout",
     "output_type": "stream",
     "text": [
      "Positive samples: (393, 55)\n",
      "Negative samples: (1965, 55)\n"
     ]
    }
   ],
   "source": [
    "import sklearn.model_selection as train_test_split\n",
    "\n",
    "train_size = 0.8\n",
    "# Splitting the train dataset into positive and negative samples and saving them in separate dataframes\n",
    "postive_samples = train_metadata_df[train_metadata_df['target'] == 1]\n",
    "negative_samples = train_metadata_df[train_metadata_df['target'] == 0]\n",
    "\n",
    "# TODO: Taking Sample of 1% of the data\n",
    "# postive_samples = postive_samples.sample(frac=0.1)\n",
    "negative_samples = negative_samples.sample(frac=5*postive_samples.shape[0]/negative_samples.shape[0])\n",
    "\n",
    "print(f\"Positive samples: {postive_samples.shape}\")\n",
    "print(f\"Negative samples: {negative_samples.shape}\")"
   ]
  },
  {
   "cell_type": "code",
   "execution_count": 8,
   "id": "e1aa84b7",
   "metadata": {
    "execution": {
     "iopub.execute_input": "2024-07-23T09:42:25.165943Z",
     "iopub.status.busy": "2024-07-23T09:42:25.165104Z",
     "iopub.status.idle": "2024-07-23T09:42:25.174826Z",
     "shell.execute_reply": "2024-07-23T09:42:25.173921Z"
    },
    "papermill": {
     "duration": 0.021163,
     "end_time": "2024-07-23T09:42:25.176916",
     "exception": false,
     "start_time": "2024-07-23T09:42:25.155753",
     "status": "completed"
    },
    "tags": []
   },
   "outputs": [
    {
     "name": "stdout",
     "output_type": "stream",
     "text": [
      "Train positive samples: (314, 55)\n",
      "Train negative samples: (1572, 55)\n",
      "Val positive samples: (79, 55)\n",
      "Val negative samples: (393, 55)\n"
     ]
    }
   ],
   "source": [
    "\n",
    "# Splitting each type of samples into train and validation sets\n",
    "train_positive_samples, val_positive_samples = train_test_split.train_test_split(postive_samples,test_size=1-train_size)\n",
    "train_negative_samples, val_negative_samples = train_test_split.train_test_split(negative_samples,test_size=1-train_size)\n",
    "print(f\"Train positive samples: {train_positive_samples.shape}\")\n",
    "print(f\"Train negative samples: {train_negative_samples.shape}\")\n",
    "print(f\"Val positive samples: {val_positive_samples.shape}\")\n",
    "print(f\"Val negative samples: {val_negative_samples.shape}\")\n"
   ]
  },
  {
   "cell_type": "code",
   "execution_count": 9,
   "id": "e1c551f3",
   "metadata": {
    "execution": {
     "iopub.execute_input": "2024-07-23T09:42:25.194915Z",
     "iopub.status.busy": "2024-07-23T09:42:25.194632Z",
     "iopub.status.idle": "2024-07-23T09:42:25.245732Z",
     "shell.execute_reply": "2024-07-23T09:42:25.244735Z"
    },
    "papermill": {
     "duration": 0.062163,
     "end_time": "2024-07-23T09:42:25.247695",
     "exception": false,
     "start_time": "2024-07-23T09:42:25.185532",
     "status": "completed"
    },
    "tags": []
   },
   "outputs": [
    {
     "name": "stdout",
     "output_type": "stream",
     "text": [
      "Train samples: (1886, 55)\n",
      "Val samples: (472, 55)\n",
      "Test samples: (3, 44)\n"
     ]
    }
   ],
   "source": [
    "\n",
    "# Concatenating the positive and negative samples to get the train and validation sets\n",
    "train_metadata_df = pd.concat([train_positive_samples, train_negative_samples])\n",
    "val_metadata_df = pd.concat([val_positive_samples, val_negative_samples])\n",
    "print(f\"Train samples: {train_metadata_df.shape}\")\n",
    "print(f\"Val samples: {val_metadata_df.shape}\")\n",
    "print(f\"Test samples: {test_metadata_df.shape}\")\n"
   ]
  },
  {
   "cell_type": "code",
   "execution_count": 10,
   "id": "f3c9856f",
   "metadata": {
    "execution": {
     "iopub.execute_input": "2024-07-23T09:42:25.266262Z",
     "iopub.status.busy": "2024-07-23T09:42:25.265435Z",
     "iopub.status.idle": "2024-07-23T09:42:25.417970Z",
     "shell.execute_reply": "2024-07-23T09:42:25.417169Z"
    },
    "papermill": {
     "duration": 0.164153,
     "end_time": "2024-07-23T09:42:25.420190",
     "exception": false,
     "start_time": "2024-07-23T09:42:25.256037",
     "status": "completed"
    },
    "tags": []
   },
   "outputs": [],
   "source": [
    "import h5py\n",
    "from io import BytesIO\n",
    "\n",
    "train_hdf5_path = '/kaggle/input/isic-2024-challenge/train-image.hdf5' if iskaggle else 'data/isic-2024-challenge/train-image.hdf5'\n",
    "test_hdf5_path = '/kaggle/input/isic-2024-challenge/test-image.hdf5' if iskaggle else 'data/isic-2024-challenge/test-image.hdf5'\n",
    "train_image_path = '/kaggle/input/isic-2024-challenge/train-image/image' if iskaggle else 'data/isic-2024-challenge/train-image/image'"
   ]
  },
  {
   "cell_type": "code",
   "execution_count": 11,
   "id": "10f6bf75",
   "metadata": {
    "execution": {
     "iopub.execute_input": "2024-07-23T09:42:25.438590Z",
     "iopub.status.busy": "2024-07-23T09:42:25.438304Z",
     "iopub.status.idle": "2024-07-23T09:42:25.446522Z",
     "shell.execute_reply": "2024-07-23T09:42:25.445717Z"
    },
    "papermill": {
     "duration": 0.019621,
     "end_time": "2024-07-23T09:42:25.448384",
     "exception": false,
     "start_time": "2024-07-23T09:42:25.428763",
     "status": "completed"
    },
    "tags": []
   },
   "outputs": [],
   "source": [
    "class CustomDataset(Dataset):\n",
    "    def __init__(self, hdf5_file_path, metadata_df,target=None, transform=None):\n",
    "        self.hdf5_file_path = hdf5_file_path\n",
    "        self.hdf5_file = h5py.File(self.hdf5_file_path, 'r')\n",
    "        self.metadata_df = metadata_df\n",
    "        self.image_ids = metadata_df['isic_id']\n",
    "        self.labels = target\n",
    "        self.transform = transform\n",
    "\n",
    "        self.mean_of_color_channels = None  # Initialize as None\n",
    "        self.std_of_color_channels = None   # Initialize as None\n",
    "        # self._calculate_stats()\n",
    "\n",
    "    def __len__(self):\n",
    "        return len(self.image_ids)\n",
    "\n",
    "    def __getitem__(self, idx):\n",
    "        image_id = self.image_ids.iloc[idx]\n",
    "        image = np.array(Image.open(BytesIO(np.array(self.hdf5_file[image_id]))),dtype=np.float32)/255\n",
    "        \n",
    "        if self.transform:\n",
    "            image = self.transform(image=image)\n",
    "            image = image['image']\n",
    "\n",
    "        if self.labels is not None:\n",
    "            label = self.labels.iloc[idx]\n",
    "            return image, label\n",
    "        else:\n",
    "            return image\n",
    "\n",
    "   "
   ]
  },
  {
   "cell_type": "code",
   "execution_count": 12,
   "id": "6e8dd797",
   "metadata": {
    "execution": {
     "iopub.execute_input": "2024-07-23T09:42:25.466496Z",
     "iopub.status.busy": "2024-07-23T09:42:25.465939Z",
     "iopub.status.idle": "2024-07-23T09:42:25.469628Z",
     "shell.execute_reply": "2024-07-23T09:42:25.468824Z"
    },
    "papermill": {
     "duration": 0.014736,
     "end_time": "2024-07-23T09:42:25.471468",
     "exception": false,
     "start_time": "2024-07-23T09:42:25.456732",
     "status": "completed"
    },
    "tags": []
   },
   "outputs": [],
   "source": [
    "# HyperParameters\n",
    "dim = 224 \n",
    "batch_size = 64"
   ]
  },
  {
   "cell_type": "code",
   "execution_count": 13,
   "id": "7a7e17a4",
   "metadata": {
    "execution": {
     "iopub.execute_input": "2024-07-23T09:42:25.489998Z",
     "iopub.status.busy": "2024-07-23T09:42:25.489253Z",
     "iopub.status.idle": "2024-07-23T09:42:25.496966Z",
     "shell.execute_reply": "2024-07-23T09:42:25.496123Z"
    },
    "papermill": {
     "duration": 0.019168,
     "end_time": "2024-07-23T09:42:25.498925",
     "exception": false,
     "start_time": "2024-07-23T09:42:25.479757",
     "status": "completed"
    },
    "tags": []
   },
   "outputs": [],
   "source": [
    "train_transform = A.Compose([\n",
    "    A.Resize(height=dim, width=dim), #resize \n",
    "    A.OneOf([A.RGBShift(r_shift_limit=15, g_shift_limit=15, b_shift_limit=15),\n",
    "             A.RandomBrightnessContrast() \n",
    "             ], p=0.5),\n",
    "    A.HorizontalFlip(p=0.5),\n",
    "    A.VerticalFlip(p=0.5),\n",
    "    # !!One needs to change the mean and std values to appropriate ones for this dataset.!!\n",
    "    A.transforms.Normalize(mean=[0.485, 0.456, 0.406], std=[0.229, 0.224, 0.225], max_pixel_value=1.0),\n",
    "    ToTensorV2(),\n",
    "])\n",
    "\n",
    "\n",
    "test_transform = A.Compose([\n",
    "    A.Resize(height=dim, width=dim), #resize \n",
    "    # !!One needs to change the mean and std values to appropriate ones for this dataset.!!\n",
    "    A.transforms.Normalize(mean=[0.485, 0.456, 0.406], std=[0.229, 0.224, 0.225], max_pixel_value=1.0),\n",
    "    ToTensorV2(),\n",
    "])"
   ]
  },
  {
   "cell_type": "code",
   "execution_count": 14,
   "id": "8ebf8fb9",
   "metadata": {
    "execution": {
     "iopub.execute_input": "2024-07-23T09:42:25.517136Z",
     "iopub.status.busy": "2024-07-23T09:42:25.516867Z",
     "iopub.status.idle": "2024-07-23T09:42:25.533579Z",
     "shell.execute_reply": "2024-07-23T09:42:25.532686Z"
    },
    "papermill": {
     "duration": 0.028233,
     "end_time": "2024-07-23T09:42:25.535601",
     "exception": false,
     "start_time": "2024-07-23T09:42:25.507368",
     "status": "completed"
    },
    "tags": []
   },
   "outputs": [],
   "source": [
    "train_dataset = CustomDataset(train_hdf5_path,train_metadata_df,target=train_metadata_df['target'],transform=train_transform)\n",
    "# train_image_dataset = CustomDatasetImage(train_image_path,train_metadata_df,target=train_metadata_df['target'],transform=train_transform)\n",
    "val_dataset = CustomDataset(train_hdf5_path,val_metadata_df,target=val_metadata_df['target'],transform=train_transform)\n",
    "test_dataset = CustomDataset(test_hdf5_path,test_metadata_df,transform=test_transform)"
   ]
  },
  {
   "cell_type": "code",
   "execution_count": 15,
   "id": "1bbe63c8",
   "metadata": {
    "execution": {
     "iopub.execute_input": "2024-07-23T09:42:25.554141Z",
     "iopub.status.busy": "2024-07-23T09:42:25.553420Z",
     "iopub.status.idle": "2024-07-23T09:42:25.558946Z",
     "shell.execute_reply": "2024-07-23T09:42:25.558111Z"
    },
    "papermill": {
     "duration": 0.016719,
     "end_time": "2024-07-23T09:42:25.560818",
     "exception": false,
     "start_time": "2024-07-23T09:42:25.544099",
     "status": "completed"
    },
    "tags": []
   },
   "outputs": [],
   "source": [
    "n_w = 0\n",
    "if iskaggle:\n",
    "    n_w = 4\n",
    "train_loader = DataLoader(train_dataset,batch_size=batch_size,shuffle=True,num_workers=n_w)\n",
    "val_loader = DataLoader(val_dataset,batch_size=batch_size,shuffle=True,num_workers=n_w)\n",
    "test_loader = DataLoader(test_dataset,batch_size=batch_size,shuffle=False,num_workers=n_w)"
   ]
  },
  {
   "cell_type": "code",
   "execution_count": 16,
   "id": "b984ef64",
   "metadata": {
    "execution": {
     "iopub.execute_input": "2024-07-23T09:42:25.579417Z",
     "iopub.status.busy": "2024-07-23T09:42:25.578698Z",
     "iopub.status.idle": "2024-07-23T09:42:25.584350Z",
     "shell.execute_reply": "2024-07-23T09:42:25.583516Z"
    },
    "papermill": {
     "duration": 0.017141,
     "end_time": "2024-07-23T09:42:25.586326",
     "exception": false,
     "start_time": "2024-07-23T09:42:25.569185",
     "status": "completed"
    },
    "tags": []
   },
   "outputs": [],
   "source": [
    "from sklearn.metrics import roc_curve, auc\n",
    "\n",
    "def calculate_partial_auc_by_tpr(y_true, y_scores, max_tpr=0.8):\n",
    "    # Calculate the ROC curve\n",
    "    fpr, tpr, thresholds = roc_curve(y_true, y_scores)\n",
    "    \n",
    "    # Limit the TPR to the specified minimum TPR\n",
    "    mask = tpr >= max_tpr\n",
    "    fpr, tpr = fpr[mask], tpr[mask]\n",
    "    \n",
    "    # Calculate the partial AUC\n",
    "    partial_auc = auc(fpr, tpr)\n",
    "    \n",
    "    # Normalize the partial AUC to the range [0, 1]\n",
    "    partial_auc /= max_tpr\n",
    "    \n",
    "    return partial_auc"
   ]
  },
  {
   "cell_type": "code",
   "execution_count": 17,
   "id": "62cd8e60",
   "metadata": {
    "execution": {
     "iopub.execute_input": "2024-07-23T09:42:25.605027Z",
     "iopub.status.busy": "2024-07-23T09:42:25.604721Z",
     "iopub.status.idle": "2024-07-23T09:42:25.640826Z",
     "shell.execute_reply": "2024-07-23T09:42:25.640033Z"
    },
    "papermill": {
     "duration": 0.047882,
     "end_time": "2024-07-23T09:42:25.642695",
     "exception": false,
     "start_time": "2024-07-23T09:42:25.594813",
     "status": "completed"
    },
    "tags": []
   },
   "outputs": [],
   "source": [
    "class Model(nn.Module):\n",
    "    def __init__(self,num_classes,device,dim = 32,num_epochs = 20,learning_rate = 0.001,early_stopping = False):\n",
    "        super().__init__()\n",
    "        self.num_of_classes = num_classes\n",
    "        self.device = device\n",
    "        self.dim = dim\n",
    "        # Debugging\n",
    "        self.DEBUG = True\n",
    "        # Hyperparameters\n",
    "        self.num_epochs = num_epochs\n",
    "        self.learning_rate = learning_rate\n",
    "        self.early_stopping = early_stopping\n",
    "        # History while Training\n",
    "        self.model_loss_history = []\n",
    "\n",
    "        self.model_train_acc_history = []\n",
    "        self.model_train_pauc_history = []\n",
    "        \n",
    "        self.model_val_acc_history = []\n",
    "        self.model_val_precision_history = []\n",
    "        self.model_val_recall_history = []\n",
    "        self.model_val_pauc_history = []\n",
    "        \n",
    "        self.model_lr_history = []\n",
    "\n",
    "        # Model Attributes\n",
    "        self.criterion = nn.BCEWithLogitsLoss()\n",
    "        self.optimizer = None\n",
    "        self.accuracy = Accuracy(task= 'binary', average='macro').to(self.device)\n",
    "        self.precision = Precision(task= 'binary', average='macro').to(self.device)\n",
    "        self.recall = Recall(task= 'binary', average='macro').to(self.device)\n",
    "        # Feature Extraction\n",
    "        self.feature_extract = nn.Sequential(\n",
    "            nn.Conv2d(in_channels=3, out_channels=32, kernel_size=7, padding=1),\n",
    "            nn.MaxPool2d(kernel_size=2),\n",
    "            nn.Conv2d(in_channels=32, out_channels=64, kernel_size=5, padding=1),\n",
    "            nn.MaxPool2d(kernel_size=2),\n",
    "            nn.Conv2d(in_channels=64, out_channels=128, kernel_size=5, padding=1),\n",
    "            nn.MaxPool2d(kernel_size=2),\n",
    "            nn.Conv2d(in_channels=128, out_channels=64, kernel_size=3, padding=1),\n",
    "            nn.MaxPool2d(kernel_size=2),\n",
    "            nn.Conv2d(in_channels=64, out_channels=32, kernel_size=3, padding=1),\n",
    "            nn.MaxPool2d(kernel_size=2),\n",
    "            nn.Flatten()\n",
    "        )\n",
    "        \n",
    "        # Classifier\n",
    "        self.classifier = nn.Sequential(\n",
    "            nn.Linear(1152 , 200),  # Adjust the size based on the input image size\n",
    "            nn.ReLU(),\n",
    "            nn.Dropout(0.5),\n",
    "            nn.Linear(200, 100),\n",
    "            nn.ReLU(),\n",
    "            nn.Dropout(0.5),\n",
    "            nn.Linear(100, 1)\n",
    "\n",
    "        )\n",
    "        \n",
    "    def forward(self, x):\n",
    "        x = self.feature_extract(x)\n",
    "        x = self.classifier(x)\n",
    "        return x\n",
    "    \n",
    "    def predict(self, img):\n",
    "        '''\n",
    "        returns the predicted classes for the given images\n",
    "        '''\n",
    "        self.eval()\n",
    "        with torch.no_grad():\n",
    "            img = img.to(self.device)\n",
    "            output = self(img)\n",
    "            prob_outputs = torch.sigmoid(output)\n",
    "            return prob_outputs\n",
    "            \n",
    "        \n",
    "\n",
    "    \n",
    "    def eval_val(self, data_loader):\n",
    "        '''\n",
    "        returns the accuracy, precision, recall , partial AUC, predicted probabilities and actual labels for the given data loader\n",
    "        '''\n",
    "        self.eval()\n",
    "        y_prob_pred = []\n",
    "        y_actual = []\n",
    "        with torch.no_grad():\n",
    "            for images, actuals in data_loader:\n",
    "                \n",
    "                images, actuals = images.to(self.device), actuals.to(self.device)\n",
    "                # Get the model predictions\n",
    "                output = self(images)\n",
    "                # Get the probability outputs\n",
    "                prob_outputs = torch.sigmoid(output)\n",
    "                # Get the binary predictions\n",
    "                batch_pred = (prob_outputs > 0.5).float()\n",
    "                # Reshape the actuals\n",
    "                actuals = actuals.unsqueeze(1).float()\n",
    "\n",
    "                y_prob_pred.extend(prob_outputs.cpu().numpy())\n",
    "                y_actual.extend(actuals.cpu().numpy())\n",
    "\n",
    "                # Update the metrics\n",
    "                self.accuracy(batch_pred, actuals)\n",
    "                self.precision(batch_pred, actuals)\n",
    "                self.recall(batch_pred, actuals)\n",
    "        \n",
    "        # Calculate the partial AUC\n",
    "        partial_auc = calculate_partial_auc_by_tpr(y_true=y_actual, y_scores=y_prob_pred, max_tpr=0.8)\n",
    "\n",
    "\n",
    "        return self.accuracy.compute(), self.precision.compute(), self.recall.compute(), partial_auc, y_prob_pred, y_actual\n",
    "    \n",
    "    def train_model(self, train_loader, val_loader):\n",
    "        \n",
    "        last_accuracy = -100\n",
    "        self.optimizer = optim.Adam(self.parameters(), lr=self.learning_rate)\n",
    "        scaler = GradScaler()\n",
    "\n",
    "        for epoch in range(self.num_epochs):\n",
    "            self.train()\n",
    "            running_loss = 0.0\n",
    "\n",
    "            for i, (images, labels) in enumerate(train_loader):\n",
    "                \n",
    "                images, labels = images.to(self.device), labels.to(self.device)\n",
    "                self.optimizer.zero_grad()\n",
    "                with autocast():\n",
    "                    outputs = self(images)\n",
    "                    labels = labels.unsqueeze(1).float()\n",
    "                    loss = self.criterion(outputs, labels)\n",
    "                scaler.scale(loss).backward()\n",
    "                scaler.step(self.optimizer)\n",
    "                scaler.update()\n",
    "\n",
    "                running_loss += loss.item()\n",
    "                if i%1000 == 0 and self.DEBUG:\n",
    "                    print(\" Step [{}/{}] Loss: {}\".format(i, len(train_loader), loss.item()))\n",
    "                    \n",
    "            val_acc, val_precision, val_recall, val_pauc, _ , _ = self.eval_val(val_loader)\n",
    "            train_acc, _, _, train_pauc, _, _ = self.eval_val(train_loader)\n",
    "\n",
    "            self.model_loss_history.append(running_loss/len(train_loader))\n",
    "            self.model_train_acc_history.append(train_acc.item())\n",
    "            self.model_train_pauc_history.append(train_pauc)\n",
    "            self.model_val_acc_history.append(val_acc.item())\n",
    "            self.model_val_precision_history.append(val_precision.item())\n",
    "            self.model_val_recall_history.append(val_recall.item())\n",
    "            self.model_val_pauc_history.append(val_pauc)\n",
    "            self.model_lr_history.append(self.optimizer.param_groups[0]['lr'])\n",
    "            \n",
    "            print(f'Epoch: {epoch+1}/{self.num_epochs}, Loss: {loss.item()},Train Acc: {train_acc}, Val Acc: {val_acc}, Val Precision: {val_precision}, Val Recall: {val_recall},Train PAUC: {train_pauc}, Val PAUC: {val_pauc}')\n",
    "            \n",
    "            if val_acc > last_accuracy:\n",
    "                last_accuracy = val_acc\n",
    "            elif self.early_stopping:\n",
    "                break\n",
    "        \n",
    "        print('Finished Training')\n",
    "\n",
    "    def plot_history(self):\n",
    "        # making two plots one for loss and other for accuracy\n",
    "        fig, axs = plt.subplots(2, 3, figsize=(15, 10))\n",
    "        fig.suptitle('Model Training History')\n",
    "        axs[0, 0].plot(self.model_loss_history)\n",
    "        axs[0, 0].set_title('Model Loss')\n",
    "        axs[0, 0].set_xlabel('Epochs')\n",
    "        axs[0, 0].set_ylabel('Loss')\n",
    "\n",
    "        axs[0, 1].plot(self.model_train_acc_history, label='Train')\n",
    "        axs[0, 1].plot(self.model_val_acc_history, label='Val')\n",
    "        axs[0, 1].set_title('Model Accuracy')\n",
    "        axs[0, 1].set_xlabel('Epochs')\n",
    "        axs[0, 1].set_ylabel('Accuracy')\n",
    "        axs[0, 1].legend()\n",
    "\n",
    "        axs[1, 0].plot(self.model_val_precision_history)\n",
    "        axs[1, 0].set_title('Model Precision')\n",
    "        axs[1, 0].set_xlabel('Epochs')\n",
    "        axs[1, 0].set_ylabel('Precision')\n",
    "        \n",
    "        axs[1, 1].plot(self.model_val_recall_history)\n",
    "        axs[1, 1].set_title('Model Recall')\n",
    "        axs[1, 1].set_xlabel('Epochs')\n",
    "        axs[1, 1].set_ylabel('Recall')\n",
    "\n",
    "        axs[0, 2].plot(self.model_lr_history)\n",
    "        axs[0, 2].set_title('Learning Rate')\n",
    "        axs[0, 2].set_xlabel('Epochs')\n",
    "        axs[0, 2].set_ylabel('Learning Rate')\n",
    "        \n",
    "        axs[1, 2].plot(self.model_val_pauc_history)\n",
    "        axs[1, 2].set_title('Model Partial AUC')\n",
    "        axs[1, 2].set_xlabel('Epochs')\n",
    "        axs[1, 2].set_ylabel('Partial AUC')\n",
    "        \n",
    "\n",
    "        plt.show()\n",
    "    \n",
    "    def save_model(self):\n",
    "        torch.save(self.state_dict(),type(self).__name__+'.pth')\n",
    "\n",
    "    def print_summary(self):\n",
    "        summary(self, (3, self.dim, self.dim))"
   ]
  },
  {
   "cell_type": "code",
   "execution_count": 18,
   "id": "a0c74bf1",
   "metadata": {
    "execution": {
     "iopub.execute_input": "2024-07-23T09:42:25.660860Z",
     "iopub.status.busy": "2024-07-23T09:42:25.660587Z",
     "iopub.status.idle": "2024-07-23T09:42:26.417006Z",
     "shell.execute_reply": "2024-07-23T09:42:26.416140Z"
    },
    "papermill": {
     "duration": 0.768156,
     "end_time": "2024-07-23T09:42:26.419361",
     "exception": false,
     "start_time": "2024-07-23T09:42:25.651205",
     "status": "completed"
    },
    "tags": []
   },
   "outputs": [
    {
     "name": "stdout",
     "output_type": "stream",
     "text": [
      "----------------------------------------------------------------\n",
      "        Layer (type)               Output Shape         Param #\n",
      "================================================================\n",
      "            Conv2d-1         [-1, 32, 220, 220]           4,736\n",
      "         MaxPool2d-2         [-1, 32, 110, 110]               0\n",
      "            Conv2d-3         [-1, 64, 108, 108]          51,264\n",
      "         MaxPool2d-4           [-1, 64, 54, 54]               0\n",
      "            Conv2d-5          [-1, 128, 52, 52]         204,928\n",
      "         MaxPool2d-6          [-1, 128, 26, 26]               0\n",
      "            Conv2d-7           [-1, 64, 26, 26]          73,792\n",
      "         MaxPool2d-8           [-1, 64, 13, 13]               0\n",
      "            Conv2d-9           [-1, 32, 13, 13]          18,464\n",
      "        MaxPool2d-10             [-1, 32, 6, 6]               0\n",
      "          Flatten-11                 [-1, 1152]               0\n",
      "           Linear-12                  [-1, 200]         230,600\n",
      "             ReLU-13                  [-1, 200]               0\n",
      "          Dropout-14                  [-1, 200]               0\n",
      "           Linear-15                  [-1, 100]          20,100\n",
      "             ReLU-16                  [-1, 100]               0\n",
      "          Dropout-17                  [-1, 100]               0\n",
      "           Linear-18                    [-1, 1]             101\n",
      "================================================================\n",
      "Total params: 603,985\n",
      "Trainable params: 603,985\n",
      "Non-trainable params: 0\n",
      "----------------------------------------------------------------\n",
      "Input size (MB): 0.57\n",
      "Forward/backward pass size (MB): 25.67\n",
      "Params size (MB): 2.30\n",
      "Estimated Total Size (MB): 28.55\n",
      "----------------------------------------------------------------\n"
     ]
    }
   ],
   "source": [
    "num_of_classes = 2\n",
    "cnn = Model(num_classes=num_of_classes, \n",
    "            device=device, \n",
    "            dim=dim, \n",
    "            num_epochs=20, \n",
    "            learning_rate=0.001,\n",
    "            early_stopping=False)\n",
    "cnn.to(device)\n",
    "cnn.print_summary()"
   ]
  },
  {
   "cell_type": "code",
   "execution_count": 19,
   "id": "d7a327cd",
   "metadata": {
    "execution": {
     "iopub.execute_input": "2024-07-23T09:42:26.438165Z",
     "iopub.status.busy": "2024-07-23T09:42:26.437855Z",
     "iopub.status.idle": "2024-07-23T09:44:52.293446Z",
     "shell.execute_reply": "2024-07-23T09:44:52.292239Z"
    },
    "papermill": {
     "duration": 145.867711,
     "end_time": "2024-07-23T09:44:52.295782",
     "exception": false,
     "start_time": "2024-07-23T09:42:26.428071",
     "status": "completed"
    },
    "tags": []
   },
   "outputs": [
    {
     "name": "stdout",
     "output_type": "stream",
     "text": [
      " Step [0/30] Loss: 0.6758519411087036\n",
      "Epoch: 1/20, Loss: 0.41508227586746216,Train Acc: 0.8333333134651184, Val Acc: 0.8326271176338196, Val Precision: 0.0, Val Recall: 0.0,Train PAUC: 0.3025452383267694, Val PAUC: 0.24845395690404873\n",
      " Step [0/30] Loss: 0.49005866050720215\n",
      "Epoch: 2/20, Loss: 0.38711437582969666,Train Acc: 0.8333333134651184, Val Acc: 0.8332155346870422, Val Precision: 0.0, Val Recall: 0.0,Train PAUC: 0.3600339236803294, Val PAUC: 0.36358182755177637\n",
      " Step [0/30] Loss: 0.4436274766921997\n",
      "Epoch: 3/20, Loss: 0.5341012477874756,Train Acc: 0.8333333134651184, Val Acc: 0.8332690596580505, Val Precision: 0.0, Val Recall: 0.0,Train PAUC: 0.2413061072754089, Val PAUC: 0.15389973266338136\n",
      " Step [0/30] Loss: 0.5761592388153076\n",
      "Epoch: 4/20, Loss: 0.350193589925766,Train Acc: 0.8333333134651184, Val Acc: 0.8332891464233398, Val Precision: 0.0, Val Recall: 0.0,Train PAUC: 0.2676858458533898, Val PAUC: 0.1161344091216542\n",
      " Step [0/30] Loss: 0.6623417139053345\n",
      "Epoch: 5/20, Loss: 0.3236917555332184,Train Acc: 0.8333333134651184, Val Acc: 0.8332996964454651, Val Precision: 0.0, Val Recall: 0.0,Train PAUC: 0.27387623377254827, Val PAUC: 0.23132267207781743\n",
      " Step [0/30] Loss: 0.5086138248443604\n",
      "Epoch: 6/20, Loss: 0.622153639793396,Train Acc: 0.8333333134651184, Val Acc: 0.8333061337471008, Val Precision: 0.0, Val Recall: 0.0,Train PAUC: 0.3307356242200289, Val PAUC: 0.43176474377556606\n",
      " Step [0/30] Loss: 0.40160635113716125\n",
      "Epoch: 7/20, Loss: 0.8127338290214539,Train Acc: 0.8333333134651184, Val Acc: 0.8333105444908142, Val Precision: 0.0, Val Recall: 0.0,Train PAUC: 0.3477025291324289, Val PAUC: 0.26902760331110903\n",
      " Step [0/30] Loss: 0.46645301580429077\n",
      "Epoch: 8/20, Loss: 0.3216397762298584,Train Acc: 0.8333333134651184, Val Acc: 0.8333137035369873, Val Precision: 0.0, Val Recall: 0.0,Train PAUC: 0.2964156273804314, Val PAUC: 0.30061278062292657\n",
      " Step [0/30] Loss: 0.45986902713775635\n",
      "Epoch: 9/20, Loss: 0.527561366558075,Train Acc: 0.8333333134651184, Val Acc: 0.8333160877227783, Val Precision: 0.0, Val Recall: 0.0,Train PAUC: 0.2920764047584318, Val PAUC: 0.4278191129577737\n",
      " Step [0/30] Loss: 0.5410485863685608\n",
      "Epoch: 10/20, Loss: 0.5248036980628967,Train Acc: 0.8333333134651184, Val Acc: 0.8333179950714111, Val Precision: 0.0, Val Recall: 0.0,Train PAUC: 0.36546206706536344, Val PAUC: 0.260713595516475\n",
      " Step [0/30] Loss: 0.431925892829895\n",
      "Epoch: 11/20, Loss: 0.5752519369125366,Train Acc: 0.8333333134651184, Val Acc: 0.8333194851875305, Val Precision: 0.0, Val Recall: 0.0,Train PAUC: 0.19932314711268856, Val PAUC: 0.19619447933777817\n",
      " Step [0/30] Loss: 0.3835890293121338\n",
      "Epoch: 12/20, Loss: 0.6413641571998596,Train Acc: 0.8333333134651184, Val Acc: 0.8333207368850708, Val Precision: 0.0, Val Recall: 0.0,Train PAUC: 0.3581738950746341, Val PAUC: 0.32555480400682835\n",
      " Step [0/30] Loss: 0.5200690031051636\n",
      "Epoch: 13/20, Loss: 0.44881340861320496,Train Acc: 0.8333333134651184, Val Acc: 0.833321750164032, Val Precision: 0.0, Val Recall: 0.0,Train PAUC: 0.3553692910163531, Val PAUC: 0.3882017586240217\n",
      " Step [0/30] Loss: 0.44946667551994324\n",
      "Epoch: 14/20, Loss: 0.36794260144233704,Train Acc: 0.8333333134651184, Val Acc: 0.8333226442337036, Val Precision: 0.0, Val Recall: 0.0,Train PAUC: 0.25710685402181493, Val PAUC: 0.31901230392630525\n",
      " Step [0/30] Loss: 0.409878134727478\n",
      "Epoch: 15/20, Loss: 0.43668079376220703,Train Acc: 0.8333333134651184, Val Acc: 0.8333233594894409, Val Precision: 0.0, Val Recall: 0.0,Train PAUC: 0.3542563127015769, Val PAUC: 0.3397671272586723\n",
      " Step [0/30] Loss: 0.5760049819946289\n",
      "Epoch: 16/20, Loss: 0.6420212388038635,Train Acc: 0.8333333134651184, Val Acc: 0.8333240151405334, Val Precision: 0.0, Val Recall: 0.0,Train PAUC: 0.25247767459198395, Val PAUC: 0.3548652043675717\n",
      " Step [0/30] Loss: 0.4860329329967499\n",
      "Epoch: 17/20, Loss: 0.6561886668205261,Train Acc: 0.8333333134651184, Val Acc: 0.8333246111869812, Val Precision: 0.0, Val Recall: 0.0,Train PAUC: 0.33065332206933434, Val PAUC: 0.30236415756755886\n",
      " Step [0/30] Loss: 0.3802737891674042\n",
      "Epoch: 18/20, Loss: 0.5226009488105774,Train Acc: 0.8333333134651184, Val Acc: 0.8333250880241394, Val Precision: 0.0, Val Recall: 0.0,Train PAUC: 0.18692337847036514, Val PAUC: 0.21527844880342706\n",
      " Step [0/30] Loss: 0.46991169452667236\n",
      "Epoch: 19/20, Loss: 0.40814366936683655,Train Acc: 0.8333333134651184, Val Acc: 0.8333255648612976, Val Precision: 0.0, Val Recall: 0.0,Train PAUC: 0.31296215823082285, Val PAUC: 0.3515436274036138\n",
      " Step [0/30] Loss: 0.5401942729949951\n",
      "Epoch: 20/20, Loss: 0.45304635167121887,Train Acc: 0.8333333134651184, Val Acc: 0.833325982093811, Val Precision: 0.0, Val Recall: 0.0,Train PAUC: 0.41720732848738273, Val PAUC: 0.41322430508583763\n",
      "Finished Training\n"
     ]
    }
   ],
   "source": [
    "cnn.train_model(train_loader=train_loader,val_loader=val_loader)"
   ]
  },
  {
   "cell_type": "code",
   "execution_count": 20,
   "id": "1207e245",
   "metadata": {
    "execution": {
     "iopub.execute_input": "2024-07-23T09:44:52.323175Z",
     "iopub.status.busy": "2024-07-23T09:44:52.321941Z",
     "iopub.status.idle": "2024-07-23T09:44:53.305042Z",
     "shell.execute_reply": "2024-07-23T09:44:53.303778Z"
    },
    "papermill": {
     "duration": 0.998906,
     "end_time": "2024-07-23T09:44:53.307523",
     "exception": false,
     "start_time": "2024-07-23T09:44:52.308617",
     "status": "completed"
    },
    "tags": []
   },
   "outputs": [
    {
     "name": "stdout",
     "output_type": "stream",
     "text": [
      "Accuracy: 0.4707177827165266, Precision: 0.0, Recall: 0.0\n"
     ]
    }
   ],
   "source": [
    "cnn_acc , cnn_precision, cnn_recall , cnn_pauc, y_pred, y_actual = cnn.eval_val(val_loader)\n",
    "print(f\"Accuracy: {cnn_pauc}, Precision: {cnn_precision}, Recall: {cnn_recall}\")"
   ]
  },
  {
   "cell_type": "code",
   "execution_count": 21,
   "id": "9170c3ad",
   "metadata": {
    "execution": {
     "iopub.execute_input": "2024-07-23T09:44:53.333462Z",
     "iopub.status.busy": "2024-07-23T09:44:53.333135Z",
     "iopub.status.idle": "2024-07-23T09:44:53.344364Z",
     "shell.execute_reply": "2024-07-23T09:44:53.343463Z"
    },
    "papermill": {
     "duration": 0.02607,
     "end_time": "2024-07-23T09:44:53.346312",
     "exception": false,
     "start_time": "2024-07-23T09:44:53.320242",
     "status": "completed"
    },
    "tags": []
   },
   "outputs": [
    {
     "data": {
      "text/plain": [
       "(472, 0)"
      ]
     },
     "execution_count": 21,
     "metadata": {},
     "output_type": "execute_result"
    }
   ],
   "source": [
    "# 0.5 threshold\n",
    "y_pred = np.array(y_pred)\n",
    "y_actual = np.array(y_actual).astype(int)\n",
    "y_pred = (y_pred > 0.5).astype(int)\n",
    "\n",
    "# output the incorrect predictions\n",
    "incorrect_predictions = np.where(y_pred != y_actual)[0]\n",
    "number_zero = np.sum(y_pred == 0)\n",
    "number_one = np.sum(y_pred == 1)\n",
    "number_zero, number_one"
   ]
  },
  {
   "cell_type": "code",
   "execution_count": 22,
   "id": "041edf28",
   "metadata": {
    "execution": {
     "iopub.execute_input": "2024-07-23T09:44:53.371477Z",
     "iopub.status.busy": "2024-07-23T09:44:53.370933Z",
     "iopub.status.idle": "2024-07-23T09:44:53.375644Z",
     "shell.execute_reply": "2024-07-23T09:44:53.374708Z"
    },
    "papermill": {
     "duration": 0.019718,
     "end_time": "2024-07-23T09:44:53.377797",
     "exception": false,
     "start_time": "2024-07-23T09:44:53.358079",
     "status": "completed"
    },
    "tags": []
   },
   "outputs": [
    {
     "name": "stdout",
     "output_type": "stream",
     "text": [
      "Partial AUC: 0.4707177827165266\n"
     ]
    }
   ],
   "source": [
    "print(f\"Partial AUC: {cnn_pauc}\")\n"
   ]
  },
  {
   "cell_type": "code",
   "execution_count": 23,
   "id": "16661bbf",
   "metadata": {
    "execution": {
     "iopub.execute_input": "2024-07-23T09:44:53.403108Z",
     "iopub.status.busy": "2024-07-23T09:44:53.402824Z",
     "iopub.status.idle": "2024-07-23T09:44:53.416015Z",
     "shell.execute_reply": "2024-07-23T09:44:53.415216Z"
    },
    "papermill": {
     "duration": 0.028478,
     "end_time": "2024-07-23T09:44:53.417998",
     "exception": false,
     "start_time": "2024-07-23T09:44:53.389520",
     "status": "completed"
    },
    "tags": []
   },
   "outputs": [],
   "source": [
    "cnn.save_model()"
   ]
  },
  {
   "cell_type": "code",
   "execution_count": 24,
   "id": "b9c9d2e9",
   "metadata": {
    "execution": {
     "iopub.execute_input": "2024-07-23T09:44:53.443423Z",
     "iopub.status.busy": "2024-07-23T09:44:53.442893Z",
     "iopub.status.idle": "2024-07-23T09:44:53.628808Z",
     "shell.execute_reply": "2024-07-23T09:44:53.627618Z"
    },
    "papermill": {
     "duration": 0.200694,
     "end_time": "2024-07-23T09:44:53.630780",
     "exception": false,
     "start_time": "2024-07-23T09:44:53.430086",
     "status": "completed"
    },
    "tags": []
   },
   "outputs": [
    {
     "data": {
      "text/plain": [
       "array([0.28901213, 0.12405448, 0.15512228], dtype=float32)"
      ]
     },
     "execution_count": 24,
     "metadata": {},
     "output_type": "execute_result"
    }
   ],
   "source": [
    "y_prod_pred = []\n",
    "for images in test_loader:\n",
    "    images = images.to(device)\n",
    "    prob_outputs = cnn.predict(images)\n",
    "    y_prod_pred.extend(prob_outputs.cpu().numpy())\n",
    "\n",
    "y_prod_pred = np.array(y_prod_pred)\n",
    "y_prod_pred = y_prod_pred.flatten()\n",
    "y_prod_pred"
   ]
  },
  {
   "cell_type": "code",
   "execution_count": 25,
   "id": "dd7d7470",
   "metadata": {
    "execution": {
     "iopub.execute_input": "2024-07-23T09:44:53.656826Z",
     "iopub.status.busy": "2024-07-23T09:44:53.656444Z",
     "iopub.status.idle": "2024-07-23T09:44:53.672342Z",
     "shell.execute_reply": "2024-07-23T09:44:53.671422Z"
    },
    "papermill": {
     "duration": 0.031309,
     "end_time": "2024-07-23T09:44:53.674314",
     "exception": false,
     "start_time": "2024-07-23T09:44:53.643005",
     "status": "completed"
    },
    "tags": []
   },
   "outputs": [
    {
     "data": {
      "text/html": [
       "<div>\n",
       "<style scoped>\n",
       "    .dataframe tbody tr th:only-of-type {\n",
       "        vertical-align: middle;\n",
       "    }\n",
       "\n",
       "    .dataframe tbody tr th {\n",
       "        vertical-align: top;\n",
       "    }\n",
       "\n",
       "    .dataframe thead th {\n",
       "        text-align: right;\n",
       "    }\n",
       "</style>\n",
       "<table border=\"1\" class=\"dataframe\">\n",
       "  <thead>\n",
       "    <tr style=\"text-align: right;\">\n",
       "      <th></th>\n",
       "      <th>isic_id</th>\n",
       "      <th>target</th>\n",
       "    </tr>\n",
       "  </thead>\n",
       "  <tbody>\n",
       "    <tr>\n",
       "      <th>0</th>\n",
       "      <td>ISIC_0015657</td>\n",
       "      <td>0.289012</td>\n",
       "    </tr>\n",
       "    <tr>\n",
       "      <th>1</th>\n",
       "      <td>ISIC_0015729</td>\n",
       "      <td>0.124054</td>\n",
       "    </tr>\n",
       "    <tr>\n",
       "      <th>2</th>\n",
       "      <td>ISIC_0015740</td>\n",
       "      <td>0.155122</td>\n",
       "    </tr>\n",
       "  </tbody>\n",
       "</table>\n",
       "</div>"
      ],
      "text/plain": [
       "        isic_id    target\n",
       "0  ISIC_0015657  0.289012\n",
       "1  ISIC_0015729  0.124054\n",
       "2  ISIC_0015740  0.155122"
      ]
     },
     "execution_count": 25,
     "metadata": {},
     "output_type": "execute_result"
    }
   ],
   "source": [
    "submission_df = pd.DataFrame({'isic_id': test_metadata_df['isic_id'], 'target': y_prod_pred})\n",
    "submission_df "
   ]
  },
  {
   "cell_type": "code",
   "execution_count": 26,
   "id": "94973b5b",
   "metadata": {
    "execution": {
     "iopub.execute_input": "2024-07-23T09:44:53.700639Z",
     "iopub.status.busy": "2024-07-23T09:44:53.700045Z",
     "iopub.status.idle": "2024-07-23T09:44:53.709298Z",
     "shell.execute_reply": "2024-07-23T09:44:53.708599Z"
    },
    "papermill": {
     "duration": 0.024556,
     "end_time": "2024-07-23T09:44:53.711308",
     "exception": false,
     "start_time": "2024-07-23T09:44:53.686752",
     "status": "completed"
    },
    "tags": []
   },
   "outputs": [],
   "source": [
    "submission_df.to_csv('submission.csv', index=False)"
   ]
  },
  {
   "cell_type": "code",
   "execution_count": null,
   "id": "e698a149",
   "metadata": {
    "papermill": {
     "duration": 0.012078,
     "end_time": "2024-07-23T09:44:53.735841",
     "exception": false,
     "start_time": "2024-07-23T09:44:53.723763",
     "status": "completed"
    },
    "tags": []
   },
   "outputs": [],
   "source": []
  }
 ],
 "metadata": {
  "kaggle": {
   "accelerator": "gpu",
   "dataSources": [
    {
     "databundleVersionId": 9094797,
     "sourceId": 63056,
     "sourceType": "competition"
    }
   ],
   "dockerImageVersionId": 30732,
   "isGpuEnabled": true,
   "isInternetEnabled": true,
   "language": "python",
   "sourceType": "notebook"
  },
  "kernelspec": {
   "display_name": "Python 3",
   "language": "python",
   "name": "python3"
  },
  "language_info": {
   "codemirror_mode": {
    "name": "ipython",
    "version": 3
   },
   "file_extension": ".py",
   "mimetype": "text/x-python",
   "name": "python",
   "nbconvert_exporter": "python",
   "pygments_lexer": "ipython3",
   "version": "3.10.13"
  },
  "papermill": {
   "default_parameters": {},
   "duration": 186.281576,
   "end_time": "2024-07-23T09:44:56.567745",
   "environment_variables": {},
   "exception": null,
   "input_path": "__notebook__.ipynb",
   "output_path": "__notebook__.ipynb",
   "parameters": {},
   "start_time": "2024-07-23T09:41:50.286169",
   "version": "2.5.0"
  }
 },
 "nbformat": 4,
 "nbformat_minor": 5
}
